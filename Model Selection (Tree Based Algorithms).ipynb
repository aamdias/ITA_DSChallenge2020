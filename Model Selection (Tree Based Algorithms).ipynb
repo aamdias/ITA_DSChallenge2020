{
 "cells": [
  {
   "cell_type": "code",
   "execution_count": 1,
   "metadata": {},
   "outputs": [],
   "source": [
    "# Bibliotecas Utilizadas no Pre Processamento\n",
    "import pandas as pd\n",
    "import numpy as np\n",
    "import matplotlib.pyplot as plt\n",
    "import seaborn as sns\n",
    "import mmh3\n",
    "import random\n",
    "%matplotlib inline"
   ]
  },
  {
   "cell_type": "code",
   "execution_count": 2,
   "metadata": {},
   "outputs": [],
   "source": [
    "%%capture\n",
    "from tqdm import notebook as nb_tqdm\n",
    "nb_tqdm.tqdm().pandas()"
   ]
  },
  {
   "cell_type": "markdown",
   "metadata": {},
   "source": [
    "## Importando dados a serem utilizados"
   ]
  },
  {
   "cell_type": "code",
   "execution_count": 3,
   "metadata": {},
   "outputs": [
    {
     "name": "stdout",
     "output_type": "stream",
     "text": [
      "Colunas utilizadas da tabela Sensors:  ['AC', 'FLIGHT', 'TIME', 'PAR_SYS_7', 'PAR_SYS_1', 'PAR_SYS_9']\n",
      "\n",
      "Colunas utilizadas da tabela Messages:  ['AC', 'FLIGHT', 'TIME', 'FLIGHT_PHASE', 'TYPE', 'MESSAGE']\n"
     ]
    }
   ],
   "source": [
    "# Colunas úteis de cada uma das tabelas utilizadas\n",
    "messages_cols = ['AC','FLIGHT','TIME','FLIGHT_PHASE','TYPE','MESSAGE']\n",
    "sensors_cols = ['AC','FLIGHT','TIME','AMBIENT_1','PAR_AC_1','PAR_AC_2',\n",
    "                'PAR_SYS_1','PAR_SYS_2','PAR_SYS_3','PAR_SYS_5','PAR_SYS_7',\n",
    "                'PAR_SYS_8','PAR_SYS_9','PAR_SYS_10']\n",
    "\n",
    "# Escolhendo 3 sensores não essenciais da colunas sensors\n",
    "random_sensors_ind = []\n",
    "while len(random_sensors_ind) != 3:\n",
    "    r = random.randint(3,13)\n",
    "    if r not in random_sensors_ind: random_sensors_ind.append(r)\n",
    "\n",
    "# Colunas a serem utilizadas em cada uma das tabelas\n",
    "sensors_used_cols = [sensors_cols[0],sensors_cols[1],sensors_cols[2],sensors_cols[random_sensors_ind[0]],\n",
    "                     sensors_cols[random_sensors_ind[1]],sensors_cols[random_sensors_ind[2]]]\n",
    "messages_used_cols = messages_cols\n",
    "\n",
    "# Imprimindo features utilizadas\n",
    "print(\"Colunas utilizadas da tabela Sensors: \", sensors_used_cols)\n",
    "print('')\n",
    "print(\"Colunas utilizadas da tabela Messages: \", messages_used_cols)"
   ]
  },
  {
   "cell_type": "code",
   "execution_count": 4,
   "metadata": {},
   "outputs": [],
   "source": [
    "# Importanto dados utilizados\n",
    "messages = pd.read_csv('databases/private-data/messages.csv',usecols=messages_cols)\n",
    "sensors = pd.read_csv('databases/private-data/sensors.csv',usecols=sensors_cols)\n",
    "\n",
    "# Fetching public data\n",
    "public = pd.read_csv('databases/public.csv')"
   ]
  },
  {
   "cell_type": "code",
   "execution_count": 5,
   "metadata": {},
   "outputs": [],
   "source": [
    "# Importando tabela auxiliar da análise da ordem dos voos\n",
    "flight_orders = pd.read_csv('flight_order_analysis.csv')"
   ]
  },
  {
   "cell_type": "markdown",
   "metadata": {},
   "source": [
    "### Restringindo as tabelas Mensagens e Sensores para o Voos com Label"
   ]
  },
  {
   "cell_type": "code",
   "execution_count": 6,
   "metadata": {},
   "outputs": [],
   "source": [
    "# Escolhendo voos\n",
    "public_reduced = public.copy() # Trocar por public.head(NUM_VOOS).copy() se for testar com menos voos\n",
    "\n",
    "# Armazenando os voos que serão previstos\n",
    "flights = set(public_reduced['FLIGHT'].unique())"
   ]
  },
  {
   "cell_type": "code",
   "execution_count": 7,
   "metadata": {},
   "outputs": [],
   "source": [
    "# Reduzindo a tabela flight orders para somente os voos estudados\n",
    "flight_orders_reduced = flight_orders[flight_orders['FLIGHT'].isin(flights)].copy()"
   ]
  },
  {
   "cell_type": "code",
   "execution_count": 8,
   "metadata": {},
   "outputs": [],
   "source": [
    "# Reduzindo sensors e messages para somente os voos estudados\n",
    "sensors_reduced = sensors[sensors['FLIGHT'].isin(flights)].copy()\n",
    "messages_reduced = messages[messages['FLIGHT'].isin(flights)].copy()\n",
    "\n",
    "# Tirando as duplicatas\n",
    "sensors_reduced.drop_duplicates(inplace=True)\n",
    "messages_reduced.drop_duplicates(inplace=True)"
   ]
  },
  {
   "cell_type": "code",
   "execution_count": 9,
   "metadata": {},
   "outputs": [],
   "source": [
    "# Função para limitar o número de linhas por voo\n",
    "def limitNumberOfRowsPerFlight(df,flight_col_name,limit_rows):\n",
    "    # Criando um data frame auxiliar com as mesmas colunas do original\n",
    "    reduced_df = pd.DataFrame(columns = list(df.columns))\n",
    "    \n",
    "    # Setando limite de linhas por VOO\n",
    "    LIMIT_ROWS_PER_FLIGHT = limit_rows\n",
    "    \n",
    "    # Unique Flights in DF\n",
    "    unique_flights = list(df[flight_col_name].unique())\n",
    "    \n",
    "    # Montando a tabela iterando em cada um dos voos únicos\n",
    "    for uf in nb_tqdm.tqdm(unique_flights): \n",
    "        # Armazenando em quais indices do DF original estão os registros desse voo                \n",
    "        indices = list(df[df[flight_col_name] == uf].index)            \n",
    "\n",
    "        # Verificando se o número de Voos é maior que o limite. Se for, faz-se a redução\n",
    "        if len(indices) > LIMIT_ROWS_PER_FLIGHT:\n",
    "            # Escolhendo indices aleatórios\n",
    "            random.seed(4)\n",
    "            limited_indices = random.sample(indices,LIMIT_ROWS_PER_FLIGHT)\n",
    "        else:\n",
    "            limited_indices = indices\n",
    "            \n",
    "        limited_indices.sort() # Garantindo ordem crescente dos índices\n",
    "\n",
    "        # Preenchendo o novo DataFrame\n",
    "        reduced_df = reduced_df.append(df[df.index.isin(limited_indices)],ignore_index=True)\n",
    "            \n",
    "    return reduced_df"
   ]
  },
  {
   "cell_type": "code",
   "execution_count": 10,
   "metadata": {
    "scrolled": false
   },
   "outputs": [
    {
     "data": {
      "application/vnd.jupyter.widget-view+json": {
       "model_id": "29089e18964243ecbe2cf917894f9733",
       "version_major": 2,
       "version_minor": 0
      },
      "text/plain": [
       "HBox(children=(FloatProgress(value=0.0, max=901.0), HTML(value='')))"
      ]
     },
     "metadata": {},
     "output_type": "display_data"
    },
    {
     "name": "stdout",
     "output_type": "stream",
     "text": [
      "\n"
     ]
    },
    {
     "data": {
      "application/vnd.jupyter.widget-view+json": {
       "model_id": "346a7445176e4242a082d2eed9c5cd1a",
       "version_major": 2,
       "version_minor": 0
      },
      "text/plain": [
       "HBox(children=(FloatProgress(value=0.0, max=391.0), HTML(value='')))"
      ]
     },
     "metadata": {},
     "output_type": "display_data"
    },
    {
     "name": "stdout",
     "output_type": "stream",
     "text": [
      "\n"
     ]
    }
   ],
   "source": [
    "# Limitando o número de Linhas por Voo nas tabelas\n",
    "sensors_reduced = limitNumberOfRowsPerFlight(sensors_reduced,'FLIGHT',200)\n",
    "messages_reduced = limitNumberOfRowsPerFlight(messages_reduced,'FLIGHT',200)"
   ]
  },
  {
   "cell_type": "markdown",
   "metadata": {},
   "source": [
    "## Unificando os dados em uma tabela"
   ]
  },
  {
   "cell_type": "code",
   "execution_count": 11,
   "metadata": {
    "scrolled": false
   },
   "outputs": [
    {
     "data": {
      "application/vnd.jupyter.widget-view+json": {
       "model_id": "8bd3171e353445ec868c0e17b230d6fe",
       "version_major": 2,
       "version_minor": 0
      },
      "text/plain": [
       "HBox(children=(FloatProgress(value=0.0, max=14.0), HTML(value='')))"
      ]
     },
     "metadata": {},
     "output_type": "display_data"
    },
    {
     "name": "stdout",
     "output_type": "stream",
     "text": [
      "\n"
     ]
    },
    {
     "data": {
      "application/vnd.jupyter.widget-view+json": {
       "model_id": "4f7f91bf07dc4c058f0b01e7dda54d60",
       "version_major": 2,
       "version_minor": 0
      },
      "text/plain": [
       "HBox(children=(FloatProgress(value=0.0, max=19.0), HTML(value='')))"
      ]
     },
     "metadata": {},
     "output_type": "display_data"
    },
    {
     "name": "stdout",
     "output_type": "stream",
     "text": [
      "\n"
     ]
    },
    {
     "data": {
      "application/vnd.jupyter.widget-view+json": {
       "model_id": "fa54ea27bd3a4815a52919a38f6392f0",
       "version_major": 2,
       "version_minor": 0
      },
      "text/plain": [
       "HBox(children=(FloatProgress(value=0.0, max=19.0), HTML(value='')))"
      ]
     },
     "metadata": {},
     "output_type": "display_data"
    },
    {
     "name": "stdout",
     "output_type": "stream",
     "text": [
      "\n"
     ]
    }
   ],
   "source": [
    "# Unindo flight_orders_reduced com sensors_reduced\n",
    "sensors_reduced.set_index('FLIGHT',inplace=True)\n",
    "flight_orders_reduced.set_index('FLIGHT',inplace=True)\n",
    "\n",
    "sns_and_flights = sensors_reduced.merge(flight_orders_reduced,left_on=\"FLIGHT\",right_on=\"FLIGHT\",how=\"inner\",suffixes=('_sns','_flg')).progress_apply(lambda x:x)\n",
    "\n",
    "# Unindo com a tabela messages\n",
    "messages_reduced.set_index('FLIGHT',inplace=True)\n",
    "\n",
    "sns_and_msg = sns_and_flights.merge(messages_reduced,left_on=\"FLIGHT\",right_on=\"FLIGHT\",how=\"left\",suffixes=('_sns','_msg')).progress_apply(lambda x:x)\n",
    "sns_and_msg.drop('AC_msg',axis=1,inplace=True)\n",
    "\n",
    "# Unindo com a tabela public\n",
    "public_reduced.set_index('FLIGHT',inplace=True)\n",
    "\n",
    "model_data = sns_and_msg.merge(public_reduced,left_on=\"FLIGHT\",right_on=\"FLIGHT\",how=\"left\",suffixes=('_sm','_pb')).progress_apply(lambda x:x)"
   ]
  },
  {
   "cell_type": "code",
   "execution_count": 12,
   "metadata": {},
   "outputs": [],
   "source": [
    "# Voltando para índice original\n",
    "model_data.reset_index(inplace=True)"
   ]
  },
  {
   "cell_type": "code",
   "execution_count": 13,
   "metadata": {
    "scrolled": true
   },
   "outputs": [
    {
     "data": {
      "text/html": [
       "<div>\n",
       "<style scoped>\n",
       "    .dataframe tbody tr th:only-of-type {\n",
       "        vertical-align: middle;\n",
       "    }\n",
       "\n",
       "    .dataframe tbody tr th {\n",
       "        vertical-align: top;\n",
       "    }\n",
       "\n",
       "    .dataframe thead th {\n",
       "        text-align: right;\n",
       "    }\n",
       "</style>\n",
       "<table border=\"1\" class=\"dataframe\">\n",
       "  <thead>\n",
       "    <tr style=\"text-align: right;\">\n",
       "      <th></th>\n",
       "      <th>FLIGHT</th>\n",
       "      <th>AC_sns</th>\n",
       "      <th>TIME_sns</th>\n",
       "      <th>AMBIENT_1</th>\n",
       "      <th>PAR_AC_1</th>\n",
       "      <th>PAR_AC_2</th>\n",
       "      <th>PAR_SYS_1</th>\n",
       "      <th>PAR_SYS_2</th>\n",
       "      <th>PAR_SYS_3</th>\n",
       "      <th>PAR_SYS_9</th>\n",
       "      <th>PAR_SYS_10</th>\n",
       "      <th>PAR_SYS_5</th>\n",
       "      <th>PAR_SYS_7</th>\n",
       "      <th>PAR_SYS_8</th>\n",
       "      <th>ORDER</th>\n",
       "      <th>TIME_msg</th>\n",
       "      <th>FLIGHT_PHASE</th>\n",
       "      <th>TYPE</th>\n",
       "      <th>MESSAGE</th>\n",
       "      <th>MAINTENANCE</th>\n",
       "    </tr>\n",
       "  </thead>\n",
       "  <tbody>\n",
       "    <tr>\n",
       "      <th>0</th>\n",
       "      <td>006042</td>\n",
       "      <td>AC19</td>\n",
       "      <td>3115</td>\n",
       "      <td>11723.0</td>\n",
       "      <td>0.00000</td>\n",
       "      <td>29.11250</td>\n",
       "      <td>65.375</td>\n",
       "      <td>247.0</td>\n",
       "      <td>73.250</td>\n",
       "      <td>0.0</td>\n",
       "      <td>0.0</td>\n",
       "      <td>0.0</td>\n",
       "      <td>0.000</td>\n",
       "      <td>16.2000</td>\n",
       "      <td>20</td>\n",
       "      <td>NaN</td>\n",
       "      <td>NaN</td>\n",
       "      <td>NaN</td>\n",
       "      <td>NaN</td>\n",
       "      <td>4</td>\n",
       "    </tr>\n",
       "    <tr>\n",
       "      <th>1</th>\n",
       "      <td>006042</td>\n",
       "      <td>AC19</td>\n",
       "      <td>3132</td>\n",
       "      <td>11721.0</td>\n",
       "      <td>0.00000</td>\n",
       "      <td>29.28375</td>\n",
       "      <td>65.375</td>\n",
       "      <td>299.0</td>\n",
       "      <td>68.125</td>\n",
       "      <td>0.0</td>\n",
       "      <td>0.0</td>\n",
       "      <td>0.0</td>\n",
       "      <td>0.000</td>\n",
       "      <td>0.0000</td>\n",
       "      <td>20</td>\n",
       "      <td>NaN</td>\n",
       "      <td>NaN</td>\n",
       "      <td>NaN</td>\n",
       "      <td>NaN</td>\n",
       "      <td>4</td>\n",
       "    </tr>\n",
       "    <tr>\n",
       "      <th>2</th>\n",
       "      <td>006042</td>\n",
       "      <td>AC19</td>\n",
       "      <td>3204</td>\n",
       "      <td>11721.0</td>\n",
       "      <td>29.28375</td>\n",
       "      <td>29.45500</td>\n",
       "      <td>44.250</td>\n",
       "      <td>279.0</td>\n",
       "      <td>43.750</td>\n",
       "      <td>0.0</td>\n",
       "      <td>0.0</td>\n",
       "      <td>1.0</td>\n",
       "      <td>99.225</td>\n",
       "      <td>111.0375</td>\n",
       "      <td>20</td>\n",
       "      <td>NaN</td>\n",
       "      <td>NaN</td>\n",
       "      <td>NaN</td>\n",
       "      <td>NaN</td>\n",
       "      <td>4</td>\n",
       "    </tr>\n",
       "    <tr>\n",
       "      <th>3</th>\n",
       "      <td>006042</td>\n",
       "      <td>AC19</td>\n",
       "      <td>3218</td>\n",
       "      <td>11721.5</td>\n",
       "      <td>29.45500</td>\n",
       "      <td>29.62625</td>\n",
       "      <td>43.875</td>\n",
       "      <td>230.0</td>\n",
       "      <td>43.500</td>\n",
       "      <td>0.0</td>\n",
       "      <td>0.0</td>\n",
       "      <td>1.0</td>\n",
       "      <td>112.725</td>\n",
       "      <td>121.1625</td>\n",
       "      <td>20</td>\n",
       "      <td>NaN</td>\n",
       "      <td>NaN</td>\n",
       "      <td>NaN</td>\n",
       "      <td>NaN</td>\n",
       "      <td>4</td>\n",
       "    </tr>\n",
       "    <tr>\n",
       "      <th>4</th>\n",
       "      <td>006042</td>\n",
       "      <td>AC19</td>\n",
       "      <td>3266</td>\n",
       "      <td>11721.0</td>\n",
       "      <td>29.28375</td>\n",
       "      <td>29.62625</td>\n",
       "      <td>42.875</td>\n",
       "      <td>265.0</td>\n",
       "      <td>43.375</td>\n",
       "      <td>0.0</td>\n",
       "      <td>0.0</td>\n",
       "      <td>1.0</td>\n",
       "      <td>129.600</td>\n",
       "      <td>123.1875</td>\n",
       "      <td>20</td>\n",
       "      <td>NaN</td>\n",
       "      <td>NaN</td>\n",
       "      <td>NaN</td>\n",
       "      <td>NaN</td>\n",
       "      <td>4</td>\n",
       "    </tr>\n",
       "    <tr>\n",
       "      <th>...</th>\n",
       "      <td>...</td>\n",
       "      <td>...</td>\n",
       "      <td>...</td>\n",
       "      <td>...</td>\n",
       "      <td>...</td>\n",
       "      <td>...</td>\n",
       "      <td>...</td>\n",
       "      <td>...</td>\n",
       "      <td>...</td>\n",
       "      <td>...</td>\n",
       "      <td>...</td>\n",
       "      <td>...</td>\n",
       "      <td>...</td>\n",
       "      <td>...</td>\n",
       "      <td>...</td>\n",
       "      <td>...</td>\n",
       "      <td>...</td>\n",
       "      <td>...</td>\n",
       "      <td>...</td>\n",
       "      <td>...</td>\n",
       "    </tr>\n",
       "    <tr>\n",
       "      <th>638395</th>\n",
       "      <td>fe38f6</td>\n",
       "      <td>AC36</td>\n",
       "      <td>5689</td>\n",
       "      <td>12230.0</td>\n",
       "      <td>30.65375</td>\n",
       "      <td>13.87125</td>\n",
       "      <td>44.375</td>\n",
       "      <td>245.0</td>\n",
       "      <td>22.750</td>\n",
       "      <td>0.0</td>\n",
       "      <td>0.0</td>\n",
       "      <td>1.0</td>\n",
       "      <td>98.550</td>\n",
       "      <td>44.5500</td>\n",
       "      <td>36</td>\n",
       "      <td>NaN</td>\n",
       "      <td>NaN</td>\n",
       "      <td>NaN</td>\n",
       "      <td>NaN</td>\n",
       "      <td>10</td>\n",
       "    </tr>\n",
       "    <tr>\n",
       "      <th>638396</th>\n",
       "      <td>fe38f6</td>\n",
       "      <td>AC36</td>\n",
       "      <td>5699</td>\n",
       "      <td>12230.5</td>\n",
       "      <td>0.00000</td>\n",
       "      <td>0.00000</td>\n",
       "      <td>22.250</td>\n",
       "      <td>234.0</td>\n",
       "      <td>21.125</td>\n",
       "      <td>0.0</td>\n",
       "      <td>0.0</td>\n",
       "      <td>0.0</td>\n",
       "      <td>0.000</td>\n",
       "      <td>0.0000</td>\n",
       "      <td>36</td>\n",
       "      <td>NaN</td>\n",
       "      <td>NaN</td>\n",
       "      <td>NaN</td>\n",
       "      <td>NaN</td>\n",
       "      <td>10</td>\n",
       "    </tr>\n",
       "    <tr>\n",
       "      <th>638397</th>\n",
       "      <td>fe38f6</td>\n",
       "      <td>AC36</td>\n",
       "      <td>5719</td>\n",
       "      <td>12231.5</td>\n",
       "      <td>10.44625</td>\n",
       "      <td>0.00000</td>\n",
       "      <td>22.375</td>\n",
       "      <td>235.0</td>\n",
       "      <td>21.125</td>\n",
       "      <td>0.0</td>\n",
       "      <td>0.0</td>\n",
       "      <td>0.0</td>\n",
       "      <td>0.000</td>\n",
       "      <td>0.0000</td>\n",
       "      <td>36</td>\n",
       "      <td>NaN</td>\n",
       "      <td>NaN</td>\n",
       "      <td>NaN</td>\n",
       "      <td>NaN</td>\n",
       "      <td>10</td>\n",
       "    </tr>\n",
       "    <tr>\n",
       "      <th>638398</th>\n",
       "      <td>fe38f6</td>\n",
       "      <td>AC36</td>\n",
       "      <td>5736</td>\n",
       "      <td>12234.0</td>\n",
       "      <td>0.00000</td>\n",
       "      <td>0.00000</td>\n",
       "      <td>22.250</td>\n",
       "      <td>234.0</td>\n",
       "      <td>21.125</td>\n",
       "      <td>0.0</td>\n",
       "      <td>0.0</td>\n",
       "      <td>0.0</td>\n",
       "      <td>0.000</td>\n",
       "      <td>0.0000</td>\n",
       "      <td>36</td>\n",
       "      <td>NaN</td>\n",
       "      <td>NaN</td>\n",
       "      <td>NaN</td>\n",
       "      <td>NaN</td>\n",
       "      <td>10</td>\n",
       "    </tr>\n",
       "    <tr>\n",
       "      <th>638399</th>\n",
       "      <td>fe38f6</td>\n",
       "      <td>AC36</td>\n",
       "      <td>5754</td>\n",
       "      <td>12234.5</td>\n",
       "      <td>0.00000</td>\n",
       "      <td>0.00000</td>\n",
       "      <td>22.250</td>\n",
       "      <td>234.0</td>\n",
       "      <td>21.125</td>\n",
       "      <td>0.0</td>\n",
       "      <td>0.0</td>\n",
       "      <td>0.0</td>\n",
       "      <td>0.000</td>\n",
       "      <td>0.0000</td>\n",
       "      <td>36</td>\n",
       "      <td>NaN</td>\n",
       "      <td>NaN</td>\n",
       "      <td>NaN</td>\n",
       "      <td>NaN</td>\n",
       "      <td>10</td>\n",
       "    </tr>\n",
       "  </tbody>\n",
       "</table>\n",
       "<p>638400 rows × 20 columns</p>\n",
       "</div>"
      ],
      "text/plain": [
       "        FLIGHT AC_sns TIME_sns  AMBIENT_1  PAR_AC_1  PAR_AC_2  PAR_SYS_1  \\\n",
       "0       006042   AC19     3115    11723.0   0.00000  29.11250     65.375   \n",
       "1       006042   AC19     3132    11721.0   0.00000  29.28375     65.375   \n",
       "2       006042   AC19     3204    11721.0  29.28375  29.45500     44.250   \n",
       "3       006042   AC19     3218    11721.5  29.45500  29.62625     43.875   \n",
       "4       006042   AC19     3266    11721.0  29.28375  29.62625     42.875   \n",
       "...        ...    ...      ...        ...       ...       ...        ...   \n",
       "638395  fe38f6   AC36     5689    12230.0  30.65375  13.87125     44.375   \n",
       "638396  fe38f6   AC36     5699    12230.5   0.00000   0.00000     22.250   \n",
       "638397  fe38f6   AC36     5719    12231.5  10.44625   0.00000     22.375   \n",
       "638398  fe38f6   AC36     5736    12234.0   0.00000   0.00000     22.250   \n",
       "638399  fe38f6   AC36     5754    12234.5   0.00000   0.00000     22.250   \n",
       "\n",
       "        PAR_SYS_2  PAR_SYS_3  PAR_SYS_9  PAR_SYS_10  PAR_SYS_5  PAR_SYS_7  \\\n",
       "0           247.0     73.250        0.0         0.0        0.0      0.000   \n",
       "1           299.0     68.125        0.0         0.0        0.0      0.000   \n",
       "2           279.0     43.750        0.0         0.0        1.0     99.225   \n",
       "3           230.0     43.500        0.0         0.0        1.0    112.725   \n",
       "4           265.0     43.375        0.0         0.0        1.0    129.600   \n",
       "...           ...        ...        ...         ...        ...        ...   \n",
       "638395      245.0     22.750        0.0         0.0        1.0     98.550   \n",
       "638396      234.0     21.125        0.0         0.0        0.0      0.000   \n",
       "638397      235.0     21.125        0.0         0.0        0.0      0.000   \n",
       "638398      234.0     21.125        0.0         0.0        0.0      0.000   \n",
       "638399      234.0     21.125        0.0         0.0        0.0      0.000   \n",
       "\n",
       "        PAR_SYS_8  ORDER TIME_msg FLIGHT_PHASE TYPE MESSAGE  MAINTENANCE  \n",
       "0         16.2000     20      NaN          NaN  NaN     NaN            4  \n",
       "1          0.0000     20      NaN          NaN  NaN     NaN            4  \n",
       "2        111.0375     20      NaN          NaN  NaN     NaN            4  \n",
       "3        121.1625     20      NaN          NaN  NaN     NaN            4  \n",
       "4        123.1875     20      NaN          NaN  NaN     NaN            4  \n",
       "...           ...    ...      ...          ...  ...     ...          ...  \n",
       "638395    44.5500     36      NaN          NaN  NaN     NaN           10  \n",
       "638396     0.0000     36      NaN          NaN  NaN     NaN           10  \n",
       "638397     0.0000     36      NaN          NaN  NaN     NaN           10  \n",
       "638398     0.0000     36      NaN          NaN  NaN     NaN           10  \n",
       "638399     0.0000     36      NaN          NaN  NaN     NaN           10  \n",
       "\n",
       "[638400 rows x 20 columns]"
      ]
     },
     "execution_count": 13,
     "metadata": {},
     "output_type": "execute_result"
    }
   ],
   "source": [
    "model_data"
   ]
  },
  {
   "cell_type": "markdown",
   "metadata": {},
   "source": [
    "## Data Imputing"
   ]
  },
  {
   "cell_type": "code",
   "execution_count": 14,
   "metadata": {
    "scrolled": true
   },
   "outputs": [
    {
     "data": {
      "text/plain": [
       "FLIGHT               0\n",
       "AC_sns               0\n",
       "TIME_sns             0\n",
       "AMBIENT_1            0\n",
       "PAR_AC_1             0\n",
       "PAR_AC_2             0\n",
       "PAR_SYS_1            0\n",
       "PAR_SYS_2            0\n",
       "PAR_SYS_3            0\n",
       "PAR_SYS_9            0\n",
       "PAR_SYS_10           0\n",
       "PAR_SYS_5            0\n",
       "PAR_SYS_7            0\n",
       "PAR_SYS_8            0\n",
       "ORDER                0\n",
       "TIME_msg        102000\n",
       "FLIGHT_PHASE    102000\n",
       "TYPE            102000\n",
       "MESSAGE         102000\n",
       "MAINTENANCE          0\n",
       "dtype: int64"
      ]
     },
     "execution_count": 14,
     "metadata": {},
     "output_type": "execute_result"
    }
   ],
   "source": [
    "# Checando número de entradas nulas por coluna\n",
    "model_data.isnull().sum()"
   ]
  },
  {
   "cell_type": "code",
   "execution_count": 15,
   "metadata": {},
   "outputs": [],
   "source": [
    "# Data Imputing\n",
    "model_data['TIME_msg'].fillna(0,inplace=True) # Preenchendo com valor O para o caso dos sensores em que não há mensagem\n",
    "model_data['FLIGHT_PHASE'].fillna(0,inplace=True) # Preenchendo com valor 0 para o caso dos sensores em que não há mensagem\n",
    "model_data['TYPE'].fillna('SM',inplace=True) # SM =  Sem Mensagem\n",
    "model_data['MESSAGE'].fillna(100,inplace=True) # Codigo correspondente ao caso da ausência de messagem"
   ]
  },
  {
   "cell_type": "markdown",
   "metadata": {},
   "source": [
    "## Renomeando as colunas"
   ]
  },
  {
   "cell_type": "code",
   "execution_count": 16,
   "metadata": {
    "scrolled": true
   },
   "outputs": [
    {
     "data": {
      "text/plain": [
       "Index(['FLIGHT', 'AC_sns', 'TIME_sns', 'AMBIENT_1', 'PAR_AC_1', 'PAR_AC_2',\n",
       "       'PAR_SYS_1', 'PAR_SYS_2', 'PAR_SYS_3', 'PAR_SYS_9', 'PAR_SYS_10',\n",
       "       'PAR_SYS_5', 'PAR_SYS_7', 'PAR_SYS_8', 'ORDER', 'TIME_msg',\n",
       "       'FLIGHT_PHASE', 'TYPE', 'MESSAGE', 'MAINTENANCE'],\n",
       "      dtype='object')"
      ]
     },
     "execution_count": 16,
     "metadata": {},
     "output_type": "execute_result"
    }
   ],
   "source": [
    "# Colunas atuais\n",
    "model_data.columns"
   ]
  },
  {
   "cell_type": "code",
   "execution_count": 17,
   "metadata": {},
   "outputs": [],
   "source": [
    "# Renomeando as colunas\n",
    "model_data.columns = ['flight','ac','sensor_time','ambient_1','sensor_par_ac_1','sensor_par_ac_2',\n",
    "                      'sensor_par_sys_1','sensor_par_sys_2','sensor_par_sys_3','sensor_par_sys_9',\n",
    "                      'sensor_par_sys_10','sensor_par_sys_5','sensor_par_sys_7','sensor_par_sys_8',\n",
    "                      'order','message_time','flight_phase','message_type','message','target']"
   ]
  },
  {
   "cell_type": "code",
   "execution_count": 18,
   "metadata": {},
   "outputs": [],
   "source": [
    "# Corrigind tipo da coluna sensor_time\n",
    "model_data['sensor_time'] = model_data['sensor_time'].astype(int)"
   ]
  },
  {
   "cell_type": "markdown",
   "metadata": {},
   "source": [
    "## Feature Engineering"
   ]
  },
  {
   "cell_type": "markdown",
   "metadata": {},
   "source": [
    "#### Estudando as correlações de cada uma das features com a variável target"
   ]
  },
  {
   "cell_type": "code",
   "execution_count": 19,
   "metadata": {},
   "outputs": [
    {
     "data": {
      "image/png": "[encoded data removed]",
      "text/plain": [
       "<Figure size 1080x1080 with 2 Axes>"
      ]
     },
     "metadata": {
      "needs_background": "light"
     },
     "output_type": "display_data"
    }
   ],
   "source": [
    "# Separando somente as colunas numéricas\n",
    "num_cols = model_data._get_numeric_data().columns\n",
    "\n",
    "# Slicing data - Somente variáveis numéricas\n",
    "numerical_model_data = model_data[num_cols].copy()\n",
    "\n",
    "# Visão geral das correlações existentes\n",
    "corr = numerical_model_data.corr()\n",
    "fig = plt.figure(figsize=(15,15))\n",
    "ax = fig.add_subplot(111)\n",
    "cax = ax.matshow(corr,cmap='coolwarm', vmin=-1, vmax=1)\n",
    "fig.colorbar(cax)\n",
    "ticks = np.arange(0,len(numerical_model_data.columns),1)\n",
    "ax.set_xticks(ticks)\n",
    "plt.xticks(rotation=90)\n",
    "ax.set_yticks(ticks)\n",
    "ax.set_xticklabels(numerical_model_data.columns)\n",
    "ax.set_yticklabels(numerical_model_data.columns)\n",
    "plt.show()"
   ]
  },
  {
   "cell_type": "code",
   "execution_count": 20,
   "metadata": {},
   "outputs": [
    {
     "name": "stdout",
     "output_type": "stream",
     "text": [
      "A correlação entre o elemento sensor_time e a variável target foi de: -0.025344615352336675\n",
      "A correlação entre o elemento ambient_1 e a variável target foi de: -0.16742070205126566\n",
      "A correlação entre o elemento sensor_par_ac_1 e a variável target foi de: -0.18829166823095753\n",
      "A correlação entre o elemento sensor_par_ac_2 e a variável target foi de: -0.18749626247085677\n",
      "A correlação entre o elemento sensor_par_sys_1 e a variável target foi de: 0.029448582879787685\n",
      "A correlação entre o elemento sensor_par_sys_2 e a variável target foi de: -0.03404121732520424\n",
      "A correlação entre o elemento sensor_par_sys_3 e a variável target foi de: 0.05385666527426065\n",
      "A correlação entre o elemento sensor_par_sys_9 e a variável target foi de: 0.12241818898464582\n",
      "A correlação entre o elemento sensor_par_sys_10 e a variável target foi de: -0.05110241637427282\n",
      "A correlação entre o elemento sensor_par_sys_5 e a variável target foi de: -0.2697703057663402\n",
      "A correlação entre o elemento sensor_par_sys_7 e a variável target foi de: 0.04828855393086789\n",
      "A correlação entre o elemento sensor_par_sys_8 e a variável target foi de: 0.041524974447053144\n",
      "A correlação entre o elemento order e a variável target foi de: -0.9474490509099773\n",
      "A correlação entre o elemento message_time e a variável target foi de: -0.5934807940578513\n",
      "A correlação entre o elemento flight_phase e a variável target foi de: 0.009431456691448754\n",
      "A correlação entre o elemento message e a variável target foi de: 0.053649285023502344\n",
      "A correlação entre o elemento target e a variável target foi de: 0.9999999999999244\n"
     ]
    }
   ],
   "source": [
    "# Biblioteca utilizada\n",
    "from scipy.stats import pearsonr\n",
    "\n",
    "# Iterando entre as colunas numéricas\n",
    "correlations = {}\n",
    "for num_feature in num_cols:\n",
    "    corr,_ = pearsonr(model_data[num_feature],model_data['target']) # Usando correlação de Pearson\n",
    "    correlations[num_feature] = corr\n",
    "    \n",
    "# Imprimindo o resultado\n",
    "for elem in correlations:\n",
    "    print('A correlação entre o elemento {} e a variável target foi de: {}'.format(elem,correlations[elem]))"
   ]
  },
  {
   "cell_type": "markdown",
   "metadata": {},
   "source": [
    "### Variáveis mais relevantes para o modelo"
   ]
  },
  {
   "cell_type": "code",
   "execution_count": 21,
   "metadata": {},
   "outputs": [],
   "source": [
    "relevant_features = ['order','message_time','sensor_par_sys_5','sensor_par_sys_9',\n",
    "                     'sensor_par_ac_1','sensor_par_ac_2','ambient_1']"
   ]
  },
  {
   "cell_type": "markdown",
   "metadata": {},
   "source": [
    "### Encoding de Variáveis Categóricas"
   ]
  },
  {
   "cell_type": "code",
   "execution_count": 22,
   "metadata": {},
   "outputs": [],
   "source": [
    "# Filtrando somente os colunas categóricas\n",
    "cat_cols = set(model_data.columns) - set(num_cols) # Armazenando colunas categóricas"
   ]
  },
  {
   "cell_type": "code",
   "execution_count": 23,
   "metadata": {},
   "outputs": [
    {
     "data": {
      "text/plain": [
       "{'ac', 'flight', 'message_type'}"
      ]
     },
     "execution_count": 23,
     "metadata": {},
     "output_type": "execute_result"
    }
   ],
   "source": [
    "# Printando as variáveis categóricas\n",
    "cat_cols"
   ]
  },
  {
   "cell_type": "code",
   "execution_count": 24,
   "metadata": {},
   "outputs": [],
   "source": [
    "# Hash Function\n",
    "def hash_function(df,cat_name):\n",
    "    return df[cat_name].progress_apply(lambda x: mmh3.hash(x,seed=42,signed=False))"
   ]
  },
  {
   "cell_type": "code",
   "execution_count": 25,
   "metadata": {},
   "outputs": [
    {
     "data": {
      "application/vnd.jupyter.widget-view+json": {
       "model_id": "b5459da0d1c5484fa080b41fac4db1b2",
       "version_major": 2,
       "version_minor": 0
      },
      "text/plain": [
       "HBox(children=(FloatProgress(value=0.0, max=638400.0), HTML(value='')))"
      ]
     },
     "metadata": {},
     "output_type": "display_data"
    },
    {
     "name": "stdout",
     "output_type": "stream",
     "text": [
      "\n"
     ]
    },
    {
     "data": {
      "application/vnd.jupyter.widget-view+json": {
       "model_id": "97e4987ad7e94b3abf23eb0fc030784a",
       "version_major": 2,
       "version_minor": 0
      },
      "text/plain": [
       "HBox(children=(FloatProgress(value=0.0, max=638400.0), HTML(value='')))"
      ]
     },
     "metadata": {},
     "output_type": "display_data"
    },
    {
     "name": "stdout",
     "output_type": "stream",
     "text": [
      "\n"
     ]
    },
    {
     "data": {
      "application/vnd.jupyter.widget-view+json": {
       "model_id": "09f8c9667326427e9abd18f1bf03ec9f",
       "version_major": 2,
       "version_minor": 0
      },
      "text/plain": [
       "HBox(children=(FloatProgress(value=0.0, max=638400.0), HTML(value='')))"
      ]
     },
     "metadata": {},
     "output_type": "display_data"
    },
    {
     "name": "stdout",
     "output_type": "stream",
     "text": [
      "\n"
     ]
    }
   ],
   "source": [
    "# Aplicando o encoding\n",
    "model_data['ac'] = hash_function(model_data,cat_name='ac')\n",
    "model_data['flight'] = hash_function(model_data,cat_name='flight')\n",
    "model_data['message_type'] = hash_function(model_data,cat_name='message_type')"
   ]
  },
  {
   "cell_type": "markdown",
   "metadata": {},
   "source": [
    "### Finalmente após todo o processo de Feature Engineering"
   ]
  },
  {
   "cell_type": "code",
   "execution_count": 26,
   "metadata": {
    "scrolled": true
   },
   "outputs": [
    {
     "data": {
      "text/html": [
       "<div>\n",
       "<style scoped>\n",
       "    .dataframe tbody tr th:only-of-type {\n",
       "        vertical-align: middle;\n",
       "    }\n",
       "\n",
       "    .dataframe tbody tr th {\n",
       "        vertical-align: top;\n",
       "    }\n",
       "\n",
       "    .dataframe thead th {\n",
       "        text-align: right;\n",
       "    }\n",
       "</style>\n",
       "<table border=\"1\" class=\"dataframe\">\n",
       "  <thead>\n",
       "    <tr style=\"text-align: right;\">\n",
       "      <th></th>\n",
       "      <th>order</th>\n",
       "      <th>message_time</th>\n",
       "      <th>sensor_par_sys_5</th>\n",
       "      <th>sensor_par_sys_9</th>\n",
       "      <th>sensor_par_ac_1</th>\n",
       "      <th>sensor_par_ac_2</th>\n",
       "      <th>ambient_1</th>\n",
       "      <th>ac</th>\n",
       "      <th>flight</th>\n",
       "      <th>message_type</th>\n",
       "      <th>target</th>\n",
       "    </tr>\n",
       "  </thead>\n",
       "  <tbody>\n",
       "    <tr>\n",
       "      <th>0</th>\n",
       "      <td>20</td>\n",
       "      <td>0</td>\n",
       "      <td>0.0</td>\n",
       "      <td>0.0</td>\n",
       "      <td>0.00000</td>\n",
       "      <td>29.11250</td>\n",
       "      <td>11723.0</td>\n",
       "      <td>3272462994</td>\n",
       "      <td>3945526026</td>\n",
       "      <td>101350308</td>\n",
       "      <td>4</td>\n",
       "    </tr>\n",
       "    <tr>\n",
       "      <th>1</th>\n",
       "      <td>20</td>\n",
       "      <td>0</td>\n",
       "      <td>0.0</td>\n",
       "      <td>0.0</td>\n",
       "      <td>0.00000</td>\n",
       "      <td>29.28375</td>\n",
       "      <td>11721.0</td>\n",
       "      <td>3272462994</td>\n",
       "      <td>3945526026</td>\n",
       "      <td>101350308</td>\n",
       "      <td>4</td>\n",
       "    </tr>\n",
       "    <tr>\n",
       "      <th>2</th>\n",
       "      <td>20</td>\n",
       "      <td>0</td>\n",
       "      <td>1.0</td>\n",
       "      <td>0.0</td>\n",
       "      <td>29.28375</td>\n",
       "      <td>29.45500</td>\n",
       "      <td>11721.0</td>\n",
       "      <td>3272462994</td>\n",
       "      <td>3945526026</td>\n",
       "      <td>101350308</td>\n",
       "      <td>4</td>\n",
       "    </tr>\n",
       "    <tr>\n",
       "      <th>3</th>\n",
       "      <td>20</td>\n",
       "      <td>0</td>\n",
       "      <td>1.0</td>\n",
       "      <td>0.0</td>\n",
       "      <td>29.45500</td>\n",
       "      <td>29.62625</td>\n",
       "      <td>11721.5</td>\n",
       "      <td>3272462994</td>\n",
       "      <td>3945526026</td>\n",
       "      <td>101350308</td>\n",
       "      <td>4</td>\n",
       "    </tr>\n",
       "    <tr>\n",
       "      <th>4</th>\n",
       "      <td>20</td>\n",
       "      <td>0</td>\n",
       "      <td>1.0</td>\n",
       "      <td>0.0</td>\n",
       "      <td>29.28375</td>\n",
       "      <td>29.62625</td>\n",
       "      <td>11721.0</td>\n",
       "      <td>3272462994</td>\n",
       "      <td>3945526026</td>\n",
       "      <td>101350308</td>\n",
       "      <td>4</td>\n",
       "    </tr>\n",
       "    <tr>\n",
       "      <th>...</th>\n",
       "      <td>...</td>\n",
       "      <td>...</td>\n",
       "      <td>...</td>\n",
       "      <td>...</td>\n",
       "      <td>...</td>\n",
       "      <td>...</td>\n",
       "      <td>...</td>\n",
       "      <td>...</td>\n",
       "      <td>...</td>\n",
       "      <td>...</td>\n",
       "      <td>...</td>\n",
       "    </tr>\n",
       "    <tr>\n",
       "      <th>638395</th>\n",
       "      <td>36</td>\n",
       "      <td>0</td>\n",
       "      <td>1.0</td>\n",
       "      <td>0.0</td>\n",
       "      <td>30.65375</td>\n",
       "      <td>13.87125</td>\n",
       "      <td>12230.0</td>\n",
       "      <td>1836135844</td>\n",
       "      <td>3552854091</td>\n",
       "      <td>101350308</td>\n",
       "      <td>10</td>\n",
       "    </tr>\n",
       "    <tr>\n",
       "      <th>638396</th>\n",
       "      <td>36</td>\n",
       "      <td>0</td>\n",
       "      <td>0.0</td>\n",
       "      <td>0.0</td>\n",
       "      <td>0.00000</td>\n",
       "      <td>0.00000</td>\n",
       "      <td>12230.5</td>\n",
       "      <td>1836135844</td>\n",
       "      <td>3552854091</td>\n",
       "      <td>101350308</td>\n",
       "      <td>10</td>\n",
       "    </tr>\n",
       "    <tr>\n",
       "      <th>638397</th>\n",
       "      <td>36</td>\n",
       "      <td>0</td>\n",
       "      <td>0.0</td>\n",
       "      <td>0.0</td>\n",
       "      <td>10.44625</td>\n",
       "      <td>0.00000</td>\n",
       "      <td>12231.5</td>\n",
       "      <td>1836135844</td>\n",
       "      <td>3552854091</td>\n",
       "      <td>101350308</td>\n",
       "      <td>10</td>\n",
       "    </tr>\n",
       "    <tr>\n",
       "      <th>638398</th>\n",
       "      <td>36</td>\n",
       "      <td>0</td>\n",
       "      <td>0.0</td>\n",
       "      <td>0.0</td>\n",
       "      <td>0.00000</td>\n",
       "      <td>0.00000</td>\n",
       "      <td>12234.0</td>\n",
       "      <td>1836135844</td>\n",
       "      <td>3552854091</td>\n",
       "      <td>101350308</td>\n",
       "      <td>10</td>\n",
       "    </tr>\n",
       "    <tr>\n",
       "      <th>638399</th>\n",
       "      <td>36</td>\n",
       "      <td>0</td>\n",
       "      <td>0.0</td>\n",
       "      <td>0.0</td>\n",
       "      <td>0.00000</td>\n",
       "      <td>0.00000</td>\n",
       "      <td>12234.5</td>\n",
       "      <td>1836135844</td>\n",
       "      <td>3552854091</td>\n",
       "      <td>101350308</td>\n",
       "      <td>10</td>\n",
       "    </tr>\n",
       "  </tbody>\n",
       "</table>\n",
       "<p>638400 rows × 11 columns</p>\n",
       "</div>"
      ],
      "text/plain": [
       "        order  message_time  sensor_par_sys_5  sensor_par_sys_9  \\\n",
       "0          20             0               0.0               0.0   \n",
       "1          20             0               0.0               0.0   \n",
       "2          20             0               1.0               0.0   \n",
       "3          20             0               1.0               0.0   \n",
       "4          20             0               1.0               0.0   \n",
       "...       ...           ...               ...               ...   \n",
       "638395     36             0               1.0               0.0   \n",
       "638396     36             0               0.0               0.0   \n",
       "638397     36             0               0.0               0.0   \n",
       "638398     36             0               0.0               0.0   \n",
       "638399     36             0               0.0               0.0   \n",
       "\n",
       "        sensor_par_ac_1  sensor_par_ac_2  ambient_1          ac      flight  \\\n",
       "0               0.00000         29.11250    11723.0  3272462994  3945526026   \n",
       "1               0.00000         29.28375    11721.0  3272462994  3945526026   \n",
       "2              29.28375         29.45500    11721.0  3272462994  3945526026   \n",
       "3              29.45500         29.62625    11721.5  3272462994  3945526026   \n",
       "4              29.28375         29.62625    11721.0  3272462994  3945526026   \n",
       "...                 ...              ...        ...         ...         ...   \n",
       "638395         30.65375         13.87125    12230.0  1836135844  3552854091   \n",
       "638396          0.00000          0.00000    12230.5  1836135844  3552854091   \n",
       "638397         10.44625          0.00000    12231.5  1836135844  3552854091   \n",
       "638398          0.00000          0.00000    12234.0  1836135844  3552854091   \n",
       "638399          0.00000          0.00000    12234.5  1836135844  3552854091   \n",
       "\n",
       "        message_type  target  \n",
       "0          101350308       4  \n",
       "1          101350308       4  \n",
       "2          101350308       4  \n",
       "3          101350308       4  \n",
       "4          101350308       4  \n",
       "...              ...     ...  \n",
       "638395     101350308      10  \n",
       "638396     101350308      10  \n",
       "638397     101350308      10  \n",
       "638398     101350308      10  \n",
       "638399     101350308      10  \n",
       "\n",
       "[638400 rows x 11 columns]"
      ]
     },
     "execution_count": 26,
     "metadata": {},
     "output_type": "execute_result"
    }
   ],
   "source": [
    "# Armazenando as variáveis numéricas escolhidas\n",
    "data = model_data[relevant_features].copy()\n",
    "data['ac'] = model_data['ac'].copy()\n",
    "data['flight'] = model_data['flight'].copy()\n",
    "data['message_type'] = model_data['message_type'].copy()\n",
    "data['target'] = model_data['target'].copy()\n",
    "\n",
    "# Por fim, vendo como fico ficou a data após feature engineering\n",
    "data"
   ]
  },
  {
   "cell_type": "markdown",
   "metadata": {},
   "source": [
    "## Splitting Data"
   ]
  },
  {
   "cell_type": "code",
   "execution_count": 27,
   "metadata": {},
   "outputs": [],
   "source": [
    "# Bibliotecas para rodar o modelo e testar sua eficiência\n",
    "from sklearn.model_selection import train_test_split"
   ]
  },
  {
   "cell_type": "code",
   "execution_count": 28,
   "metadata": {},
   "outputs": [],
   "source": [
    "# Separando as features e a target\n",
    "X,y = data.iloc[:,:-1],data.iloc[:,-1]"
   ]
  },
  {
   "cell_type": "code",
   "execution_count": 30,
   "metadata": {},
   "outputs": [],
   "source": [
    "from sklearn.model_selection import train_test_split\n",
    "\n",
    "# Separando Train e Validation sets\n",
    "X_train,X_valid,y_train,y_valid = train_test_split(X,y,test_size=0.2,random_state=42)"
   ]
  },
  {
   "cell_type": "markdown",
   "metadata": {},
   "source": [
    "## XGBoost Classifier"
   ]
  },
  {
   "cell_type": "code",
   "execution_count": 31,
   "metadata": {},
   "outputs": [
    {
     "data": {
      "text/plain": [
       "XGBClassifier(alpha=10, base_score=0.5, booster='gbtree', colsample_bylevel=1,\n",
       "              colsample_bynode=1, colsample_bytree=0.3, gamma=0,\n",
       "              learning_rate=0.1, max_delta_step=0, max_depth=5,\n",
       "              min_child_weight=1, missing=None, n_estimators=20, n_jobs=1,\n",
       "              nthread=None, objective='multi:softprob', random_state=0,\n",
       "              reg_alpha=0, reg_lambda=1, scale_pos_weight=1, seed=None,\n",
       "              silent=None, subsample=1, verbosity=1)"
      ]
     },
     "execution_count": 31,
     "metadata": {},
     "output_type": "execute_result"
    }
   ],
   "source": [
    "import xgboost as xgb\n",
    "\n",
    "# Instanciando o modelo\n",
    "xg_clf = xgb.XGBClassifier(objective ='reg:squarederror', colsample_bytree = 0.3, learning_rate = 0.1,verbosity=1,\n",
    "                max_depth = 5, alpha = 10, n_estimators = 20)\n",
    "\n",
    "# Treinando\n",
    "xg_clf.fit(X_train,y_train)"
   ]
  },
  {
   "cell_type": "code",
   "execution_count": 32,
   "metadata": {},
   "outputs": [],
   "source": [
    "# Testando o modelo\n",
    "predictions_xg_clf = xg_clf.predict(X_valid)"
   ]
  },
  {
   "cell_type": "code",
   "execution_count": 33,
   "metadata": {},
   "outputs": [
    {
     "name": "stdout",
     "output_type": "stream",
     "text": [
      "0.8735119047619048\n"
     ]
    }
   ],
   "source": [
    "# Acurária média\n",
    "score_xg_clf = xg_clf.score(X_valid, y_valid)\n",
    "print(score_xg_clf)"
   ]
  },
  {
   "cell_type": "code",
   "execution_count": 36,
   "metadata": {},
   "outputs": [
    {
     "name": "stdout",
     "output_type": "stream",
     "text": [
      "RMSE: 1.238996\n"
     ]
    }
   ],
   "source": [
    "from sklearn.metrics import mean_squared_error\n",
    "#RMSE\n",
    "rmse_xg_clf = np.sqrt(mean_squared_error(y_valid, predictions_xg_clf))\n",
    "print(\"RMSE: %f\" % (rmse_xg_clf))"
   ]
  },
  {
   "cell_type": "code",
   "execution_count": 68,
   "metadata": {},
   "outputs": [
    {
     "name": "stdout",
     "output_type": "stream",
     "text": [
      "[0.47633145 0.5922854  0.64281798 0.67749843 0.61925125]\n"
     ]
    }
   ],
   "source": [
    "# KFold Validation\n",
    "from sklearn.model_selection import cross_val_score\n",
    "\n",
    "# Calculando os scores de acurácia para cada fold\n",
    "accuracy_scores_xg_clf = cross_val_score(xg_clf,X,y,cv=5,scoring='accuracy')\n",
    "\n",
    "# Mostrando resultados\n",
    "print(accuracy_scores_xg_clf)"
   ]
  },
  {
   "cell_type": "code",
   "execution_count": 69,
   "metadata": {},
   "outputs": [
    {
     "name": "stdout",
     "output_type": "stream",
     "text": [
      "[2.6380568  2.19438721 1.60971946 1.1756324  1.78374421]\n"
     ]
    }
   ],
   "source": [
    "# Calculando RMSE para cada fold\n",
    "rmse_scores_xg_clf = cross_val_score(xg_clf,X,y,cv=5,scoring='neg_root_mean_squared_error')\n",
    "\n",
    "# Mostrando resultados\n",
    "print(-rmse_scores_xg_clf)"
   ]
  },
  {
   "cell_type": "markdown",
   "metadata": {},
   "source": [
    "## Random Forest Classifier"
   ]
  },
  {
   "cell_type": "code",
   "execution_count": 53,
   "metadata": {},
   "outputs": [
    {
     "data": {
      "text/plain": [
       "RandomForestClassifier(bootstrap=True, ccp_alpha=0.0, class_weight=None,\n",
       "                       criterion='gini', max_depth=None, max_features='auto',\n",
       "                       max_leaf_nodes=None, max_samples=None,\n",
       "                       min_impurity_decrease=0.0, min_impurity_split=None,\n",
       "                       min_samples_leaf=10, min_samples_split=2,\n",
       "                       min_weight_fraction_leaf=0.0, n_estimators=3,\n",
       "                       n_jobs=None, oob_score=False, random_state=None,\n",
       "                       verbose=0, warm_start=False)"
      ]
     },
     "execution_count": 53,
     "metadata": {},
     "output_type": "execute_result"
    }
   ],
   "source": [
    "from sklearn.ensemble import RandomForestClassifier\n",
    "\n",
    "# Instanciando o modelo\n",
    "rf_clf = RandomForestClassifier(n_estimators = 3,min_samples_leaf=10)\n",
    "\n",
    "# Treinando\n",
    "rf_clf.fit(X_train,y_train)"
   ]
  },
  {
   "cell_type": "code",
   "execution_count": 54,
   "metadata": {},
   "outputs": [],
   "source": [
    "# Testando o modelo\n",
    "predictions_rf_clf = rf_clf.predict(X_valid)"
   ]
  },
  {
   "cell_type": "code",
   "execution_count": 55,
   "metadata": {},
   "outputs": [
    {
     "name": "stdout",
     "output_type": "stream",
     "text": [
      "0.9956375313283208\n"
     ]
    }
   ],
   "source": [
    "# Acurária média\n",
    "score_rf_clf = rf_clf.score(X_valid, y_valid)\n",
    "print(score_rf_clf)"
   ]
  },
  {
   "cell_type": "code",
   "execution_count": 65,
   "metadata": {},
   "outputs": [
    {
     "name": "stdout",
     "output_type": "stream",
     "text": [
      "[0.54085213 0.62535244 0.66494361 0.66265664 0.63489192]\n"
     ]
    }
   ],
   "source": [
    "# KFold Validation\n",
    "from sklearn.model_selection import cross_val_score\n",
    "\n",
    "# Calculando os scores de acurácia para cada fold\n",
    "accuracy_scores_rf_clf = cross_val_score(rf_clf,X,y,cv=5,scoring='accuracy')\n",
    "\n",
    "# Mostrando resultados\n",
    "print(accuracy_scores_rf_clf)"
   ]
  },
  {
   "cell_type": "code",
   "execution_count": 66,
   "metadata": {},
   "outputs": [
    {
     "name": "stdout",
     "output_type": "stream",
     "text": [
      "[2.34529137 2.0530118  1.48808446 1.75418181 2.89376436]\n"
     ]
    }
   ],
   "source": [
    "# Calculando RMSE para cada fold\n",
    "rmse_scores_rf_clf = cross_val_score(rf_clf,X,y,cv=5,scoring='neg_root_mean_squared_error')\n",
    "\n",
    "# Mostrando resultados\n",
    "print(-rmse_scores_rf_clf)"
   ]
  },
  {
   "cell_type": "code",
   "execution_count": 58,
   "metadata": {},
   "outputs": [
    {
     "name": "stdout",
     "output_type": "stream",
     "text": [
      "RMSE: 0.233493\n"
     ]
    }
   ],
   "source": [
    "from sklearn.metrics import mean_squared_error\n",
    "#RMSE\n",
    "rmse_rf_clf = np.sqrt(mean_squared_error(y_valid, predictions_rf_clf))\n",
    "print(\"RMSE: %f\" % (rmse_rf_clf))"
   ]
  },
  {
   "cell_type": "markdown",
   "metadata": {},
   "source": [
    "## ExtraTrees Classifier"
   ]
  },
  {
   "cell_type": "code",
   "execution_count": 59,
   "metadata": {},
   "outputs": [
    {
     "data": {
      "text/plain": [
       "ExtraTreesClassifier(bootstrap=False, ccp_alpha=0.0, class_weight=None,\n",
       "                     criterion='gini', max_depth=None, max_features='auto',\n",
       "                     max_leaf_nodes=None, max_samples=None,\n",
       "                     min_impurity_decrease=0.0, min_impurity_split=None,\n",
       "                     min_samples_leaf=1, min_samples_split=2,\n",
       "                     min_weight_fraction_leaf=0.0, n_estimators=100,\n",
       "                     n_jobs=None, oob_score=False, random_state=None, verbose=0,\n",
       "                     warm_start=False)"
      ]
     },
     "execution_count": 59,
     "metadata": {},
     "output_type": "execute_result"
    }
   ],
   "source": [
    "from sklearn.ensemble import ExtraTreesClassifier\n",
    "\n",
    "# Instanciando o modelo\n",
    "et_clf = ExtraTreesClassifier()\n",
    "\n",
    "# Treinando\n",
    "et_clf.fit(X_train,y_train)"
   ]
  },
  {
   "cell_type": "code",
   "execution_count": 60,
   "metadata": {},
   "outputs": [],
   "source": [
    "# Testando o modelo\n",
    "predictions_et_clf = et_clf.predict(X_valid)"
   ]
  },
  {
   "cell_type": "code",
   "execution_count": 61,
   "metadata": {},
   "outputs": [
    {
     "name": "stdout",
     "output_type": "stream",
     "text": [
      "0.9999295112781955\n"
     ]
    }
   ],
   "source": [
    "# Acurária média\n",
    "score_et_clf = et_clf.score(X_valid, y_valid)\n",
    "print(score_et_clf)"
   ]
  },
  {
   "cell_type": "code",
   "execution_count": 62,
   "metadata": {},
   "outputs": [
    {
     "data": {
      "image/png": "[encoded data removed]",
      "text/plain": [
       "<Figure size 1080x1080 with 2 Axes>"
      ]
     },
     "metadata": {
      "needs_background": "light"
     },
     "output_type": "display_data"
    }
   ],
   "source": [
    "from sklearn import metrics\n",
    "\n",
    "# Instanciando\n",
    "cm_et_clf = metrics.confusion_matrix(y_valid, predictions_et_clf)\n",
    "\n",
    "# Formatando o chart\n",
    "plt.figure(figsize=(15,15))\n",
    "sns.heatmap(cm_et_clf, annot=True, fmt=\".3f\", linewidths=.5, square = True, cmap = 'Blues_r');\n",
    "plt.ylabel('Actual label');\n",
    "plt.xlabel('Predicted label');\n",
    "all_sample_title = 'Extra Trees Classifier | Accuracy Score: {0}'.format(score_et_clf)\n",
    "plt.title(all_sample_title, size = 15);"
   ]
  },
  {
   "cell_type": "code",
   "execution_count": 63,
   "metadata": {},
   "outputs": [
    {
     "name": "stdout",
     "output_type": "stream",
     "text": [
      "              precision    recall  f1-score   support\n",
      "\n",
      "           1       1.00      1.00      1.00     27353\n",
      "           2       1.00      1.00      1.00      3620\n",
      "           3       1.00      1.00      1.00      3009\n",
      "           4       1.00      1.00      1.00      5194\n",
      "           5       1.00      1.00      1.00      5959\n",
      "           6       1.00      1.00      1.00      5781\n",
      "           7       1.00      1.00      1.00      5203\n",
      "           8       1.00      1.00      1.00      6886\n",
      "           9       1.00      1.00      1.00      4043\n",
      "          10       1.00      1.00      1.00      6429\n",
      "          11       1.00      1.00      1.00      7019\n",
      "          12       1.00      1.00      1.00      5243\n",
      "          13       1.00      1.00      1.00      7100\n",
      "          14       1.00      1.00      1.00      6424\n",
      "          15       1.00      1.00      1.00     28417\n",
      "\n",
      "    accuracy                           1.00    127680\n",
      "   macro avg       1.00      1.00      1.00    127680\n",
      "weighted avg       1.00      1.00      1.00    127680\n",
      "\n"
     ]
    }
   ],
   "source": [
    "# Classification report\n",
    "print(metrics.classification_report(y_valid, predictions_et_clf))"
   ]
  },
  {
   "cell_type": "code",
   "execution_count": 64,
   "metadata": {},
   "outputs": [
    {
     "name": "stdout",
     "output_type": "stream",
     "text": [
      "RMSE: 0.028264\n"
     ]
    }
   ],
   "source": [
    "from sklearn.metrics import mean_squared_error\n",
    "#RMSE\n",
    "rmse_et_clf = np.sqrt(mean_squared_error(y_valid, predictions_et_clf))\n",
    "print(\"RMSE: %f\" % (rmse_et_clf))"
   ]
  },
  {
   "cell_type": "markdown",
   "metadata": {},
   "source": [
    "#### Model Selection (K-fold Cross Validation e Grid Search)"
   ]
  },
  {
   "cell_type": "code",
   "execution_count": 51,
   "metadata": {},
   "outputs": [],
   "source": [
    "# Importando bibliotecas auxiliares\n",
    "from sklearn import metrics\n",
    "from sklearn.model_selection import GridSearchCV\n",
    "\n",
    "# Instanciando modelo\n",
    "clf = xgb.XGBClassifier(verbosity=3)\n",
    "\n",
    "# Parâmetros \n",
    "grid_values = {'learning_rate':[0.05,0.10,0.15,0.20],\n",
    "               'max_depth':[4,5,6,8]}\n",
    "\n",
    "# Instaciando Grid Search\n",
    "grid = GridSearchCV(clf,grid_values,cv=4,scoring='accuracy')"
   ]
  },
  {
   "cell_type": "code",
   "execution_count": null,
   "metadata": {},
   "outputs": [],
   "source": [
    "# Treinando o modelo propriamente \n",
    "grid.fit(X,y)"
   ]
  },
  {
   "cell_type": "code",
   "execution_count": 45,
   "metadata": {},
   "outputs": [],
   "source": [
    "# Separando Train e Validation sets\n",
    "X_train,X_valid,y_train,y_valid = train_test_split(X,y,test_size=0.2,random_state=41)"
   ]
  },
  {
   "cell_type": "markdown",
   "metadata": {},
   "source": [
    "#### Otimização dos Hiperparâmetros"
   ]
  },
  {
   "cell_type": "code",
   "execution_count": null,
   "metadata": {},
   "outputs": [],
   "source": [
    "# Importando método do Grid Search\n",
    "from sklearn.model_selection import GridSearch\n",
    "\n",
    "grid_values = {'learning_rate':[0.05,0.10,0.15,0.20],\n",
    "               'max_depth':[3,4,5,6,8],\n",
    "               'max_child_weight':[1,3,5,7]}"
   ]
  },
  {
   "cell_type": "markdown",
   "metadata": {},
   "source": [
    "### Previsão dos dados sem Label"
   ]
  },
  {
   "cell_type": "code",
   "execution_count": 43,
   "metadata": {},
   "outputs": [],
   "source": [
    "# Separando base de dados para teste (com label desconhecido)\n",
    "public_flights = set(public['FLIGHT'].unique())\n",
    "sensors_flights = set(sensors['FLIGHT'].unique())\n",
    "\n",
    "test_flights = sensors_flights - public_flights"
   ]
  },
  {
   "cell_type": "markdown",
   "metadata": {},
   "source": [
    "#### Preparando o vetor das features para esses dados"
   ]
  },
  {
   "cell_type": "code",
   "execution_count": 44,
   "metadata": {},
   "outputs": [],
   "source": [
    "# Slicing\n",
    "sensors_test = sensors[sensors['FLIGHT'].isin(test_flights)].copy()\n",
    "messages_test = messages[messages['FLIGHT'].isin(test_flights)].copy()"
   ]
  },
  {
   "cell_type": "code",
   "execution_count": 45,
   "metadata": {},
   "outputs": [],
   "source": [
    "# Tirando as duplicatas\n",
    "sensors_test.drop_duplicates(inplace=True)\n",
    "messages_test.drop_duplicates(inplace=True)"
   ]
  },
  {
   "cell_type": "code",
   "execution_count": 46,
   "metadata": {},
   "outputs": [
    {
     "data": {
      "application/vnd.jupyter.widget-view+json": {
       "model_id": "43eac4b6b63a486f90709bdd459d6226",
       "version_major": 2,
       "version_minor": 0
      },
      "text/plain": [
       "HBox(children=(FloatProgress(value=0.0, max=451.0), HTML(value='')))"
      ]
     },
     "metadata": {},
     "output_type": "display_data"
    },
    {
     "name": "stdout",
     "output_type": "stream",
     "text": [
      "\n"
     ]
    },
    {
     "data": {
      "application/vnd.jupyter.widget-view+json": {
       "model_id": "efdd00ab581447058a224b7e5d9436d9",
       "version_major": 2,
       "version_minor": 0
      },
      "text/plain": [
       "HBox(children=(FloatProgress(value=0.0, max=264.0), HTML(value='')))"
      ]
     },
     "metadata": {},
     "output_type": "display_data"
    },
    {
     "name": "stdout",
     "output_type": "stream",
     "text": [
      "\n"
     ]
    }
   ],
   "source": [
    "# Limitando o número de Linhas por Voo nas tabelas\n",
    "sensors_test = limitNumberOfRowsPerFlight(sensors_test,'FLIGHT',200)\n",
    "messages_test = limitNumberOfRowsPerFlight(messages_test,'FLIGHT',200)"
   ]
  },
  {
   "cell_type": "code",
   "execution_count": 47,
   "metadata": {},
   "outputs": [],
   "source": [
    "# Retirando colunas nulas\n",
    "drop_columns = ['WAR_SYS_1','COM_SYS_1','WAR_SYS_2','WAR_SYS_3','PAR_AC_3','PAR_AC_4','PAR_SYS_5','PAR_SYS_6']\n",
    "sensors_test.drop(drop_columns,axis=1,inplace=True)\n",
    "\n",
    "# Escolhendo somente as colunas importantes\n",
    "sensors_test = sensors_test[['AC','FLIGHT','TIME','AMBIENT_1','PAR_SYS_1','PAR_SYS_9']]"
   ]
  },
  {
   "cell_type": "code",
   "execution_count": 48,
   "metadata": {},
   "outputs": [
    {
     "data": {
      "application/vnd.jupyter.widget-view+json": {
       "model_id": "65fd762ca336438b875ba6afff25141a",
       "version_major": 2,
       "version_minor": 0
      },
      "text/plain": [
       "HBox(children=(FloatProgress(value=0.0, max=10.0), HTML(value='')))"
      ]
     },
     "metadata": {},
     "output_type": "display_data"
    },
    {
     "name": "stdout",
     "output_type": "stream",
     "text": [
      "\n"
     ]
    }
   ],
   "source": [
    "# Mudança de índices\n",
    "sensors_test.set_index('FLIGHT',inplace=True)\n",
    "messages_test.set_index('FLIGHT',inplace=True)\n",
    "\n",
    "# Mergiando \n",
    "x_test = sensors_test.merge(messages_test,left_on=\"FLIGHT\",right_on=\"FLIGHT\",how=\"left\",suffixes=('_sns','_msg')).progress_apply(lambda x: x)\n",
    "x_test.drop('AC_msg',axis=1,inplace=True)\n",
    "x_test.reset_index(inplace=True)"
   ]
  },
  {
   "cell_type": "code",
   "execution_count": 49,
   "metadata": {},
   "outputs": [],
   "source": [
    "# Preenchendo os valores nulos\n",
    "x_test['TIME_msg'].fillna(0,inplace=True)  \n",
    "x_test['FLIGHT_PHASE'].fillna(0,inplace=True) \n",
    "x_test['TYPE'].fillna('SM',inplace=True) \n",
    "x_test['MESSAGE'].fillna(100,inplace=True)\n",
    "\n",
    "# Renomendo as colunas\n",
    "x_test.columns = ['flight','ac','sensor_time','sensor_ambient',\n",
    "                      'sensor_par_sys_1','sensor_par_sys_9',\n",
    "                      'message_time','flight_phase','message_type',\n",
    "                      'message']\n",
    "    \n",
    "x_test['sensor_time'] = x_test['sensor_time'].astype(int)"
   ]
  },
  {
   "cell_type": "code",
   "execution_count": 50,
   "metadata": {},
   "outputs": [
    {
     "data": {
      "application/vnd.jupyter.widget-view+json": {
       "model_id": "5cab8f3265d342d9b673d1656c8f4ae6",
       "version_major": 2,
       "version_minor": 0
      },
      "text/plain": [
       "HBox(children=(FloatProgress(value=0.0, max=630800.0), HTML(value='')))"
      ]
     },
     "metadata": {},
     "output_type": "display_data"
    },
    {
     "name": "stdout",
     "output_type": "stream",
     "text": [
      "\n"
     ]
    },
    {
     "data": {
      "application/vnd.jupyter.widget-view+json": {
       "model_id": "0e574b2fca4d408b8d226592286413b4",
       "version_major": 2,
       "version_minor": 0
      },
      "text/plain": [
       "HBox(children=(FloatProgress(value=0.0, max=630800.0), HTML(value='')))"
      ]
     },
     "metadata": {},
     "output_type": "display_data"
    },
    {
     "name": "stdout",
     "output_type": "stream",
     "text": [
      "\n"
     ]
    },
    {
     "data": {
      "application/vnd.jupyter.widget-view+json": {
       "model_id": "4dd947afb4eb4ea58979c267df843757",
       "version_major": 2,
       "version_minor": 0
      },
      "text/plain": [
       "HBox(children=(FloatProgress(value=0.0, max=630800.0), HTML(value='')))"
      ]
     },
     "metadata": {},
     "output_type": "display_data"
    },
    {
     "name": "stdout",
     "output_type": "stream",
     "text": [
      "\n"
     ]
    }
   ],
   "source": [
    "# Tratando as variáveis categóricas\n",
    "num_cols = x_test._get_numeric_data().columns\n",
    "cat_cols = set(x_test.columns) - set(num_cols)\n",
    "\n",
    "# Salvando lista de voos, na ordem certa\n",
    "test_flights_correct_order = x_test['flight']\n",
    "\n",
    "# Aplicando Hash Function\n",
    "x_test['ac'] = hash_function(x_test,cat_name='ac')\n",
    "x_test['flight'] = hash_function(x_test,cat_name='flight')\n",
    "x_test['message_type'] = hash_function(x_test,cat_name='message_type')"
   ]
  },
  {
   "cell_type": "code",
   "execution_count": 51,
   "metadata": {},
   "outputs": [],
   "source": [
    "# Prevendo os dados de acorod com o modelo\n",
    "y = xg_reg.predict(x_test)"
   ]
  },
  {
   "cell_type": "code",
   "execution_count": 81,
   "metadata": {
    "scrolled": false
   },
   "outputs": [
    {
     "data": {
      "application/vnd.jupyter.widget-view+json": {
       "model_id": "626f9b1962344df79d2206152d019bfb",
       "version_major": 2,
       "version_minor": 0
      },
      "text/plain": [
       "HBox(children=(FloatProgress(value=0.0, max=451.0), HTML(value='')))"
      ]
     },
     "metadata": {},
     "output_type": "display_data"
    },
    {
     "name": "stdout",
     "output_type": "stream",
     "text": [
      "\n"
     ]
    }
   ],
   "source": [
    "# Formatando os dados para a saída prevista pelo Kaggle\n",
    "data = x_test.copy()\n",
    "data['target'] = list(y)\n",
    "data['flight'] = test_flights_correct_order\n",
    "output = data.groupby('flight')['target'].mean().progress_apply(lambda x:x)\n",
    "\n",
    "# Ajustando o DF\n",
    "df = output.reset_index()\n",
    "df.index = np.arange(1,len(output)+1)\n",
    "df.columns = ['FLIGHT','MAINTENANCE']"
   ]
  },
  {
   "cell_type": "code",
   "execution_count": 95,
   "metadata": {},
   "outputs": [],
   "source": [
    "# Exportando a previsão para .CSV\n",
    "df.to_csv('first_prediction.csv',index=False)"
   ]
  },
  {
   "cell_type": "code",
   "execution_count": 55,
   "metadata": {},
   "outputs": [
    {
     "data": {
      "application/vnd.jupyter.widget-view+json": {
       "model_id": "6a4fab4f25a94559af7d59b49ca46479",
       "version_major": 2,
       "version_minor": 0
      },
      "text/plain": [
       "HBox(children=(FloatProgress(value=0.0, max=451.0), HTML(value='')))"
      ]
     },
     "metadata": {},
     "output_type": "display_data"
    },
    {
     "data": {
      "application/vnd.jupyter.widget-view+json": {
       "model_id": "2137458152504dcd9b84d8806efc2b03",
       "version_major": 2,
       "version_minor": 0
      },
      "text/plain": [
       "HBox(children=(FloatProgress(value=0.0, max=200.0), HTML(value='')))"
      ]
     },
     "metadata": {},
     "output_type": "display_data"
    },
    {
     "name": "stdout",
     "output_type": "stream",
     "text": [
      "\n"
     ]
    },
    {
     "data": {
      "application/vnd.jupyter.widget-view+json": {
       "model_id": "71e5e7dc766f46f5a55e50716820bb50",
       "version_major": 2,
       "version_minor": 0
      },
      "text/plain": [
       "HBox(children=(FloatProgress(value=0.0, max=200.0), HTML(value='')))"
      ]
     },
     "metadata": {},
     "output_type": "display_data"
    },
    {
     "name": "stdout",
     "output_type": "stream",
     "text": [
      "\n"
     ]
    },
    {
     "data": {
      "application/vnd.jupyter.widget-view+json": {
       "model_id": "d9b6d033856b44639eff60d6b6bf53bf",
       "version_major": 2,
       "version_minor": 0
      },
      "text/plain": [
       "HBox(children=(FloatProgress(value=0.0, max=200.0), HTML(value='')))"
      ]
     },
     "metadata": {},
     "output_type": "display_data"
    },
    {
     "name": "stdout",
     "output_type": "stream",
     "text": [
      "\n",
      "\n"
     ]
    },
    {
     "ename": "ValueError",
     "evalue": "DataFrame.dtypes for data must be int, float or bool.\n                Did not expect the data types in fields sensor_time",
     "output_type": "error",
     "traceback": [
      "\u001b[0;31m---------------------------------------------------------------------------\u001b[0m",
      "\u001b[0;31mValueError\u001b[0m                                Traceback (most recent call last)",
      "\u001b[0;32m<ipython-input-55-0c9a18710662>\u001b[0m in \u001b[0;36m<module>\u001b[0;34m\u001b[0m\n\u001b[1;32m     31\u001b[0m     \u001b[0mx_test\u001b[0m\u001b[0;34m[\u001b[0m\u001b[0;34m'message_type'\u001b[0m\u001b[0;34m]\u001b[0m \u001b[0;34m=\u001b[0m \u001b[0mhash_function\u001b[0m\u001b[0;34m(\u001b[0m\u001b[0mx_test\u001b[0m\u001b[0;34m,\u001b[0m\u001b[0mcat_name\u001b[0m\u001b[0;34m=\u001b[0m\u001b[0;34m'message_type'\u001b[0m\u001b[0;34m)\u001b[0m\u001b[0;34m\u001b[0m\u001b[0;34m\u001b[0m\u001b[0m\n\u001b[1;32m     32\u001b[0m \u001b[0;34m\u001b[0m\u001b[0m\n\u001b[0;32m---> 33\u001b[0;31m     \u001b[0mfinal_predictions\u001b[0m\u001b[0;34m[\u001b[0m\u001b[0mf\u001b[0m\u001b[0;34m]\u001b[0m \u001b[0;34m=\u001b[0m \u001b[0mfloat\u001b[0m\u001b[0;34m(\u001b[0m\u001b[0mxg_reg\u001b[0m\u001b[0;34m.\u001b[0m\u001b[0mpredict\u001b[0m\u001b[0;34m(\u001b[0m\u001b[0mx_test\u001b[0m\u001b[0;34m)\u001b[0m\u001b[0;34m[\u001b[0m\u001b[0;36m0\u001b[0m\u001b[0;34m]\u001b[0m\u001b[0;34m)\u001b[0m\u001b[0;34m\u001b[0m\u001b[0;34m\u001b[0m\u001b[0m\n\u001b[0m\u001b[1;32m     34\u001b[0m     \u001b[0mi\u001b[0m \u001b[0;34m+=\u001b[0m \u001b[0;36m1\u001b[0m\u001b[0;34m\u001b[0m\u001b[0;34m\u001b[0m\u001b[0m\n\u001b[1;32m     35\u001b[0m     \u001b[0mprint\u001b[0m\u001b[0;34m(\u001b[0m\u001b[0;34m'Number of predicted values: '\u001b[0m\u001b[0;34m,\u001b[0m\u001b[0mi\u001b[0m\u001b[0;34m)\u001b[0m\u001b[0;34m\u001b[0m\u001b[0;34m\u001b[0m\u001b[0m\n",
      "\u001b[0;32m~/xgboost/python-package/xgboost/sklearn.py\u001b[0m in \u001b[0;36mpredict\u001b[0;34m(self, data, output_margin, ntree_limit, validate_features)\u001b[0m\n\u001b[1;32m    446\u001b[0m         \"\"\"\n\u001b[1;32m    447\u001b[0m         \u001b[0;31m# pylint: disable=missing-docstring,invalid-name\u001b[0m\u001b[0;34m\u001b[0m\u001b[0;34m\u001b[0m\u001b[0;34m\u001b[0m\u001b[0m\n\u001b[0;32m--> 448\u001b[0;31m         \u001b[0mtest_dmatrix\u001b[0m \u001b[0;34m=\u001b[0m \u001b[0mDMatrix\u001b[0m\u001b[0;34m(\u001b[0m\u001b[0mdata\u001b[0m\u001b[0;34m,\u001b[0m \u001b[0mmissing\u001b[0m\u001b[0;34m=\u001b[0m\u001b[0mself\u001b[0m\u001b[0;34m.\u001b[0m\u001b[0mmissing\u001b[0m\u001b[0;34m,\u001b[0m \u001b[0mnthread\u001b[0m\u001b[0;34m=\u001b[0m\u001b[0mself\u001b[0m\u001b[0;34m.\u001b[0m\u001b[0mn_jobs\u001b[0m\u001b[0;34m)\u001b[0m\u001b[0;34m\u001b[0m\u001b[0;34m\u001b[0m\u001b[0m\n\u001b[0m\u001b[1;32m    449\u001b[0m         \u001b[0;31m# get ntree_limit to use - if none specified, default to\u001b[0m\u001b[0;34m\u001b[0m\u001b[0;34m\u001b[0m\u001b[0;34m\u001b[0m\u001b[0m\n\u001b[1;32m    450\u001b[0m         \u001b[0;31m# best_ntree_limit if defined, otherwise 0.\u001b[0m\u001b[0;34m\u001b[0m\u001b[0;34m\u001b[0m\u001b[0;34m\u001b[0m\u001b[0m\n",
      "\u001b[0;32m~/xgboost/python-package/xgboost/core.py\u001b[0m in \u001b[0;36m__init__\u001b[0;34m(self, data, label, missing, weight, silent, feature_names, feature_types, nthread)\u001b[0m\n\u001b[1;32m    378\u001b[0m         data, feature_names, feature_types = _maybe_pandas_data(data,\n\u001b[1;32m    379\u001b[0m                                                                 \u001b[0mfeature_names\u001b[0m\u001b[0;34m,\u001b[0m\u001b[0;34m\u001b[0m\u001b[0;34m\u001b[0m\u001b[0m\n\u001b[0;32m--> 380\u001b[0;31m                                                                 feature_types)\n\u001b[0m\u001b[1;32m    381\u001b[0m \u001b[0;34m\u001b[0m\u001b[0m\n\u001b[1;32m    382\u001b[0m         data, feature_names, feature_types = _maybe_dt_data(data,\n",
      "\u001b[0;32m~/xgboost/python-package/xgboost/core.py\u001b[0m in \u001b[0;36m_maybe_pandas_data\u001b[0;34m(data, feature_names, feature_types)\u001b[0m\n\u001b[1;32m    237\u001b[0m         msg = \"\"\"DataFrame.dtypes for data must be int, float or bool.\n\u001b[1;32m    238\u001b[0m                 Did not expect the data types in fields \"\"\"\n\u001b[0;32m--> 239\u001b[0;31m         \u001b[0;32mraise\u001b[0m \u001b[0mValueError\u001b[0m\u001b[0;34m(\u001b[0m\u001b[0mmsg\u001b[0m \u001b[0;34m+\u001b[0m \u001b[0;34m', '\u001b[0m\u001b[0;34m.\u001b[0m\u001b[0mjoin\u001b[0m\u001b[0;34m(\u001b[0m\u001b[0mbad_fields\u001b[0m\u001b[0;34m)\u001b[0m\u001b[0;34m)\u001b[0m\u001b[0;34m\u001b[0m\u001b[0;34m\u001b[0m\u001b[0m\n\u001b[0m\u001b[1;32m    240\u001b[0m \u001b[0;34m\u001b[0m\u001b[0m\n\u001b[1;32m    241\u001b[0m     \u001b[0;32mif\u001b[0m \u001b[0mfeature_names\u001b[0m \u001b[0;32mis\u001b[0m \u001b[0;32mNone\u001b[0m\u001b[0;34m:\u001b[0m\u001b[0;34m\u001b[0m\u001b[0;34m\u001b[0m\u001b[0m\n",
      "\u001b[0;31mValueError\u001b[0m: DataFrame.dtypes for data must be int, float or bool.\n                Did not expect the data types in fields sensor_time"
     ]
    }
   ],
   "source": [
    "## Pre processamento na forma de Iteração\n",
    "\"\"\"final_predictions = {}\n",
    "i = 0\n",
    "for f in nb_tqdm.tqdm(list(test_flights)):\n",
    "    sns = sensors_test[sensors_test['FLIGHT'] == f]\n",
    "    msg = messages_test[messages_test['FLIGHT'] == f]\n",
    "    \n",
    "    sns.set_index('FLIGHT',inplace=True)\n",
    "    msg.set_index('FLIGHT',inplace=True)\n",
    "    \n",
    "    x_test = sns.merge(msg,left_on=\"FLIGHT\", right_on=\"FLIGHT\",how=\"left\",suffixes=('_sns','_msg'))\n",
    "    x_test.drop('AC_msg',axis=1,inplace=True)\n",
    "    x_test.reset_index(inplace=True)\n",
    "    \n",
    "    x_test['TIME_msg'].fillna(0,inplace=True)  \n",
    "    x_test['FLIGHT_PHASE'].fillna(0,inplace=True) \n",
    "    x_test['TYPE'].fillna('SM',inplace=True) \n",
    "    x_test['MESSAGE'].fillna(100,inplace=True)\n",
    "    \n",
    "    x_test.columns = ['flight','ac','sensor_time','sensor_ambient',\n",
    "                      'sensor_par_sys_1','sensor_par_sys_9',\n",
    "                      'message_time','flight_phase','message_type',\n",
    "                      'message']\n",
    "    \n",
    "    x_test['sensor_time'] = x_test['sensor_time'].astype(int)\n",
    "    \n",
    "    num_cols = x_test._get_numeric_data().columns\n",
    "    cat_cols = set(x_test.columns) - set(num_cols)\n",
    "    \n",
    "    x_test['ac'] = hash_function(x_test,cat_name='ac')\n",
    "    x_test['flight'] = hash_function(x_test,cat_name='flight')\n",
    "    x_test['message_type'] = hash_function(x_test,cat_name='message_type')\n",
    "    \n",
    "    final_predictions[f] = float(xg_reg.predict(x_test)[0])\n",
    "    i += 1\n",
    "    print('Number of predicted values: ',i)\"\"\""
   ]
  },
  {
   "cell_type": "code",
   "execution_count": null,
   "metadata": {},
   "outputs": [],
   "source": []
  }
 ],
 "metadata": {
  "kernelspec": {
   "display_name": "Python 3",
   "language": "python",
   "name": "python3"
  },
  "language_info": {
   "codemirror_mode": {
    "name": "ipython",
    "version": 3
   },
   "file_extension": ".py",
   "mimetype": "text/x-python",
   "name": "python",
   "nbconvert_exporter": "python",
   "pygments_lexer": "ipython3",
   "version": "3.7.6"
  }
 },
 "nbformat": 4,
 "nbformat_minor": 4
}
