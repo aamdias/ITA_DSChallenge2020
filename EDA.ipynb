{
 "cells": [
  {
   "cell_type": "code",
   "execution_count": 2,
   "metadata": {},
   "outputs": [],
   "source": [
    "import pandas as pd\n",
    "import numpy as np\n",
    "import os\n",
    "import matplotlib.pyplot as plt\n",
    "import seaborn as sns\n",
    "from pandas_profiling import ProfileReport\n",
    "%matplotlib inline"
   ]
  },
  {
   "cell_type": "code",
   "execution_count": 9,
   "metadata": {},
   "outputs": [],
   "source": [
    "# Fecthing private data\n",
    "messages = pd.read_csv('databases/private-data/messages.csv')\n",
    "orders = pd.read_csv('databases/private-data/order.csv')\n",
    "sensors = pd.read_csv('databases/private-data/sensors.csv')\n",
    "\n",
    "# Fetching public data\n",
    "public = pd.read_csv('databases/public.csv')"
   ]
  },
  {
   "cell_type": "markdown",
   "metadata": {},
   "source": [
    "## Important Info about each table\n",
    "#### Table: messages.csv\n",
    "\n",
    " - AC: Coluna usada para identificar a aeronave\n",
    " - FLIGHT: Identificador do voo (coluna única na tabela)\n",
    " - TIME: Tempo relativo ao inicio do voo em que a mensagem foi emitida (em segundos)\n",
    " - FLIGHT_PHASE: Fase do voo no qual a mensagem foi enviada\n",
    " - TYPE: Tipo de mensagem enviada\n",
    " - MESSAGE: Corpo da mensagem enviada\n",
    " \n",
    "#### Table: sensors.csv\n",
    " \n",
    " - AC: Coluna usada para identificar a aeronave \n",
    " - FLIGHT: Identificador do voo (coluna única na tabela)\n",
    " - TIME: Tempo relativo ao início do voo no qual foi feito a leitura do sensor\n",
    " - [AMBIENT_1 (...) PAR_SYS_3]: Sensores e suas leituras\n",
    " \n",
    "#### Table: public.csv\n",
    "\n",
    " - FLIGHT: Identificador do voo\n",
    " - MAINTENANCE: Indica o número de dias que faltam para se realizar uma manutenção (rótulo do modelo)\n",
    " \n",
    "__The goal of this model is to predict the number of days until maintenence for the flights that are listed in the sensors table, but not on the public table__"
   ]
  },
  {
   "cell_type": "code",
   "execution_count": 52,
   "metadata": {
    "scrolled": true
   },
   "outputs": [
    {
     "name": "stdout",
     "output_type": "stream",
     "text": [
      "Número de Voos únicos na tabela Public: 901\n",
      "Número de Voos únicos na tabela Sensors: 1352\n",
      "Número de Voos na intersecção: 901\n",
      "Número de Voos presentes na tabela Sensors mas não presentes na tabela public: 451\n",
      "Número de Voos presentes na tabela Public mas não presentes na tabela Sensors: 0\n"
     ]
    }
   ],
   "source": [
    "# Analisando a intersecção dos voos\n",
    "public_flights = set(public['FLIGHT'].unique())\n",
    "sensors_flights = set(sensors['FLIGHT'].unique())\n",
    "\n",
    "intersec = list(sensors_flights.intersection(public_flights))\n",
    "print(\"Número de Voos únicos na tabela Public:\" , len(public_flights))\n",
    "print(\"Número de Voos únicos na tabela Sensors:\", len(sensors_flights))\n",
    "print(\"Número de Voos na intersecção:\", len(intersec))\n",
    "print(\"Número de Voos presentes na tabela Sensors mas não presentes na tabela public:\", len(sensors_flights) - len(intersec))\n",
    "print(\"Número de Voos presentes na tabela Public mas não presentes na tabela Sensors:\", len(public_flights) - len(intersec))"
   ]
  },
  {
   "cell_type": "code",
   "execution_count": null,
   "metadata": {},
   "outputs": [],
   "source": [
    "# Correlation between airplane and target\n",
    "\n",
    "# Slicing data\n",
    "sens_red = sensors[['FLIGHT','AC']].copy()\n",
    "sens_red['FLIGHT'] = sens_red['FLIGHT'].astype(str)\n",
    "\n",
    "# Copying public data\n",
    "public_cp = public.copy()\n",
    "\n",
    "# Inner join\n",
    "df = public.merge(sens_red,left_on='FLIGHT',right_on='FLIGHT',how=\"inner\")\n",
    "\n",
    "# Categorial Distribution\n",
    "sns.swarmplot(x=\"AC\", y=\"MAINTENANCE\", data=df)"
   ]
  },
  {
   "cell_type": "code",
   "execution_count": null,
   "metadata": {},
   "outputs": [],
   "source": [
    "df = prior_flights.merge(orders,left_on=\"BEFORE\",rigt_on=\"FLIGHT\",how=\"inner\")"
   ]
  },
  {
   "cell_type": "code",
   "execution_count": 25,
   "metadata": {},
   "outputs": [
    {
     "data": {
      "text/html": [
       "<div>\n",
       "<style scoped>\n",
       "    .dataframe tbody tr th:only-of-type {\n",
       "        vertical-align: middle;\n",
       "    }\n",
       "\n",
       "    .dataframe tbody tr th {\n",
       "        vertical-align: top;\n",
       "    }\n",
       "\n",
       "    .dataframe thead th {\n",
       "        text-align: right;\n",
       "    }\n",
       "</style>\n",
       "<table border=\"1\" class=\"dataframe\">\n",
       "  <thead>\n",
       "    <tr style=\"text-align: right;\">\n",
       "      <th></th>\n",
       "      <th>FLIGHT</th>\n",
       "      <th>TYPE</th>\n",
       "    </tr>\n",
       "  </thead>\n",
       "  <tbody>\n",
       "    <tr>\n",
       "      <th>0</th>\n",
       "      <td>03896c</td>\n",
       "      <td>FDE</td>\n",
       "    </tr>\n",
       "    <tr>\n",
       "      <th>1</th>\n",
       "      <td>03896c</td>\n",
       "      <td>FDE</td>\n",
       "    </tr>\n",
       "    <tr>\n",
       "      <th>2</th>\n",
       "      <td>03d505</td>\n",
       "      <td>FDE</td>\n",
       "    </tr>\n",
       "    <tr>\n",
       "      <th>3</th>\n",
       "      <td>03d505</td>\n",
       "      <td>FDE</td>\n",
       "    </tr>\n",
       "    <tr>\n",
       "      <th>4</th>\n",
       "      <td>03d505</td>\n",
       "      <td>FDE</td>\n",
       "    </tr>\n",
       "    <tr>\n",
       "      <th>...</th>\n",
       "      <td>...</td>\n",
       "      <td>...</td>\n",
       "    </tr>\n",
       "    <tr>\n",
       "      <th>147559</th>\n",
       "      <td>c258da</td>\n",
       "      <td>FDE</td>\n",
       "    </tr>\n",
       "    <tr>\n",
       "      <th>147560</th>\n",
       "      <td>c258da</td>\n",
       "      <td>FDE</td>\n",
       "    </tr>\n",
       "    <tr>\n",
       "      <th>147561</th>\n",
       "      <td>c258da</td>\n",
       "      <td>FDE</td>\n",
       "    </tr>\n",
       "    <tr>\n",
       "      <th>147562</th>\n",
       "      <td>c258da</td>\n",
       "      <td>FDE</td>\n",
       "    </tr>\n",
       "    <tr>\n",
       "      <th>147563</th>\n",
       "      <td>c258da</td>\n",
       "      <td>FDE</td>\n",
       "    </tr>\n",
       "  </tbody>\n",
       "</table>\n",
       "<p>147564 rows × 2 columns</p>\n",
       "</div>"
      ],
      "text/plain": [
       "        FLIGHT TYPE\n",
       "0       03896c  FDE\n",
       "1       03896c  FDE\n",
       "2       03d505  FDE\n",
       "3       03d505  FDE\n",
       "4       03d505  FDE\n",
       "...        ...  ...\n",
       "147559  c258da  FDE\n",
       "147560  c258da  FDE\n",
       "147561  c258da  FDE\n",
       "147562  c258da  FDE\n",
       "147563  c258da  FDE\n",
       "\n",
       "[147564 rows x 2 columns]"
      ]
     },
     "execution_count": 25,
     "metadata": {},
     "output_type": "execute_result"
    }
   ],
   "source": [
    "msg_red"
   ]
  },
  {
   "cell_type": "code",
   "execution_count": 14,
   "metadata": {},
   "outputs": [
    {
     "data": {
      "text/html": [
       "<div>\n",
       "<style scoped>\n",
       "    .dataframe tbody tr th:only-of-type {\n",
       "        vertical-align: middle;\n",
       "    }\n",
       "\n",
       "    .dataframe tbody tr th {\n",
       "        vertical-align: top;\n",
       "    }\n",
       "\n",
       "    .dataframe thead th {\n",
       "        text-align: right;\n",
       "    }\n",
       "</style>\n",
       "<table border=\"1\" class=\"dataframe\">\n",
       "  <thead>\n",
       "    <tr style=\"text-align: right;\">\n",
       "      <th></th>\n",
       "      <th>FLIGHT</th>\n",
       "      <th>TYPE</th>\n",
       "    </tr>\n",
       "  </thead>\n",
       "  <tbody>\n",
       "    <tr>\n",
       "      <th>0</th>\n",
       "      <td>03896c</td>\n",
       "      <td>FDE</td>\n",
       "    </tr>\n",
       "    <tr>\n",
       "      <th>1</th>\n",
       "      <td>03896c</td>\n",
       "      <td>FDE</td>\n",
       "    </tr>\n",
       "    <tr>\n",
       "      <th>2</th>\n",
       "      <td>03d505</td>\n",
       "      <td>FDE</td>\n",
       "    </tr>\n",
       "    <tr>\n",
       "      <th>3</th>\n",
       "      <td>03d505</td>\n",
       "      <td>FDE</td>\n",
       "    </tr>\n",
       "    <tr>\n",
       "      <th>4</th>\n",
       "      <td>03d505</td>\n",
       "      <td>FDE</td>\n",
       "    </tr>\n",
       "    <tr>\n",
       "      <th>...</th>\n",
       "      <td>...</td>\n",
       "      <td>...</td>\n",
       "    </tr>\n",
       "    <tr>\n",
       "      <th>147559</th>\n",
       "      <td>c258da</td>\n",
       "      <td>FDE</td>\n",
       "    </tr>\n",
       "    <tr>\n",
       "      <th>147560</th>\n",
       "      <td>c258da</td>\n",
       "      <td>FDE</td>\n",
       "    </tr>\n",
       "    <tr>\n",
       "      <th>147561</th>\n",
       "      <td>c258da</td>\n",
       "      <td>FDE</td>\n",
       "    </tr>\n",
       "    <tr>\n",
       "      <th>147562</th>\n",
       "      <td>c258da</td>\n",
       "      <td>FDE</td>\n",
       "    </tr>\n",
       "    <tr>\n",
       "      <th>147563</th>\n",
       "      <td>c258da</td>\n",
       "      <td>FDE</td>\n",
       "    </tr>\n",
       "  </tbody>\n",
       "</table>\n",
       "<p>147564 rows × 2 columns</p>\n",
       "</div>"
      ],
      "text/plain": [
       "        FLIGHT TYPE\n",
       "0       03896c  FDE\n",
       "1       03896c  FDE\n",
       "2       03d505  FDE\n",
       "3       03d505  FDE\n",
       "4       03d505  FDE\n",
       "...        ...  ...\n",
       "147559  c258da  FDE\n",
       "147560  c258da  FDE\n",
       "147561  c258da  FDE\n",
       "147562  c258da  FDE\n",
       "147563  c258da  FDE\n",
       "\n",
       "[147564 rows x 2 columns]"
      ]
     },
     "execution_count": 14,
     "metadata": {},
     "output_type": "execute_result"
    }
   ],
   "source": [
    "msg_red"
   ]
  },
  {
   "cell_type": "code",
   "execution_count": 3,
   "metadata": {},
   "outputs": [
    {
     "data": {
      "text/html": [
       "<div>\n",
       "<style scoped>\n",
       "    .dataframe tbody tr th:only-of-type {\n",
       "        vertical-align: middle;\n",
       "    }\n",
       "\n",
       "    .dataframe tbody tr th {\n",
       "        vertical-align: top;\n",
       "    }\n",
       "\n",
       "    .dataframe thead th {\n",
       "        text-align: right;\n",
       "    }\n",
       "</style>\n",
       "<table border=\"1\" class=\"dataframe\">\n",
       "  <thead>\n",
       "    <tr style=\"text-align: right;\">\n",
       "      <th></th>\n",
       "      <th>FLIGHT</th>\n",
       "      <th>MAINTENANCE</th>\n",
       "    </tr>\n",
       "  </thead>\n",
       "  <tbody>\n",
       "    <tr>\n",
       "      <th>0</th>\n",
       "      <td>00055a</td>\n",
       "      <td>14</td>\n",
       "    </tr>\n",
       "    <tr>\n",
       "      <th>1</th>\n",
       "      <td>006042</td>\n",
       "      <td>4</td>\n",
       "    </tr>\n",
       "    <tr>\n",
       "      <th>2</th>\n",
       "      <td>0192d1</td>\n",
       "      <td>8</td>\n",
       "    </tr>\n",
       "    <tr>\n",
       "      <th>3</th>\n",
       "      <td>01b892</td>\n",
       "      <td>13</td>\n",
       "    </tr>\n",
       "    <tr>\n",
       "      <th>4</th>\n",
       "      <td>01e2f1</td>\n",
       "      <td>10</td>\n",
       "    </tr>\n",
       "    <tr>\n",
       "      <th>5</th>\n",
       "      <td>0202b8</td>\n",
       "      <td>3</td>\n",
       "    </tr>\n",
       "    <tr>\n",
       "      <th>6</th>\n",
       "      <td>022f92</td>\n",
       "      <td>2</td>\n",
       "    </tr>\n",
       "    <tr>\n",
       "      <th>7</th>\n",
       "      <td>036b8c</td>\n",
       "      <td>11</td>\n",
       "    </tr>\n",
       "    <tr>\n",
       "      <th>8</th>\n",
       "      <td>036d23</td>\n",
       "      <td>12</td>\n",
       "    </tr>\n",
       "    <tr>\n",
       "      <th>9</th>\n",
       "      <td>03896c</td>\n",
       "      <td>9</td>\n",
       "    </tr>\n",
       "  </tbody>\n",
       "</table>\n",
       "</div>"
      ],
      "text/plain": [
       "   FLIGHT  MAINTENANCE\n",
       "0  00055a           14\n",
       "1  006042            4\n",
       "2  0192d1            8\n",
       "3  01b892           13\n",
       "4  01e2f1           10\n",
       "5  0202b8            3\n",
       "6  022f92            2\n",
       "7  036b8c           11\n",
       "8  036d23           12\n",
       "9  03896c            9"
      ]
     },
     "execution_count": 3,
     "metadata": {},
     "output_type": "execute_result"
    }
   ],
   "source": [
    "# Output example\n",
    "public.head(10)"
   ]
  },
  {
   "cell_type": "code",
   "execution_count": 4,
   "metadata": {
    "scrolled": true
   },
   "outputs": [],
   "source": [
    "# Exploring data about flight number 00055a\n",
    "target_flight = '036d23'\n",
    "target_days = int(public[public['FLIGHT'] == target_flight]['MAINTENANCE'])\n",
    "\n",
    "# Messages\n",
    "aux_msg = messages[messages['FLIGHT'] == target_flight]\n",
    "\n",
    "# Sensors\n",
    "aux_sen = sensors[sensors['FLIGHT'] == target_flight]"
   ]
  },
  {
   "cell_type": "code",
   "execution_count": 5,
   "metadata": {},
   "outputs": [
    {
     "data": {
      "text/plain": [
       "<matplotlib.axes._subplots.AxesSubplot at 0x10531b210>"
      ]
     },
     "execution_count": 5,
     "metadata": {},
     "output_type": "execute_result"
    },
    {
     "data": {
      "image/png": "[encoded data removed]",
      "text/plain": [
       "<Figure size 720x504 with 1 Axes>"
      ]
     },
     "metadata": {
      "needs_background": "light"
     },
     "output_type": "display_data"
    }
   ],
   "source": [
    "# Sensors readings distribuited with time\n",
    "f, axes = plt.subplots(figsize=(10, 7))\n",
    "sns.distplot(aux_sen['TIME'],hist=False,rug=True,color='r')"
   ]
  },
  {
   "cell_type": "code",
   "execution_count": 6,
   "metadata": {
    "scrolled": false
   },
   "outputs": [
    {
     "data": {
      "text/html": [
       "<div>\n",
       "<style scoped>\n",
       "    .dataframe tbody tr th:only-of-type {\n",
       "        vertical-align: middle;\n",
       "    }\n",
       "\n",
       "    .dataframe tbody tr th {\n",
       "        vertical-align: top;\n",
       "    }\n",
       "\n",
       "    .dataframe thead th {\n",
       "        text-align: right;\n",
       "    }\n",
       "</style>\n",
       "<table border=\"1\" class=\"dataframe\">\n",
       "  <thead>\n",
       "    <tr style=\"text-align: right;\">\n",
       "      <th></th>\n",
       "      <th>AC</th>\n",
       "      <th>FLIGHT</th>\n",
       "      <th>TIME</th>\n",
       "      <th>FLIGHT_PHASE</th>\n",
       "      <th>TYPE</th>\n",
       "      <th>MESSAGE</th>\n",
       "    </tr>\n",
       "  </thead>\n",
       "  <tbody>\n",
       "    <tr>\n",
       "      <th>0</th>\n",
       "      <td>AC19</td>\n",
       "      <td>03896c</td>\n",
       "      <td>105</td>\n",
       "      <td>2</td>\n",
       "      <td>FDE</td>\n",
       "      <td>120</td>\n",
       "    </tr>\n",
       "    <tr>\n",
       "      <th>1</th>\n",
       "      <td>AC19</td>\n",
       "      <td>03896c</td>\n",
       "      <td>4890</td>\n",
       "      <td>3</td>\n",
       "      <td>FDE</td>\n",
       "      <td>120</td>\n",
       "    </tr>\n",
       "    <tr>\n",
       "      <th>2</th>\n",
       "      <td>AC19</td>\n",
       "      <td>03d505</td>\n",
       "      <td>3454</td>\n",
       "      <td>2</td>\n",
       "      <td>FDE</td>\n",
       "      <td>120</td>\n",
       "    </tr>\n",
       "    <tr>\n",
       "      <th>3</th>\n",
       "      <td>AC19</td>\n",
       "      <td>03d505</td>\n",
       "      <td>6048</td>\n",
       "      <td>3</td>\n",
       "      <td>FDE</td>\n",
       "      <td>120</td>\n",
       "    </tr>\n",
       "    <tr>\n",
       "      <th>4</th>\n",
       "      <td>AC19</td>\n",
       "      <td>03d505</td>\n",
       "      <td>8307</td>\n",
       "      <td>2</td>\n",
       "      <td>FDE</td>\n",
       "      <td>120</td>\n",
       "    </tr>\n",
       "    <tr>\n",
       "      <th>5</th>\n",
       "      <td>AC19</td>\n",
       "      <td>03d505</td>\n",
       "      <td>45003</td>\n",
       "      <td>2</td>\n",
       "      <td>FDE</td>\n",
       "      <td>120</td>\n",
       "    </tr>\n",
       "    <tr>\n",
       "      <th>6</th>\n",
       "      <td>AC19</td>\n",
       "      <td>05fd40</td>\n",
       "      <td>127</td>\n",
       "      <td>2</td>\n",
       "      <td>FDE</td>\n",
       "      <td>120</td>\n",
       "    </tr>\n",
       "    <tr>\n",
       "      <th>7</th>\n",
       "      <td>AC19</td>\n",
       "      <td>05fd40</td>\n",
       "      <td>5354</td>\n",
       "      <td>3</td>\n",
       "      <td>FDE</td>\n",
       "      <td>120</td>\n",
       "    </tr>\n",
       "    <tr>\n",
       "      <th>8</th>\n",
       "      <td>AC19</td>\n",
       "      <td>05fd40</td>\n",
       "      <td>5848</td>\n",
       "      <td>2</td>\n",
       "      <td>FDE</td>\n",
       "      <td>120</td>\n",
       "    </tr>\n",
       "    <tr>\n",
       "      <th>9</th>\n",
       "      <td>AC19</td>\n",
       "      <td>06c13f</td>\n",
       "      <td>1583</td>\n",
       "      <td>2</td>\n",
       "      <td>FDE</td>\n",
       "      <td>120</td>\n",
       "    </tr>\n",
       "  </tbody>\n",
       "</table>\n",
       "</div>"
      ],
      "text/plain": [
       "     AC  FLIGHT   TIME  FLIGHT_PHASE TYPE  MESSAGE\n",
       "0  AC19  03896c    105             2  FDE      120\n",
       "1  AC19  03896c   4890             3  FDE      120\n",
       "2  AC19  03d505   3454             2  FDE      120\n",
       "3  AC19  03d505   6048             3  FDE      120\n",
       "4  AC19  03d505   8307             2  FDE      120\n",
       "5  AC19  03d505  45003             2  FDE      120\n",
       "6  AC19  05fd40    127             2  FDE      120\n",
       "7  AC19  05fd40   5354             3  FDE      120\n",
       "8  AC19  05fd40   5848             2  FDE      120\n",
       "9  AC19  06c13f   1583             2  FDE      120"
      ]
     },
     "execution_count": 6,
     "metadata": {},
     "output_type": "execute_result"
    }
   ],
   "source": [
    "# 10 first lines\n",
    "messages.head(10)"
   ]
  },
  {
   "cell_type": "code",
   "execution_count": 45,
   "metadata": {
    "scrolled": true
   },
   "outputs": [
    {
     "name": "stdout",
     "output_type": "stream",
     "text": [
      "<class 'pandas.core.frame.DataFrame'>\n",
      "RangeIndex: 147564 entries, 0 to 147563\n",
      "Data columns (total 6 columns):\n",
      " #   Column        Non-Null Count   Dtype \n",
      "---  ------        --------------   ----- \n",
      " 0   AC            147564 non-null  object\n",
      " 1   FLIGHT        147564 non-null  object\n",
      " 2   TIME          147564 non-null  int64 \n",
      " 3   FLIGHT_PHASE  147564 non-null  int64 \n",
      " 4   TYPE          147564 non-null  object\n",
      " 5   MESSAGE       147564 non-null  int64 \n",
      "dtypes: int64(3), object(3)\n",
      "memory usage: 6.8+ MB\n"
     ]
    }
   ],
   "source": [
    "messages.info()"
   ]
  },
  {
   "cell_type": "code",
   "execution_count": 47,
   "metadata": {},
   "outputs": [
    {
     "data": {
      "text/plain": [
       "2    90404\n",
       "3    27606\n",
       "6    14427\n",
       "5     8115\n",
       "7     3556\n",
       "4     3120\n",
       "8      336\n",
       "Name: FLIGHT_PHASE, dtype: int64"
      ]
     },
     "execution_count": 47,
     "metadata": {},
     "output_type": "execute_result"
    }
   ],
   "source": [
    "messages['FLIGHT_PHASE'].value_counts()"
   ]
  },
  {
   "cell_type": "code",
   "execution_count": 44,
   "metadata": {},
   "outputs": [
    {
     "data": {
      "text/plain": [
       "AC19    37781\n",
       "AC22    28050\n",
       "AC24    23106\n",
       "AC29    15434\n",
       "AC35    15129\n",
       "AC32    13123\n",
       "AC30     6127\n",
       "AC21     4470\n",
       "AC23     4344\n",
       "Name: AC, dtype: int64"
      ]
     },
     "execution_count": 44,
     "metadata": {},
     "output_type": "execute_result"
    }
   ],
   "source": [
    "messages['AC'].value_counts()"
   ]
  },
  {
   "cell_type": "code",
   "execution_count": 49,
   "metadata": {},
   "outputs": [
    {
     "data": {
      "text/plain": [
       "120     96844\n",
       "4713    18620\n",
       "4755    10868\n",
       "4717     4529\n",
       "126      2227\n",
       "        ...  \n",
       "5122        4\n",
       "4744        3\n",
       "5125        2\n",
       "5305        2\n",
       "5299        1\n",
       "Name: MESSAGE, Length: 87, dtype: int64"
      ]
     },
     "execution_count": 49,
     "metadata": {},
     "output_type": "execute_result"
    }
   ],
   "source": [
    "messages['MESSAGE'].value_counts()"
   ]
  },
  {
   "cell_type": "code",
   "execution_count": 50,
   "metadata": {},
   "outputs": [
    {
     "data": {
      "text/plain": [
       "FDE    104049\n",
       "MM      43515\n",
       "Name: TYPE, dtype: int64"
      ]
     },
     "execution_count": 50,
     "metadata": {},
     "output_type": "execute_result"
    }
   ],
   "source": [
    "messages['TYPE'].value_counts()"
   ]
  },
  {
   "cell_type": "code",
   "execution_count": 41,
   "metadata": {},
   "outputs": [
    {
     "data": {
      "text/plain": [
       "<matplotlib.axes._subplots.AxesSubplot at 0x11e0968d0>"
      ]
     },
     "execution_count": 41,
     "metadata": {},
     "output_type": "execute_result"
    },
    {
     "data": {
      "image/png": "[encoded data removed]",
      "text/plain": [
       "<Figure size 432x288 with 1 Axes>"
      ]
     },
     "metadata": {
      "needs_background": "light"
     },
     "output_type": "display_data"
    }
   ],
   "source": [
    "messages.boxplot(column=\"TIME\",by=\"TYPE\")"
   ]
  },
  {
   "cell_type": "code",
   "execution_count": 31,
   "metadata": {},
   "outputs": [
    {
     "ename": "KeyError",
     "evalue": "\"None of [Index(['FLIGHT'], dtype='object')] are in the [columns]\"",
     "output_type": "error",
     "traceback": [
      "\u001b[0;31m---------------------------------------------------------------------------\u001b[0m",
      "\u001b[0;31mKeyError\u001b[0m                                  Traceback (most recent call last)",
      "\u001b[0;32m<ipython-input-31-1429b3e67bd5>\u001b[0m in \u001b[0;36m<module>\u001b[0;34m\u001b[0m\n\u001b[0;32m----> 1\u001b[0;31m \u001b[0mmessages\u001b[0m\u001b[0;34m.\u001b[0m\u001b[0mboxplot\u001b[0m\u001b[0;34m(\u001b[0m\u001b[0mcolumn\u001b[0m\u001b[0;34m=\u001b[0m\u001b[0;34m\"FLIGHT\"\u001b[0m\u001b[0;34m)\u001b[0m\u001b[0;34m\u001b[0m\u001b[0;34m\u001b[0m\u001b[0m\n\u001b[0m",
      "\u001b[0;32m~/opt/anaconda3/lib/python3.7/site-packages/pandas/plotting/_core.py\u001b[0m in \u001b[0;36mboxplot_frame\u001b[0;34m(self, column, by, ax, fontsize, rot, grid, figsize, layout, return_type, backend, **kwargs)\u001b[0m\n\u001b[1;32m    445\u001b[0m         \u001b[0mlayout\u001b[0m\u001b[0;34m=\u001b[0m\u001b[0mlayout\u001b[0m\u001b[0;34m,\u001b[0m\u001b[0;34m\u001b[0m\u001b[0;34m\u001b[0m\u001b[0m\n\u001b[1;32m    446\u001b[0m         \u001b[0mreturn_type\u001b[0m\u001b[0;34m=\u001b[0m\u001b[0mreturn_type\u001b[0m\u001b[0;34m,\u001b[0m\u001b[0;34m\u001b[0m\u001b[0;34m\u001b[0m\u001b[0m\n\u001b[0;32m--> 447\u001b[0;31m         \u001b[0;34m**\u001b[0m\u001b[0mkwargs\u001b[0m\u001b[0;34m,\u001b[0m\u001b[0;34m\u001b[0m\u001b[0;34m\u001b[0m\u001b[0m\n\u001b[0m\u001b[1;32m    448\u001b[0m     )\n\u001b[1;32m    449\u001b[0m \u001b[0;34m\u001b[0m\u001b[0m\n",
      "\u001b[0;32m~/opt/anaconda3/lib/python3.7/site-packages/pandas/plotting/_matplotlib/boxplot.py\u001b[0m in \u001b[0;36mboxplot_frame\u001b[0;34m(self, column, by, ax, fontsize, rot, grid, figsize, layout, return_type, **kwds)\u001b[0m\n\u001b[1;32m    373\u001b[0m         \u001b[0mlayout\u001b[0m\u001b[0;34m=\u001b[0m\u001b[0mlayout\u001b[0m\u001b[0;34m,\u001b[0m\u001b[0;34m\u001b[0m\u001b[0;34m\u001b[0m\u001b[0m\n\u001b[1;32m    374\u001b[0m         \u001b[0mreturn_type\u001b[0m\u001b[0;34m=\u001b[0m\u001b[0mreturn_type\u001b[0m\u001b[0;34m,\u001b[0m\u001b[0;34m\u001b[0m\u001b[0;34m\u001b[0m\u001b[0m\n\u001b[0;32m--> 375\u001b[0;31m         \u001b[0;34m**\u001b[0m\u001b[0mkwds\u001b[0m\u001b[0;34m,\u001b[0m\u001b[0;34m\u001b[0m\u001b[0;34m\u001b[0m\u001b[0m\n\u001b[0m\u001b[1;32m    376\u001b[0m     )\n\u001b[1;32m    377\u001b[0m     \u001b[0mplt\u001b[0m\u001b[0;34m.\u001b[0m\u001b[0mdraw_if_interactive\u001b[0m\u001b[0;34m(\u001b[0m\u001b[0;34m)\u001b[0m\u001b[0;34m\u001b[0m\u001b[0;34m\u001b[0m\u001b[0m\n",
      "\u001b[0;32m~/opt/anaconda3/lib/python3.7/site-packages/pandas/plotting/_matplotlib/boxplot.py\u001b[0m in \u001b[0;36mboxplot\u001b[0;34m(data, column, by, ax, fontsize, rot, grid, figsize, layout, return_type, **kwds)\u001b[0m\n\u001b[1;32m    339\u001b[0m             \u001b[0mcolumns\u001b[0m \u001b[0;34m=\u001b[0m \u001b[0mdata\u001b[0m\u001b[0;34m.\u001b[0m\u001b[0mcolumns\u001b[0m\u001b[0;34m\u001b[0m\u001b[0;34m\u001b[0m\u001b[0m\n\u001b[1;32m    340\u001b[0m         \u001b[0;32melse\u001b[0m\u001b[0;34m:\u001b[0m\u001b[0;34m\u001b[0m\u001b[0;34m\u001b[0m\u001b[0m\n\u001b[0;32m--> 341\u001b[0;31m             \u001b[0mdata\u001b[0m \u001b[0;34m=\u001b[0m \u001b[0mdata\u001b[0m\u001b[0;34m[\u001b[0m\u001b[0mcolumns\u001b[0m\u001b[0;34m]\u001b[0m\u001b[0;34m\u001b[0m\u001b[0;34m\u001b[0m\u001b[0m\n\u001b[0m\u001b[1;32m    342\u001b[0m \u001b[0;34m\u001b[0m\u001b[0m\n\u001b[1;32m    343\u001b[0m         \u001b[0mresult\u001b[0m \u001b[0;34m=\u001b[0m \u001b[0mplot_group\u001b[0m\u001b[0;34m(\u001b[0m\u001b[0mcolumns\u001b[0m\u001b[0;34m,\u001b[0m \u001b[0mdata\u001b[0m\u001b[0;34m.\u001b[0m\u001b[0mvalues\u001b[0m\u001b[0;34m.\u001b[0m\u001b[0mT\u001b[0m\u001b[0;34m,\u001b[0m \u001b[0max\u001b[0m\u001b[0;34m)\u001b[0m\u001b[0;34m\u001b[0m\u001b[0;34m\u001b[0m\u001b[0m\n",
      "\u001b[0;32m~/opt/anaconda3/lib/python3.7/site-packages/pandas/core/frame.py\u001b[0m in \u001b[0;36m__getitem__\u001b[0;34m(self, key)\u001b[0m\n\u001b[1;32m   2804\u001b[0m             \u001b[0;32mif\u001b[0m \u001b[0mis_iterator\u001b[0m\u001b[0;34m(\u001b[0m\u001b[0mkey\u001b[0m\u001b[0;34m)\u001b[0m\u001b[0;34m:\u001b[0m\u001b[0;34m\u001b[0m\u001b[0;34m\u001b[0m\u001b[0m\n\u001b[1;32m   2805\u001b[0m                 \u001b[0mkey\u001b[0m \u001b[0;34m=\u001b[0m \u001b[0mlist\u001b[0m\u001b[0;34m(\u001b[0m\u001b[0mkey\u001b[0m\u001b[0;34m)\u001b[0m\u001b[0;34m\u001b[0m\u001b[0;34m\u001b[0m\u001b[0m\n\u001b[0;32m-> 2806\u001b[0;31m             \u001b[0mindexer\u001b[0m \u001b[0;34m=\u001b[0m \u001b[0mself\u001b[0m\u001b[0;34m.\u001b[0m\u001b[0mloc\u001b[0m\u001b[0;34m.\u001b[0m\u001b[0m_get_listlike_indexer\u001b[0m\u001b[0;34m(\u001b[0m\u001b[0mkey\u001b[0m\u001b[0;34m,\u001b[0m \u001b[0maxis\u001b[0m\u001b[0;34m=\u001b[0m\u001b[0;36m1\u001b[0m\u001b[0;34m,\u001b[0m \u001b[0mraise_missing\u001b[0m\u001b[0;34m=\u001b[0m\u001b[0;32mTrue\u001b[0m\u001b[0;34m)\u001b[0m\u001b[0;34m[\u001b[0m\u001b[0;36m1\u001b[0m\u001b[0;34m]\u001b[0m\u001b[0;34m\u001b[0m\u001b[0;34m\u001b[0m\u001b[0m\n\u001b[0m\u001b[1;32m   2807\u001b[0m \u001b[0;34m\u001b[0m\u001b[0m\n\u001b[1;32m   2808\u001b[0m         \u001b[0;31m# take() does not accept boolean indexers\u001b[0m\u001b[0;34m\u001b[0m\u001b[0;34m\u001b[0m\u001b[0;34m\u001b[0m\u001b[0m\n",
      "\u001b[0;32m~/opt/anaconda3/lib/python3.7/site-packages/pandas/core/indexing.py\u001b[0m in \u001b[0;36m_get_listlike_indexer\u001b[0;34m(self, key, axis, raise_missing)\u001b[0m\n\u001b[1;32m   1550\u001b[0m \u001b[0;34m\u001b[0m\u001b[0m\n\u001b[1;32m   1551\u001b[0m         self._validate_read_indexer(\n\u001b[0;32m-> 1552\u001b[0;31m             \u001b[0mkeyarr\u001b[0m\u001b[0;34m,\u001b[0m \u001b[0mindexer\u001b[0m\u001b[0;34m,\u001b[0m \u001b[0mo\u001b[0m\u001b[0;34m.\u001b[0m\u001b[0m_get_axis_number\u001b[0m\u001b[0;34m(\u001b[0m\u001b[0maxis\u001b[0m\u001b[0;34m)\u001b[0m\u001b[0;34m,\u001b[0m \u001b[0mraise_missing\u001b[0m\u001b[0;34m=\u001b[0m\u001b[0mraise_missing\u001b[0m\u001b[0;34m\u001b[0m\u001b[0;34m\u001b[0m\u001b[0m\n\u001b[0m\u001b[1;32m   1553\u001b[0m         )\n\u001b[1;32m   1554\u001b[0m         \u001b[0;32mreturn\u001b[0m \u001b[0mkeyarr\u001b[0m\u001b[0;34m,\u001b[0m \u001b[0mindexer\u001b[0m\u001b[0;34m\u001b[0m\u001b[0;34m\u001b[0m\u001b[0m\n",
      "\u001b[0;32m~/opt/anaconda3/lib/python3.7/site-packages/pandas/core/indexing.py\u001b[0m in \u001b[0;36m_validate_read_indexer\u001b[0;34m(self, key, indexer, axis, raise_missing)\u001b[0m\n\u001b[1;32m   1637\u001b[0m             \u001b[0;32mif\u001b[0m \u001b[0mmissing\u001b[0m \u001b[0;34m==\u001b[0m \u001b[0mlen\u001b[0m\u001b[0;34m(\u001b[0m\u001b[0mindexer\u001b[0m\u001b[0;34m)\u001b[0m\u001b[0;34m:\u001b[0m\u001b[0;34m\u001b[0m\u001b[0;34m\u001b[0m\u001b[0m\n\u001b[1;32m   1638\u001b[0m                 \u001b[0maxis_name\u001b[0m \u001b[0;34m=\u001b[0m \u001b[0mself\u001b[0m\u001b[0;34m.\u001b[0m\u001b[0mobj\u001b[0m\u001b[0;34m.\u001b[0m\u001b[0m_get_axis_name\u001b[0m\u001b[0;34m(\u001b[0m\u001b[0maxis\u001b[0m\u001b[0;34m)\u001b[0m\u001b[0;34m\u001b[0m\u001b[0;34m\u001b[0m\u001b[0m\n\u001b[0;32m-> 1639\u001b[0;31m                 \u001b[0;32mraise\u001b[0m \u001b[0mKeyError\u001b[0m\u001b[0;34m(\u001b[0m\u001b[0;34mf\"None of [{key}] are in the [{axis_name}]\"\u001b[0m\u001b[0;34m)\u001b[0m\u001b[0;34m\u001b[0m\u001b[0;34m\u001b[0m\u001b[0m\n\u001b[0m\u001b[1;32m   1640\u001b[0m \u001b[0;34m\u001b[0m\u001b[0m\n\u001b[1;32m   1641\u001b[0m             \u001b[0;31m# We (temporarily) allow for some missing keys with .loc, except in\u001b[0m\u001b[0;34m\u001b[0m\u001b[0;34m\u001b[0m\u001b[0;34m\u001b[0m\u001b[0m\n",
      "\u001b[0;31mKeyError\u001b[0m: \"None of [Index(['FLIGHT'], dtype='object')] are in the [columns]\""
     ]
    },
    {
     "data": {
      "image/png": "[encoded data removed]",
      "text/plain": [
       "<Figure size 432x288 with 1 Axes>"
      ]
     },
     "metadata": {
      "needs_background": "light"
     },
     "output_type": "display_data"
    }
   ],
   "source": [
    "messages.boxplot(column=\"FLIGHT\")"
   ]
  },
  {
   "cell_type": "code",
   "execution_count": 10,
   "metadata": {},
   "outputs": [
    {
     "data": {
      "text/html": [
       "<div>\n",
       "<style scoped>\n",
       "    .dataframe tbody tr th:only-of-type {\n",
       "        vertical-align: middle;\n",
       "    }\n",
       "\n",
       "    .dataframe tbody tr th {\n",
       "        vertical-align: top;\n",
       "    }\n",
       "\n",
       "    .dataframe thead th {\n",
       "        text-align: right;\n",
       "    }\n",
       "</style>\n",
       "<table border=\"1\" class=\"dataframe\">\n",
       "  <thead>\n",
       "    <tr style=\"text-align: right;\">\n",
       "      <th></th>\n",
       "      <th>FLIGHT</th>\n",
       "      <th>BEFORE</th>\n",
       "    </tr>\n",
       "  </thead>\n",
       "  <tbody>\n",
       "    <tr>\n",
       "      <th>0</th>\n",
       "      <td>00055a</td>\n",
       "      <td>6486f3</td>\n",
       "    </tr>\n",
       "    <tr>\n",
       "      <th>1</th>\n",
       "      <td>006042</td>\n",
       "      <td>3f52d9</td>\n",
       "    </tr>\n",
       "    <tr>\n",
       "      <th>2</th>\n",
       "      <td>00f1a7</td>\n",
       "      <td>21a675</td>\n",
       "    </tr>\n",
       "    <tr>\n",
       "      <th>3</th>\n",
       "      <td>0192d1</td>\n",
       "      <td>1c793f</td>\n",
       "    </tr>\n",
       "    <tr>\n",
       "      <th>4</th>\n",
       "      <td>01b892</td>\n",
       "      <td>a2838a</td>\n",
       "    </tr>\n",
       "  </tbody>\n",
       "</table>\n",
       "</div>"
      ],
      "text/plain": [
       "   FLIGHT  BEFORE\n",
       "0  00055a  6486f3\n",
       "1  006042  3f52d9\n",
       "2  00f1a7  21a675\n",
       "3  0192d1  1c793f\n",
       "4  01b892  a2838a"
      ]
     },
     "execution_count": 10,
     "metadata": {},
     "output_type": "execute_result"
    }
   ],
   "source": [
    "order.head()"
   ]
  },
  {
   "cell_type": "code",
   "execution_count": 11,
   "metadata": {},
   "outputs": [
    {
     "data": {
      "text/html": [
       "<div>\n",
       "<style scoped>\n",
       "    .dataframe tbody tr th:only-of-type {\n",
       "        vertical-align: middle;\n",
       "    }\n",
       "\n",
       "    .dataframe tbody tr th {\n",
       "        vertical-align: top;\n",
       "    }\n",
       "\n",
       "    .dataframe thead th {\n",
       "        text-align: right;\n",
       "    }\n",
       "</style>\n",
       "<table border=\"1\" class=\"dataframe\">\n",
       "  <thead>\n",
       "    <tr style=\"text-align: right;\">\n",
       "      <th></th>\n",
       "      <th>AC</th>\n",
       "      <th>FLIGHT</th>\n",
       "      <th>TIME</th>\n",
       "      <th>AMBIENT_1</th>\n",
       "      <th>PAR_AC_1</th>\n",
       "      <th>PAR_AC_2</th>\n",
       "      <th>PAR_AC_3</th>\n",
       "      <th>PAR_AC_4</th>\n",
       "      <th>PAR_SYS_1</th>\n",
       "      <th>PAR_SYS_2</th>\n",
       "      <th>...</th>\n",
       "      <th>WAR_SYS_1</th>\n",
       "      <th>COM_SYS_1</th>\n",
       "      <th>PAR_SYS_9</th>\n",
       "      <th>PAR_SYS_10</th>\n",
       "      <th>PAR_SYS_5</th>\n",
       "      <th>WAR_SYS_2</th>\n",
       "      <th>PAR_SYS_6</th>\n",
       "      <th>WAR_SYS_3</th>\n",
       "      <th>PAR_SYS_7</th>\n",
       "      <th>PAR_SYS_8</th>\n",
       "    </tr>\n",
       "  </thead>\n",
       "  <tbody>\n",
       "    <tr>\n",
       "      <th>0</th>\n",
       "      <td>AC19</td>\n",
       "      <td>006042</td>\n",
       "      <td>0</td>\n",
       "      <td>11720.0</td>\n",
       "      <td>44.18250</td>\n",
       "      <td>40.92875</td>\n",
       "      <td>0</td>\n",
       "      <td>0</td>\n",
       "      <td>69.000</td>\n",
       "      <td>285.0</td>\n",
       "      <td>...</td>\n",
       "      <td>0</td>\n",
       "      <td>0</td>\n",
       "      <td>0.0</td>\n",
       "      <td>0.0</td>\n",
       "      <td>1.0</td>\n",
       "      <td>0</td>\n",
       "      <td>1</td>\n",
       "      <td>0</td>\n",
       "      <td>225.7875</td>\n",
       "      <td>132.300</td>\n",
       "    </tr>\n",
       "    <tr>\n",
       "      <th>1</th>\n",
       "      <td>AC19</td>\n",
       "      <td>006042</td>\n",
       "      <td>1</td>\n",
       "      <td>11720.0</td>\n",
       "      <td>42.98375</td>\n",
       "      <td>40.07250</td>\n",
       "      <td>0</td>\n",
       "      <td>0</td>\n",
       "      <td>69.000</td>\n",
       "      <td>287.0</td>\n",
       "      <td>...</td>\n",
       "      <td>0</td>\n",
       "      <td>0</td>\n",
       "      <td>0.0</td>\n",
       "      <td>0.0</td>\n",
       "      <td>1.0</td>\n",
       "      <td>0</td>\n",
       "      <td>1</td>\n",
       "      <td>0</td>\n",
       "      <td>225.7875</td>\n",
       "      <td>132.300</td>\n",
       "    </tr>\n",
       "    <tr>\n",
       "      <th>2</th>\n",
       "      <td>AC19</td>\n",
       "      <td>006042</td>\n",
       "      <td>2</td>\n",
       "      <td>11720.5</td>\n",
       "      <td>42.98375</td>\n",
       "      <td>40.07250</td>\n",
       "      <td>0</td>\n",
       "      <td>0</td>\n",
       "      <td>69.000</td>\n",
       "      <td>287.0</td>\n",
       "      <td>...</td>\n",
       "      <td>0</td>\n",
       "      <td>0</td>\n",
       "      <td>0.0</td>\n",
       "      <td>0.0</td>\n",
       "      <td>1.0</td>\n",
       "      <td>0</td>\n",
       "      <td>1</td>\n",
       "      <td>0</td>\n",
       "      <td>112.7250</td>\n",
       "      <td>132.300</td>\n",
       "    </tr>\n",
       "    <tr>\n",
       "      <th>3</th>\n",
       "      <td>AC19</td>\n",
       "      <td>006042</td>\n",
       "      <td>3</td>\n",
       "      <td>11720.5</td>\n",
       "      <td>42.98375</td>\n",
       "      <td>40.07250</td>\n",
       "      <td>0</td>\n",
       "      <td>0</td>\n",
       "      <td>67.500</td>\n",
       "      <td>287.0</td>\n",
       "      <td>...</td>\n",
       "      <td>0</td>\n",
       "      <td>0</td>\n",
       "      <td>0.0</td>\n",
       "      <td>0.0</td>\n",
       "      <td>1.0</td>\n",
       "      <td>0</td>\n",
       "      <td>1</td>\n",
       "      <td>0</td>\n",
       "      <td>112.7250</td>\n",
       "      <td>124.875</td>\n",
       "    </tr>\n",
       "    <tr>\n",
       "      <th>4</th>\n",
       "      <td>AC19</td>\n",
       "      <td>006042</td>\n",
       "      <td>3060</td>\n",
       "      <td>11724.0</td>\n",
       "      <td>0.00000</td>\n",
       "      <td>0.00000</td>\n",
       "      <td>0</td>\n",
       "      <td>0</td>\n",
       "      <td>66.625</td>\n",
       "      <td>246.0</td>\n",
       "      <td>...</td>\n",
       "      <td>0</td>\n",
       "      <td>0</td>\n",
       "      <td>0.0</td>\n",
       "      <td>0.0</td>\n",
       "      <td>0.0</td>\n",
       "      <td>0</td>\n",
       "      <td>0</td>\n",
       "      <td>0</td>\n",
       "      <td>79.6500</td>\n",
       "      <td>0.000</td>\n",
       "    </tr>\n",
       "  </tbody>\n",
       "</table>\n",
       "<p>5 rows × 22 columns</p>\n",
       "</div>"
      ],
      "text/plain": [
       "     AC  FLIGHT  TIME  AMBIENT_1  PAR_AC_1  PAR_AC_2  PAR_AC_3  PAR_AC_4  \\\n",
       "0  AC19  006042     0    11720.0  44.18250  40.92875         0         0   \n",
       "1  AC19  006042     1    11720.0  42.98375  40.07250         0         0   \n",
       "2  AC19  006042     2    11720.5  42.98375  40.07250         0         0   \n",
       "3  AC19  006042     3    11720.5  42.98375  40.07250         0         0   \n",
       "4  AC19  006042  3060    11724.0   0.00000   0.00000         0         0   \n",
       "\n",
       "   PAR_SYS_1  PAR_SYS_2  ...  WAR_SYS_1  COM_SYS_1  PAR_SYS_9  PAR_SYS_10  \\\n",
       "0     69.000      285.0  ...          0          0        0.0         0.0   \n",
       "1     69.000      287.0  ...          0          0        0.0         0.0   \n",
       "2     69.000      287.0  ...          0          0        0.0         0.0   \n",
       "3     67.500      287.0  ...          0          0        0.0         0.0   \n",
       "4     66.625      246.0  ...          0          0        0.0         0.0   \n",
       "\n",
       "   PAR_SYS_5  WAR_SYS_2  PAR_SYS_6  WAR_SYS_3  PAR_SYS_7  PAR_SYS_8  \n",
       "0        1.0          0          1          0   225.7875    132.300  \n",
       "1        1.0          0          1          0   225.7875    132.300  \n",
       "2        1.0          0          1          0   112.7250    132.300  \n",
       "3        1.0          0          1          0   112.7250    124.875  \n",
       "4        0.0          0          0          0    79.6500      0.000  \n",
       "\n",
       "[5 rows x 22 columns]"
      ]
     },
     "execution_count": 11,
     "metadata": {},
     "output_type": "execute_result"
    }
   ],
   "source": [
    "sensors.head()"
   ]
  },
  {
   "cell_type": "code",
   "execution_count": null,
   "metadata": {},
   "outputs": [],
   "source": []
  }
 ],
 "metadata": {
  "kernelspec": {
   "display_name": "Python 3",
   "language": "python",
   "name": "python3"
  },
  "language_info": {
   "codemirror_mode": {
    "name": "ipython",
    "version": 3
   },
   "file_extension": ".py",
   "mimetype": "text/x-python",
   "name": "python",
   "nbconvert_exporter": "python",
   "pygments_lexer": "ipython3",
   "version": "3.7.6"
  }
 },
 "nbformat": 4,
 "nbformat_minor": 4
}
