{
 "cells": [
  {
   "cell_type": "code",
   "execution_count": 1,
   "metadata": {},
   "outputs": [],
   "source": [
    "# Bibliotecas Utilizadas no Pre Processamento\n",
    "import pandas as pd\n",
    "import numpy as np\n",
    "import matplotlib.pyplot as ply\n",
    "import seaborn as sns\n",
    "import mmh3\n",
    "import random\n",
    "%matplotlib inline"
   ]
  },
  {
   "cell_type": "code",
   "execution_count": 2,
   "metadata": {},
   "outputs": [],
   "source": [
    "%%capture\n",
    "from tqdm import notebook as nb_tqdm\n",
    "nb_tqdm.tqdm().pandas()"
   ]
  },
  {
   "cell_type": "code",
   "execution_count": 3,
   "metadata": {},
   "outputs": [],
   "source": [
    "# Importanto dados utilizados\n",
    "messages = pd.read_csv('databases/private-data/messages.csv')\n",
    "orders = pd.read_csv('databases/private-data/order.csv')\n",
    "sensors = pd.read_csv('databases/private-data/sensors.csv')\n",
    "\n",
    "# Fetching public data\n",
    "public = pd.read_csv('databases/public.csv')"
   ]
  },
  {
   "cell_type": "markdown",
   "metadata": {},
   "source": [
    "### Restringindo as tabelas Mensagens e Sensores para o Voos com Label"
   ]
  },
  {
   "cell_type": "code",
   "execution_count": 4,
   "metadata": {},
   "outputs": [],
   "source": [
    "# Escolhendo voos\n",
    "public_reduced = public.copy() # Trocar por public.head(NUM_VOOS).copy() se for testar com menos voos\n",
    "\n",
    "# Armazenando os voos que serão previstos\n",
    "flights = set(public_reduced['FLIGHT'].unique())"
   ]
  },
  {
   "cell_type": "code",
   "execution_count": 5,
   "metadata": {},
   "outputs": [],
   "source": [
    "# Reduzindo sensors e messages para somente os voos estudados\n",
    "sensors_reduced = sensors[sensors['FLIGHT'].isin(flights)].copy()\n",
    "messages_reduced = messages[messages['FLIGHT'].isin(flights)].copy()\n",
    "\n",
    "# Tirando as duplicatas\n",
    "sensors_reduced.drop_duplicates(inplace=True)\n",
    "messages_reduced.drop_duplicates(inplace=True)"
   ]
  },
  {
   "cell_type": "code",
   "execution_count": 6,
   "metadata": {},
   "outputs": [],
   "source": [
    "# Função para limitar o número de linhas por voo\n",
    "def limitNumberOfRowsPerFlight(df,flight_col_name,limit_rows):\n",
    "    # Criando um data frame auxiliar com as mesmas colunas do original\n",
    "    reduced_df = pd.DataFrame(columns = list(df.columns))\n",
    "    \n",
    "    # Setando limite de linhas por VOO\n",
    "    LIMIT_ROWS_PER_FLIGHT = limit_rows\n",
    "    \n",
    "    # Unique Flights in DF\n",
    "    unique_flights = list(df[flight_col_name].unique())\n",
    "    \n",
    "    # Montando a tabela iterando em cada um dos voos únicos\n",
    "    for uf in nb_tqdm.tqdm(unique_flights): \n",
    "        # Armazenando em quais indices do DF original estão os registros desse voo                \n",
    "        indices = list(df[df[flight_col_name] == uf].index)            \n",
    "\n",
    "        # Verificando se o número de Voos é maior que o limite. Se for, faz-se a redução\n",
    "        if len(indices) > LIMIT_ROWS_PER_FLIGHT:\n",
    "            # Escolhendo indices aleatórios\n",
    "            random.seed(4)\n",
    "            limited_indices = random.sample(indices,LIMIT_ROWS_PER_FLIGHT)\n",
    "        else:\n",
    "            limited_indices = indices\n",
    "            \n",
    "        limited_indices.sort() # Garantindo ordem crescente dos índices\n",
    "\n",
    "        # Preenchendo o novo DataFrame\n",
    "        reduced_df = reduced_df.append(df[df.index.isin(limited_indices)],ignore_index=True)\n",
    "            \n",
    "    return reduced_df"
   ]
  },
  {
   "cell_type": "code",
   "execution_count": 7,
   "metadata": {
    "scrolled": true
   },
   "outputs": [
    {
     "data": {
      "application/vnd.jupyter.widget-view+json": {
       "model_id": "284423aed18047bf86c6bd42005da876",
       "version_major": 2,
       "version_minor": 0
      },
      "text/plain": [
       "HBox(children=(FloatProgress(value=0.0, max=901.0), HTML(value='')))"
      ]
     },
     "metadata": {},
     "output_type": "display_data"
    },
    {
     "name": "stdout",
     "output_type": "stream",
     "text": [
      "\n"
     ]
    },
    {
     "data": {
      "application/vnd.jupyter.widget-view+json": {
       "model_id": "e899a0eaada74c4d8a952b8e9851022c",
       "version_major": 2,
       "version_minor": 0
      },
      "text/plain": [
       "HBox(children=(FloatProgress(value=0.0, max=391.0), HTML(value='')))"
      ]
     },
     "metadata": {},
     "output_type": "display_data"
    },
    {
     "name": "stdout",
     "output_type": "stream",
     "text": [
      "\n"
     ]
    }
   ],
   "source": [
    "# Limitando o número de Linhas por Voo nas tabelas\n",
    "sensors_reduced = limitNumberOfRowsPerFlight(sensors_reduced,'FLIGHT',200)\n",
    "messages_reduced = limitNumberOfRowsPerFlight(messages_reduced,'FLIGHT',200)"
   ]
  },
  {
   "cell_type": "code",
   "execution_count": 8,
   "metadata": {
    "scrolled": true
   },
   "outputs": [
    {
     "data": {
      "text/html": [
       "<div>\n",
       "<style scoped>\n",
       "    .dataframe tbody tr th:only-of-type {\n",
       "        vertical-align: middle;\n",
       "    }\n",
       "\n",
       "    .dataframe tbody tr th {\n",
       "        vertical-align: top;\n",
       "    }\n",
       "\n",
       "    .dataframe thead th {\n",
       "        text-align: right;\n",
       "    }\n",
       "</style>\n",
       "<table border=\"1\" class=\"dataframe\">\n",
       "  <thead>\n",
       "    <tr style=\"text-align: right;\">\n",
       "      <th></th>\n",
       "      <th>AC</th>\n",
       "      <th>FLIGHT</th>\n",
       "      <th>TIME</th>\n",
       "      <th>AMBIENT_1</th>\n",
       "      <th>PAR_AC_1</th>\n",
       "      <th>PAR_AC_2</th>\n",
       "      <th>PAR_AC_3</th>\n",
       "      <th>PAR_AC_4</th>\n",
       "      <th>PAR_SYS_1</th>\n",
       "      <th>PAR_SYS_2</th>\n",
       "      <th>...</th>\n",
       "      <th>WAR_SYS_1</th>\n",
       "      <th>COM_SYS_1</th>\n",
       "      <th>PAR_SYS_9</th>\n",
       "      <th>PAR_SYS_10</th>\n",
       "      <th>PAR_SYS_5</th>\n",
       "      <th>WAR_SYS_2</th>\n",
       "      <th>PAR_SYS_6</th>\n",
       "      <th>WAR_SYS_3</th>\n",
       "      <th>PAR_SYS_7</th>\n",
       "      <th>PAR_SYS_8</th>\n",
       "    </tr>\n",
       "  </thead>\n",
       "  <tbody>\n",
       "    <tr>\n",
       "      <th>0</th>\n",
       "      <td>AC19</td>\n",
       "      <td>006042</td>\n",
       "      <td>3115</td>\n",
       "      <td>11723.0</td>\n",
       "      <td>0.00000</td>\n",
       "      <td>29.11250</td>\n",
       "      <td>0</td>\n",
       "      <td>0</td>\n",
       "      <td>65.375</td>\n",
       "      <td>247.0</td>\n",
       "      <td>...</td>\n",
       "      <td>0</td>\n",
       "      <td>0</td>\n",
       "      <td>0.0</td>\n",
       "      <td>0.0</td>\n",
       "      <td>0.0</td>\n",
       "      <td>0</td>\n",
       "      <td>0</td>\n",
       "      <td>0</td>\n",
       "      <td>0.000</td>\n",
       "      <td>16.2000</td>\n",
       "    </tr>\n",
       "    <tr>\n",
       "      <th>1</th>\n",
       "      <td>AC19</td>\n",
       "      <td>006042</td>\n",
       "      <td>3132</td>\n",
       "      <td>11721.0</td>\n",
       "      <td>0.00000</td>\n",
       "      <td>29.28375</td>\n",
       "      <td>0</td>\n",
       "      <td>0</td>\n",
       "      <td>65.375</td>\n",
       "      <td>299.0</td>\n",
       "      <td>...</td>\n",
       "      <td>0</td>\n",
       "      <td>0</td>\n",
       "      <td>0.0</td>\n",
       "      <td>0.0</td>\n",
       "      <td>0.0</td>\n",
       "      <td>0</td>\n",
       "      <td>0</td>\n",
       "      <td>0</td>\n",
       "      <td>0.000</td>\n",
       "      <td>0.0000</td>\n",
       "    </tr>\n",
       "    <tr>\n",
       "      <th>2</th>\n",
       "      <td>AC19</td>\n",
       "      <td>006042</td>\n",
       "      <td>3204</td>\n",
       "      <td>11721.0</td>\n",
       "      <td>29.28375</td>\n",
       "      <td>29.45500</td>\n",
       "      <td>0</td>\n",
       "      <td>0</td>\n",
       "      <td>44.250</td>\n",
       "      <td>279.0</td>\n",
       "      <td>...</td>\n",
       "      <td>0</td>\n",
       "      <td>0</td>\n",
       "      <td>0.0</td>\n",
       "      <td>0.0</td>\n",
       "      <td>1.0</td>\n",
       "      <td>0</td>\n",
       "      <td>1</td>\n",
       "      <td>0</td>\n",
       "      <td>99.225</td>\n",
       "      <td>111.0375</td>\n",
       "    </tr>\n",
       "    <tr>\n",
       "      <th>3</th>\n",
       "      <td>AC19</td>\n",
       "      <td>006042</td>\n",
       "      <td>3218</td>\n",
       "      <td>11721.5</td>\n",
       "      <td>29.45500</td>\n",
       "      <td>29.62625</td>\n",
       "      <td>0</td>\n",
       "      <td>0</td>\n",
       "      <td>43.875</td>\n",
       "      <td>230.0</td>\n",
       "      <td>...</td>\n",
       "      <td>0</td>\n",
       "      <td>0</td>\n",
       "      <td>0.0</td>\n",
       "      <td>0.0</td>\n",
       "      <td>1.0</td>\n",
       "      <td>0</td>\n",
       "      <td>1</td>\n",
       "      <td>0</td>\n",
       "      <td>112.725</td>\n",
       "      <td>121.1625</td>\n",
       "    </tr>\n",
       "    <tr>\n",
       "      <th>4</th>\n",
       "      <td>AC19</td>\n",
       "      <td>006042</td>\n",
       "      <td>3266</td>\n",
       "      <td>11721.0</td>\n",
       "      <td>29.28375</td>\n",
       "      <td>29.62625</td>\n",
       "      <td>0</td>\n",
       "      <td>0</td>\n",
       "      <td>42.875</td>\n",
       "      <td>265.0</td>\n",
       "      <td>...</td>\n",
       "      <td>0</td>\n",
       "      <td>0</td>\n",
       "      <td>0.0</td>\n",
       "      <td>0.0</td>\n",
       "      <td>1.0</td>\n",
       "      <td>0</td>\n",
       "      <td>1</td>\n",
       "      <td>0</td>\n",
       "      <td>129.600</td>\n",
       "      <td>123.1875</td>\n",
       "    </tr>\n",
       "    <tr>\n",
       "      <th>...</th>\n",
       "      <td>...</td>\n",
       "      <td>...</td>\n",
       "      <td>...</td>\n",
       "      <td>...</td>\n",
       "      <td>...</td>\n",
       "      <td>...</td>\n",
       "      <td>...</td>\n",
       "      <td>...</td>\n",
       "      <td>...</td>\n",
       "      <td>...</td>\n",
       "      <td>...</td>\n",
       "      <td>...</td>\n",
       "      <td>...</td>\n",
       "      <td>...</td>\n",
       "      <td>...</td>\n",
       "      <td>...</td>\n",
       "      <td>...</td>\n",
       "      <td>...</td>\n",
       "      <td>...</td>\n",
       "      <td>...</td>\n",
       "      <td>...</td>\n",
       "    </tr>\n",
       "    <tr>\n",
       "      <th>180195</th>\n",
       "      <td>AC36</td>\n",
       "      <td>fe38f6</td>\n",
       "      <td>5689</td>\n",
       "      <td>12230.0</td>\n",
       "      <td>30.65375</td>\n",
       "      <td>13.87125</td>\n",
       "      <td>0</td>\n",
       "      <td>0</td>\n",
       "      <td>44.375</td>\n",
       "      <td>245.0</td>\n",
       "      <td>...</td>\n",
       "      <td>0</td>\n",
       "      <td>0</td>\n",
       "      <td>0.0</td>\n",
       "      <td>0.0</td>\n",
       "      <td>1.0</td>\n",
       "      <td>0</td>\n",
       "      <td>1</td>\n",
       "      <td>0</td>\n",
       "      <td>98.550</td>\n",
       "      <td>44.5500</td>\n",
       "    </tr>\n",
       "    <tr>\n",
       "      <th>180196</th>\n",
       "      <td>AC36</td>\n",
       "      <td>fe38f6</td>\n",
       "      <td>5699</td>\n",
       "      <td>12230.5</td>\n",
       "      <td>0.00000</td>\n",
       "      <td>0.00000</td>\n",
       "      <td>0</td>\n",
       "      <td>0</td>\n",
       "      <td>22.250</td>\n",
       "      <td>234.0</td>\n",
       "      <td>...</td>\n",
       "      <td>0</td>\n",
       "      <td>0</td>\n",
       "      <td>0.0</td>\n",
       "      <td>0.0</td>\n",
       "      <td>0.0</td>\n",
       "      <td>0</td>\n",
       "      <td>0</td>\n",
       "      <td>0</td>\n",
       "      <td>0.000</td>\n",
       "      <td>0.0000</td>\n",
       "    </tr>\n",
       "    <tr>\n",
       "      <th>180197</th>\n",
       "      <td>AC36</td>\n",
       "      <td>fe38f6</td>\n",
       "      <td>5719</td>\n",
       "      <td>12231.5</td>\n",
       "      <td>10.44625</td>\n",
       "      <td>0.00000</td>\n",
       "      <td>0</td>\n",
       "      <td>0</td>\n",
       "      <td>22.375</td>\n",
       "      <td>235.0</td>\n",
       "      <td>...</td>\n",
       "      <td>0</td>\n",
       "      <td>0</td>\n",
       "      <td>0.0</td>\n",
       "      <td>0.0</td>\n",
       "      <td>0.0</td>\n",
       "      <td>0</td>\n",
       "      <td>0</td>\n",
       "      <td>0</td>\n",
       "      <td>0.000</td>\n",
       "      <td>0.0000</td>\n",
       "    </tr>\n",
       "    <tr>\n",
       "      <th>180198</th>\n",
       "      <td>AC36</td>\n",
       "      <td>fe38f6</td>\n",
       "      <td>5736</td>\n",
       "      <td>12234.0</td>\n",
       "      <td>0.00000</td>\n",
       "      <td>0.00000</td>\n",
       "      <td>0</td>\n",
       "      <td>0</td>\n",
       "      <td>22.250</td>\n",
       "      <td>234.0</td>\n",
       "      <td>...</td>\n",
       "      <td>0</td>\n",
       "      <td>0</td>\n",
       "      <td>0.0</td>\n",
       "      <td>0.0</td>\n",
       "      <td>0.0</td>\n",
       "      <td>0</td>\n",
       "      <td>0</td>\n",
       "      <td>0</td>\n",
       "      <td>0.000</td>\n",
       "      <td>0.0000</td>\n",
       "    </tr>\n",
       "    <tr>\n",
       "      <th>180199</th>\n",
       "      <td>AC36</td>\n",
       "      <td>fe38f6</td>\n",
       "      <td>5754</td>\n",
       "      <td>12234.5</td>\n",
       "      <td>0.00000</td>\n",
       "      <td>0.00000</td>\n",
       "      <td>0</td>\n",
       "      <td>0</td>\n",
       "      <td>22.250</td>\n",
       "      <td>234.0</td>\n",
       "      <td>...</td>\n",
       "      <td>0</td>\n",
       "      <td>0</td>\n",
       "      <td>0.0</td>\n",
       "      <td>0.0</td>\n",
       "      <td>0.0</td>\n",
       "      <td>0</td>\n",
       "      <td>0</td>\n",
       "      <td>0</td>\n",
       "      <td>0.000</td>\n",
       "      <td>0.0000</td>\n",
       "    </tr>\n",
       "  </tbody>\n",
       "</table>\n",
       "<p>180200 rows × 22 columns</p>\n",
       "</div>"
      ],
      "text/plain": [
       "          AC  FLIGHT  TIME  AMBIENT_1  PAR_AC_1  PAR_AC_2 PAR_AC_3 PAR_AC_4  \\\n",
       "0       AC19  006042  3115    11723.0   0.00000  29.11250        0        0   \n",
       "1       AC19  006042  3132    11721.0   0.00000  29.28375        0        0   \n",
       "2       AC19  006042  3204    11721.0  29.28375  29.45500        0        0   \n",
       "3       AC19  006042  3218    11721.5  29.45500  29.62625        0        0   \n",
       "4       AC19  006042  3266    11721.0  29.28375  29.62625        0        0   \n",
       "...      ...     ...   ...        ...       ...       ...      ...      ...   \n",
       "180195  AC36  fe38f6  5689    12230.0  30.65375  13.87125        0        0   \n",
       "180196  AC36  fe38f6  5699    12230.5   0.00000   0.00000        0        0   \n",
       "180197  AC36  fe38f6  5719    12231.5  10.44625   0.00000        0        0   \n",
       "180198  AC36  fe38f6  5736    12234.0   0.00000   0.00000        0        0   \n",
       "180199  AC36  fe38f6  5754    12234.5   0.00000   0.00000        0        0   \n",
       "\n",
       "        PAR_SYS_1  PAR_SYS_2  ...  WAR_SYS_1 COM_SYS_1 PAR_SYS_9 PAR_SYS_10  \\\n",
       "0          65.375      247.0  ...          0         0       0.0        0.0   \n",
       "1          65.375      299.0  ...          0         0       0.0        0.0   \n",
       "2          44.250      279.0  ...          0         0       0.0        0.0   \n",
       "3          43.875      230.0  ...          0         0       0.0        0.0   \n",
       "4          42.875      265.0  ...          0         0       0.0        0.0   \n",
       "...           ...        ...  ...        ...       ...       ...        ...   \n",
       "180195     44.375      245.0  ...          0         0       0.0        0.0   \n",
       "180196     22.250      234.0  ...          0         0       0.0        0.0   \n",
       "180197     22.375      235.0  ...          0         0       0.0        0.0   \n",
       "180198     22.250      234.0  ...          0         0       0.0        0.0   \n",
       "180199     22.250      234.0  ...          0         0       0.0        0.0   \n",
       "\n",
       "        PAR_SYS_5  WAR_SYS_2  PAR_SYS_6 WAR_SYS_3 PAR_SYS_7 PAR_SYS_8  \n",
       "0             0.0          0          0         0     0.000   16.2000  \n",
       "1             0.0          0          0         0     0.000    0.0000  \n",
       "2             1.0          0          1         0    99.225  111.0375  \n",
       "3             1.0          0          1         0   112.725  121.1625  \n",
       "4             1.0          0          1         0   129.600  123.1875  \n",
       "...           ...        ...        ...       ...       ...       ...  \n",
       "180195        1.0          0          1         0    98.550   44.5500  \n",
       "180196        0.0          0          0         0     0.000    0.0000  \n",
       "180197        0.0          0          0         0     0.000    0.0000  \n",
       "180198        0.0          0          0         0     0.000    0.0000  \n",
       "180199        0.0          0          0         0     0.000    0.0000  \n",
       "\n",
       "[180200 rows x 22 columns]"
      ]
     },
     "execution_count": 8,
     "metadata": {},
     "output_type": "execute_result"
    }
   ],
   "source": [
    "# Checando o tamanho da tabela sensors\n",
    "sensors_reduced"
   ]
  },
  {
   "cell_type": "code",
   "execution_count": 9,
   "metadata": {},
   "outputs": [
    {
     "data": {
      "text/html": [
       "<div>\n",
       "<style scoped>\n",
       "    .dataframe tbody tr th:only-of-type {\n",
       "        vertical-align: middle;\n",
       "    }\n",
       "\n",
       "    .dataframe tbody tr th {\n",
       "        vertical-align: top;\n",
       "    }\n",
       "\n",
       "    .dataframe thead th {\n",
       "        text-align: right;\n",
       "    }\n",
       "</style>\n",
       "<table border=\"1\" class=\"dataframe\">\n",
       "  <thead>\n",
       "    <tr style=\"text-align: right;\">\n",
       "      <th></th>\n",
       "      <th>AC</th>\n",
       "      <th>FLIGHT</th>\n",
       "      <th>TIME</th>\n",
       "      <th>FLIGHT_PHASE</th>\n",
       "      <th>TYPE</th>\n",
       "      <th>MESSAGE</th>\n",
       "    </tr>\n",
       "  </thead>\n",
       "  <tbody>\n",
       "    <tr>\n",
       "      <th>0</th>\n",
       "      <td>AC19</td>\n",
       "      <td>03896c</td>\n",
       "      <td>105</td>\n",
       "      <td>2</td>\n",
       "      <td>FDE</td>\n",
       "      <td>120</td>\n",
       "    </tr>\n",
       "    <tr>\n",
       "      <th>1</th>\n",
       "      <td>AC19</td>\n",
       "      <td>03896c</td>\n",
       "      <td>4890</td>\n",
       "      <td>3</td>\n",
       "      <td>FDE</td>\n",
       "      <td>120</td>\n",
       "    </tr>\n",
       "    <tr>\n",
       "      <th>2</th>\n",
       "      <td>AC19</td>\n",
       "      <td>03d505</td>\n",
       "      <td>3454</td>\n",
       "      <td>2</td>\n",
       "      <td>FDE</td>\n",
       "      <td>120</td>\n",
       "    </tr>\n",
       "    <tr>\n",
       "      <th>3</th>\n",
       "      <td>AC19</td>\n",
       "      <td>03d505</td>\n",
       "      <td>6048</td>\n",
       "      <td>3</td>\n",
       "      <td>FDE</td>\n",
       "      <td>120</td>\n",
       "    </tr>\n",
       "    <tr>\n",
       "      <th>4</th>\n",
       "      <td>AC19</td>\n",
       "      <td>03d505</td>\n",
       "      <td>8307</td>\n",
       "      <td>2</td>\n",
       "      <td>FDE</td>\n",
       "      <td>120</td>\n",
       "    </tr>\n",
       "    <tr>\n",
       "      <th>...</th>\n",
       "      <td>...</td>\n",
       "      <td>...</td>\n",
       "      <td>...</td>\n",
       "      <td>...</td>\n",
       "      <td>...</td>\n",
       "      <td>...</td>\n",
       "    </tr>\n",
       "    <tr>\n",
       "      <th>2677</th>\n",
       "      <td>AC30</td>\n",
       "      <td>08d31a</td>\n",
       "      <td>-2077049</td>\n",
       "      <td>4</td>\n",
       "      <td>MM</td>\n",
       "      <td>4713</td>\n",
       "    </tr>\n",
       "    <tr>\n",
       "      <th>2678</th>\n",
       "      <td>AC30</td>\n",
       "      <td>08d31a</td>\n",
       "      <td>-1826741</td>\n",
       "      <td>7</td>\n",
       "      <td>MM</td>\n",
       "      <td>4755</td>\n",
       "    </tr>\n",
       "    <tr>\n",
       "      <th>2679</th>\n",
       "      <td>AC30</td>\n",
       "      <td>08d31a</td>\n",
       "      <td>-1751362</td>\n",
       "      <td>4</td>\n",
       "      <td>MM</td>\n",
       "      <td>4713</td>\n",
       "    </tr>\n",
       "    <tr>\n",
       "      <th>2680</th>\n",
       "      <td>AC30</td>\n",
       "      <td>08d31a</td>\n",
       "      <td>-1728715</td>\n",
       "      <td>2</td>\n",
       "      <td>MM</td>\n",
       "      <td>4713</td>\n",
       "    </tr>\n",
       "    <tr>\n",
       "      <th>2681</th>\n",
       "      <td>AC30</td>\n",
       "      <td>08d31a</td>\n",
       "      <td>-1717461</td>\n",
       "      <td>2</td>\n",
       "      <td>FDE</td>\n",
       "      <td>120</td>\n",
       "    </tr>\n",
       "  </tbody>\n",
       "</table>\n",
       "<p>2682 rows × 6 columns</p>\n",
       "</div>"
      ],
      "text/plain": [
       "        AC  FLIGHT      TIME FLIGHT_PHASE TYPE MESSAGE\n",
       "0     AC19  03896c       105            2  FDE     120\n",
       "1     AC19  03896c      4890            3  FDE     120\n",
       "2     AC19  03d505      3454            2  FDE     120\n",
       "3     AC19  03d505      6048            3  FDE     120\n",
       "4     AC19  03d505      8307            2  FDE     120\n",
       "...    ...     ...       ...          ...  ...     ...\n",
       "2677  AC30  08d31a  -2077049            4   MM    4713\n",
       "2678  AC30  08d31a  -1826741            7   MM    4755\n",
       "2679  AC30  08d31a  -1751362            4   MM    4713\n",
       "2680  AC30  08d31a  -1728715            2   MM    4713\n",
       "2681  AC30  08d31a  -1717461            2  FDE     120\n",
       "\n",
       "[2682 rows x 6 columns]"
      ]
     },
     "execution_count": 9,
     "metadata": {},
     "output_type": "execute_result"
    }
   ],
   "source": [
    "# Checando o tamanho da tabela mensages\n",
    "messages_reduced"
   ]
  },
  {
   "cell_type": "code",
   "execution_count": 10,
   "metadata": {},
   "outputs": [
    {
     "data": {
      "text/html": [
       "<div>\n",
       "<style scoped>\n",
       "    .dataframe tbody tr th:only-of-type {\n",
       "        vertical-align: middle;\n",
       "    }\n",
       "\n",
       "    .dataframe tbody tr th {\n",
       "        vertical-align: top;\n",
       "    }\n",
       "\n",
       "    .dataframe thead th {\n",
       "        text-align: right;\n",
       "    }\n",
       "</style>\n",
       "<table border=\"1\" class=\"dataframe\">\n",
       "  <thead>\n",
       "    <tr style=\"text-align: right;\">\n",
       "      <th></th>\n",
       "      <th>AMBIENT_1</th>\n",
       "      <th>PAR_AC_1</th>\n",
       "      <th>PAR_AC_2</th>\n",
       "      <th>PAR_SYS_1</th>\n",
       "      <th>PAR_SYS_2</th>\n",
       "      <th>PAR_SYS_3</th>\n",
       "      <th>PAR_SYS_9</th>\n",
       "      <th>PAR_SYS_10</th>\n",
       "      <th>PAR_SYS_5</th>\n",
       "      <th>PAR_SYS_7</th>\n",
       "      <th>PAR_SYS_8</th>\n",
       "    </tr>\n",
       "  </thead>\n",
       "  <tbody>\n",
       "    <tr>\n",
       "      <th>count</th>\n",
       "      <td>180200.000000</td>\n",
       "      <td>180200.000000</td>\n",
       "      <td>180200.000000</td>\n",
       "      <td>180200.000000</td>\n",
       "      <td>180200.000000</td>\n",
       "      <td>180200.000000</td>\n",
       "      <td>180200.000000</td>\n",
       "      <td>180200.000000</td>\n",
       "      <td>180200.000000</td>\n",
       "      <td>180200.000000</td>\n",
       "      <td>180200.000000</td>\n",
       "    </tr>\n",
       "    <tr>\n",
       "      <th>mean</th>\n",
       "      <td>34059.760205</td>\n",
       "      <td>90.771504</td>\n",
       "      <td>90.466276</td>\n",
       "      <td>55.980257</td>\n",
       "      <td>311.473479</td>\n",
       "      <td>55.585711</td>\n",
       "      <td>2.036479</td>\n",
       "      <td>2.025380</td>\n",
       "      <td>0.927037</td>\n",
       "      <td>110.306245</td>\n",
       "      <td>109.510103</td>\n",
       "    </tr>\n",
       "    <tr>\n",
       "      <th>std</th>\n",
       "      <td>15018.572486</td>\n",
       "      <td>38.473034</td>\n",
       "      <td>39.011476</td>\n",
       "      <td>7.340264</td>\n",
       "      <td>26.612642</td>\n",
       "      <td>7.652851</td>\n",
       "      <td>2.417872</td>\n",
       "      <td>2.406049</td>\n",
       "      <td>0.260077</td>\n",
       "      <td>33.040672</td>\n",
       "      <td>31.136798</td>\n",
       "    </tr>\n",
       "    <tr>\n",
       "      <th>min</th>\n",
       "      <td>5856.000000</td>\n",
       "      <td>0.000000</td>\n",
       "      <td>0.000000</td>\n",
       "      <td>20.000000</td>\n",
       "      <td>141.000000</td>\n",
       "      <td>-119.875000</td>\n",
       "      <td>0.000000</td>\n",
       "      <td>-0.375000</td>\n",
       "      <td>0.000000</td>\n",
       "      <td>0.000000</td>\n",
       "      <td>0.000000</td>\n",
       "    </tr>\n",
       "    <tr>\n",
       "      <th>25%</th>\n",
       "      <td>17680.000000</td>\n",
       "      <td>54.286250</td>\n",
       "      <td>54.286250</td>\n",
       "      <td>54.000000</td>\n",
       "      <td>307.000000</td>\n",
       "      <td>53.875000</td>\n",
       "      <td>0.000000</td>\n",
       "      <td>0.000000</td>\n",
       "      <td>1.000000</td>\n",
       "      <td>92.812500</td>\n",
       "      <td>92.812500</td>\n",
       "    </tr>\n",
       "    <tr>\n",
       "      <th>50%</th>\n",
       "      <td>39221.000000</td>\n",
       "      <td>115.422500</td>\n",
       "      <td>115.422500</td>\n",
       "      <td>55.250000</td>\n",
       "      <td>320.000000</td>\n",
       "      <td>55.250000</td>\n",
       "      <td>0.000000</td>\n",
       "      <td>0.000000</td>\n",
       "      <td>1.000000</td>\n",
       "      <td>101.925000</td>\n",
       "      <td>101.250000</td>\n",
       "    </tr>\n",
       "    <tr>\n",
       "      <th>75%</th>\n",
       "      <td>48036.500000</td>\n",
       "      <td>119.532500</td>\n",
       "      <td>119.532500</td>\n",
       "      <td>60.000000</td>\n",
       "      <td>326.000000</td>\n",
       "      <td>59.375000</td>\n",
       "      <td>3.675000</td>\n",
       "      <td>3.675000</td>\n",
       "      <td>1.000000</td>\n",
       "      <td>136.350000</td>\n",
       "      <td>132.975000</td>\n",
       "    </tr>\n",
       "    <tr>\n",
       "      <th>max</th>\n",
       "      <td>53009.500000</td>\n",
       "      <td>129.465000</td>\n",
       "      <td>129.293750</td>\n",
       "      <td>125.250000</td>\n",
       "      <td>370.000000</td>\n",
       "      <td>155.125000</td>\n",
       "      <td>7.500000</td>\n",
       "      <td>7.275000</td>\n",
       "      <td>1.000000</td>\n",
       "      <td>384.750000</td>\n",
       "      <td>392.512500</td>\n",
       "    </tr>\n",
       "  </tbody>\n",
       "</table>\n",
       "</div>"
      ],
      "text/plain": [
       "           AMBIENT_1       PAR_AC_1       PAR_AC_2      PAR_SYS_1  \\\n",
       "count  180200.000000  180200.000000  180200.000000  180200.000000   \n",
       "mean    34059.760205      90.771504      90.466276      55.980257   \n",
       "std     15018.572486      38.473034      39.011476       7.340264   \n",
       "min      5856.000000       0.000000       0.000000      20.000000   \n",
       "25%     17680.000000      54.286250      54.286250      54.000000   \n",
       "50%     39221.000000     115.422500     115.422500      55.250000   \n",
       "75%     48036.500000     119.532500     119.532500      60.000000   \n",
       "max     53009.500000     129.465000     129.293750     125.250000   \n",
       "\n",
       "           PAR_SYS_2      PAR_SYS_3      PAR_SYS_9     PAR_SYS_10  \\\n",
       "count  180200.000000  180200.000000  180200.000000  180200.000000   \n",
       "mean      311.473479      55.585711       2.036479       2.025380   \n",
       "std        26.612642       7.652851       2.417872       2.406049   \n",
       "min       141.000000    -119.875000       0.000000      -0.375000   \n",
       "25%       307.000000      53.875000       0.000000       0.000000   \n",
       "50%       320.000000      55.250000       0.000000       0.000000   \n",
       "75%       326.000000      59.375000       3.675000       3.675000   \n",
       "max       370.000000     155.125000       7.500000       7.275000   \n",
       "\n",
       "           PAR_SYS_5      PAR_SYS_7      PAR_SYS_8  \n",
       "count  180200.000000  180200.000000  180200.000000  \n",
       "mean        0.927037     110.306245     109.510103  \n",
       "std         0.260077      33.040672      31.136798  \n",
       "min         0.000000       0.000000       0.000000  \n",
       "25%         1.000000      92.812500      92.812500  \n",
       "50%         1.000000     101.925000     101.250000  \n",
       "75%         1.000000     136.350000     132.975000  \n",
       "max         1.000000     384.750000     392.512500  "
      ]
     },
     "execution_count": 10,
     "metadata": {},
     "output_type": "execute_result"
    }
   ],
   "source": [
    "# Vendo as features de sensors\n",
    "sensors_reduced.describe()"
   ]
  },
  {
   "cell_type": "code",
   "execution_count": 11,
   "metadata": {},
   "outputs": [],
   "source": [
    "# Retirando as colunas nulas\n",
    "drop_columns = ['WAR_SYS_1','COM_SYS_1','WAR_SYS_2','WAR_SYS_3']\n",
    "sensors_reduced.drop(drop_columns,axis=1,inplace=True)\n",
    "\n",
    "# Retirando outras colunas (baixa variância) em relação  a média\n",
    "other_columns = ['PAR_AC_3','PAR_AC_4','PAR_SYS_5','PAR_SYS_6']\n",
    "sensors_reduced.drop(other_columns,axis=1,inplace=True)"
   ]
  },
  {
   "cell_type": "code",
   "execution_count": 12,
   "metadata": {},
   "outputs": [],
   "source": [
    "# Escolhendo 6 features\n",
    "sensors_reduced = sensors_reduced[['AC','FLIGHT','TIME','AMBIENT_1','PAR_SYS_1','PAR_SYS_9']]"
   ]
  },
  {
   "cell_type": "code",
   "execution_count": 13,
   "metadata": {
    "scrolled": false
   },
   "outputs": [
    {
     "data": {
      "text/html": [
       "<div>\n",
       "<style scoped>\n",
       "    .dataframe tbody tr th:only-of-type {\n",
       "        vertical-align: middle;\n",
       "    }\n",
       "\n",
       "    .dataframe tbody tr th {\n",
       "        vertical-align: top;\n",
       "    }\n",
       "\n",
       "    .dataframe thead th {\n",
       "        text-align: right;\n",
       "    }\n",
       "</style>\n",
       "<table border=\"1\" class=\"dataframe\">\n",
       "  <thead>\n",
       "    <tr style=\"text-align: right;\">\n",
       "      <th></th>\n",
       "      <th>AC</th>\n",
       "      <th>FLIGHT</th>\n",
       "      <th>TIME</th>\n",
       "      <th>FLIGHT_PHASE</th>\n",
       "      <th>TYPE</th>\n",
       "      <th>MESSAGE</th>\n",
       "    </tr>\n",
       "  </thead>\n",
       "  <tbody>\n",
       "    <tr>\n",
       "      <th>count</th>\n",
       "      <td>2682</td>\n",
       "      <td>2682</td>\n",
       "      <td>2682</td>\n",
       "      <td>2682</td>\n",
       "      <td>2682</td>\n",
       "      <td>2682</td>\n",
       "    </tr>\n",
       "    <tr>\n",
       "      <th>unique</th>\n",
       "      <td>5</td>\n",
       "      <td>391</td>\n",
       "      <td>2574</td>\n",
       "      <td>7</td>\n",
       "      <td>2</td>\n",
       "      <td>22</td>\n",
       "    </tr>\n",
       "    <tr>\n",
       "      <th>top</th>\n",
       "      <td>AC23</td>\n",
       "      <td>bcb197</td>\n",
       "      <td>159</td>\n",
       "      <td>2</td>\n",
       "      <td>FDE</td>\n",
       "      <td>120</td>\n",
       "    </tr>\n",
       "    <tr>\n",
       "      <th>freq</th>\n",
       "      <td>1149</td>\n",
       "      <td>200</td>\n",
       "      <td>3</td>\n",
       "      <td>1655</td>\n",
       "      <td>2234</td>\n",
       "      <td>2149</td>\n",
       "    </tr>\n",
       "  </tbody>\n",
       "</table>\n",
       "</div>"
      ],
      "text/plain": [
       "          AC  FLIGHT  TIME  FLIGHT_PHASE  TYPE  MESSAGE\n",
       "count   2682    2682  2682          2682  2682     2682\n",
       "unique     5     391  2574             7     2       22\n",
       "top     AC23  bcb197   159             2   FDE      120\n",
       "freq    1149     200     3          1655  2234     2149"
      ]
     },
     "execution_count": 13,
     "metadata": {},
     "output_type": "execute_result"
    }
   ],
   "source": [
    "# Vendo as features de messages\n",
    "messages_reduced.describe()"
   ]
  },
  {
   "cell_type": "markdown",
   "metadata": {},
   "source": [
    "### Removendo outliers numéricos de cada uma das features através da análise de histogramas"
   ]
  },
  {
   "cell_type": "markdown",
   "metadata": {},
   "source": [
    "#### Tabela Sensors Reduced"
   ]
  },
  {
   "cell_type": "code",
   "execution_count": 14,
   "metadata": {
    "scrolled": true
   },
   "outputs": [
    {
     "data": {
      "text/plain": [
       "<matplotlib.axes._subplots.AxesSubplot at 0x11f5bf850>"
      ]
     },
     "execution_count": 14,
     "metadata": {},
     "output_type": "execute_result"
    },
    {
     "data": {
      "image/png": "[encoded data removed]",
      "text/plain": [
       "<Figure size 432x288 with 1 Axes>"
      ]
     },
     "metadata": {
      "needs_background": "light"
     },
     "output_type": "display_data"
    }
   ],
   "source": [
    "# TIME\n",
    "sns.distplot(sensors_reduced['TIME'])"
   ]
  },
  {
   "cell_type": "markdown",
   "metadata": {},
   "source": [
    "Calda longa! Precisa remover outliers"
   ]
  },
  {
   "cell_type": "code",
   "execution_count": 15,
   "metadata": {
    "scrolled": false
   },
   "outputs": [
    {
     "data": {
      "text/plain": [
       "<matplotlib.axes._subplots.AxesSubplot at 0x1a231912d0>"
      ]
     },
     "execution_count": 15,
     "metadata": {},
     "output_type": "execute_result"
    },
    {
     "data": {
      "image/png": "[encoded data removed]",
      "text/plain": [
       "<Figure size 432x288 with 1 Axes>"
      ]
     },
     "metadata": {
      "needs_background": "light"
     },
     "output_type": "display_data"
    }
   ],
   "source": [
    "# Removendo os outliers\n",
    "lowerbound,upperbound = np.percentile(sensors_reduced['TIME'],[1,99])\n",
    "sensors_reduced = sensors_reduced.query('{} <= TIME <= {}'.format(lowerbound,upperbound))\n",
    "\n",
    "# Nova Distribuição para TIME\n",
    "sns.distplot(sensors_reduced['TIME'])"
   ]
  },
  {
   "cell_type": "code",
   "execution_count": 16,
   "metadata": {
    "scrolled": false
   },
   "outputs": [
    {
     "data": {
      "text/plain": [
       "<matplotlib.axes._subplots.AxesSubplot at 0x1a2304b250>"
      ]
     },
     "execution_count": 16,
     "metadata": {},
     "output_type": "execute_result"
    },
    {
     "data": {
      "image/png": "[encoded data removed]",
      "text/plain": [
       "<Figure size 432x288 with 1 Axes>"
      ]
     },
     "metadata": {
      "needs_background": "light"
     },
     "output_type": "display_data"
    }
   ],
   "source": [
    "# AMBIENT_1\n",
    "sns.distplot(sensors_reduced['AMBIENT_1'])"
   ]
  },
  {
   "cell_type": "markdown",
   "metadata": {},
   "source": [
    "Não precisa remover outliers"
   ]
  },
  {
   "cell_type": "code",
   "execution_count": 17,
   "metadata": {
    "scrolled": true
   },
   "outputs": [
    {
     "data": {
      "text/plain": [
       "<matplotlib.axes._subplots.AxesSubplot at 0x1a22db3450>"
      ]
     },
     "execution_count": 17,
     "metadata": {},
     "output_type": "execute_result"
    },
    {
     "data": {
      "image/png": "[encoded data removed]",
      "text/plain": [
       "<Figure size 432x288 with 1 Axes>"
      ]
     },
     "metadata": {
      "needs_background": "light"
     },
     "output_type": "display_data"
    }
   ],
   "source": [
    "# PAR_SYS_1\n",
    "sns.distplot(sensors_reduced['PAR_SYS_1'])"
   ]
  },
  {
   "cell_type": "markdown",
   "metadata": {},
   "source": [
    "Caldas longas em ambos os lados. Haverá remoção de outliers!"
   ]
  },
  {
   "cell_type": "code",
   "execution_count": 18,
   "metadata": {
    "scrolled": true
   },
   "outputs": [
    {
     "data": {
      "text/plain": [
       "<matplotlib.axes._subplots.AxesSubplot at 0x1a2519a790>"
      ]
     },
     "execution_count": 18,
     "metadata": {},
     "output_type": "execute_result"
    },
    {
     "data": {
      "image/png": "[encoded data removed]",
      "text/plain": [
       "<Figure size 432x288 with 1 Axes>"
      ]
     },
     "metadata": {
      "needs_background": "light"
     },
     "output_type": "display_data"
    }
   ],
   "source": [
    "# Removendo os outliers\n",
    "lowerbound,upperbound = np.percentile(sensors_reduced['PAR_SYS_1'],[1,99])\n",
    "sensors_reduced = sensors_reduced.query('{} <= PAR_SYS_1 <= {}'.format(lowerbound,upperbound))\n",
    "\n",
    "# Nova Distribuição para PAR_SYS_1\n",
    "sns.distplot(sensors_reduced['PAR_SYS_1'])"
   ]
  },
  {
   "cell_type": "code",
   "execution_count": 19,
   "metadata": {
    "scrolled": true
   },
   "outputs": [
    {
     "data": {
      "text/plain": [
       "<matplotlib.axes._subplots.AxesSubplot at 0x1a2519a090>"
      ]
     },
     "execution_count": 19,
     "metadata": {},
     "output_type": "execute_result"
    },
    {
     "data": {
      "image/png": "[encoded data removed]",
      "text/plain": [
       "<Figure size 432x288 with 1 Axes>"
      ]
     },
     "metadata": {
      "needs_background": "light"
     },
     "output_type": "display_data"
    }
   ],
   "source": [
    "# PAR_SYS_9\n",
    "sns.distplot(sensors_reduced['PAR_SYS_9'])"
   ]
  },
  {
   "cell_type": "markdown",
   "metadata": {},
   "source": [
    "Não há outliers"
   ]
  },
  {
   "cell_type": "code",
   "execution_count": 20,
   "metadata": {},
   "outputs": [],
   "source": [
    "# Guardando a tabela sensors_reduced sem outliers\n",
    "wo_sensors_reduced = sensors_reduced.copy()"
   ]
  },
  {
   "cell_type": "markdown",
   "metadata": {},
   "source": [
    "#### Tabela Messages Reduced"
   ]
  },
  {
   "cell_type": "code",
   "execution_count": 21,
   "metadata": {
    "scrolled": true
   },
   "outputs": [
    {
     "data": {
      "text/plain": [
       "<matplotlib.axes._subplots.AxesSubplot at 0x1a22f47490>"
      ]
     },
     "execution_count": 21,
     "metadata": {},
     "output_type": "execute_result"
    },
    {
     "data": {
      "image/png": "[encoded data removed]",
      "text/plain": [
       "<Figure size 432x288 with 1 Axes>"
      ]
     },
     "metadata": {
      "needs_background": "light"
     },
     "output_type": "display_data"
    }
   ],
   "source": [
    "# TIME\n",
    "sns.distplot(messages_reduced['TIME'])"
   ]
  },
  {
   "cell_type": "markdown",
   "metadata": {},
   "source": [
    "Sem Outliers!"
   ]
  },
  {
   "cell_type": "code",
   "execution_count": 22,
   "metadata": {
    "scrolled": true
   },
   "outputs": [
    {
     "data": {
      "text/plain": [
       "<matplotlib.axes._subplots.AxesSubplot at 0x1a24c8d7d0>"
      ]
     },
     "execution_count": 22,
     "metadata": {},
     "output_type": "execute_result"
    },
    {
     "data": {
      "image/png": "[encoded data removed]",
      "text/plain": [
       "<Figure size 432x288 with 1 Axes>"
      ]
     },
     "metadata": {
      "needs_background": "light"
     },
     "output_type": "display_data"
    }
   ],
   "source": [
    "# FLIGHT_PHASE\n",
    "sns.distplot(messages_reduced['FLIGHT_PHASE'])"
   ]
  },
  {
   "cell_type": "markdown",
   "metadata": {},
   "source": [
    "Sem outliers!"
   ]
  },
  {
   "cell_type": "code",
   "execution_count": 23,
   "metadata": {
    "scrolled": true
   },
   "outputs": [
    {
     "ename": "RuntimeError",
     "evalue": "Selected KDE bandwidth is 0. Cannot estimate density.",
     "output_type": "error",
     "traceback": [
      "\u001b[0;31m---------------------------------------------------------------------------\u001b[0m",
      "\u001b[0;31mValueError\u001b[0m                                Traceback (most recent call last)",
      "\u001b[0;32m~/opt/anaconda3/lib/python3.7/site-packages/statsmodels/nonparametric/kde.py\u001b[0m in \u001b[0;36mkdensityfft\u001b[0;34m(X, kernel, bw, weights, gridsize, adjust, clip, cut, retgrid)\u001b[0m\n\u001b[1;32m    450\u001b[0m     \u001b[0;32mtry\u001b[0m\u001b[0;34m:\u001b[0m\u001b[0;34m\u001b[0m\u001b[0;34m\u001b[0m\u001b[0m\n\u001b[0;32m--> 451\u001b[0;31m         \u001b[0mbw\u001b[0m \u001b[0;34m=\u001b[0m \u001b[0mfloat\u001b[0m\u001b[0;34m(\u001b[0m\u001b[0mbw\u001b[0m\u001b[0;34m)\u001b[0m\u001b[0;34m\u001b[0m\u001b[0;34m\u001b[0m\u001b[0m\n\u001b[0m\u001b[1;32m    452\u001b[0m     \u001b[0;32mexcept\u001b[0m\u001b[0;34m:\u001b[0m\u001b[0;34m\u001b[0m\u001b[0;34m\u001b[0m\u001b[0m\n",
      "\u001b[0;31mValueError\u001b[0m: could not convert string to float: 'scott'",
      "\nDuring handling of the above exception, another exception occurred:\n",
      "\u001b[0;31mRuntimeError\u001b[0m                              Traceback (most recent call last)",
      "\u001b[0;32m<ipython-input-23-03ff81f9f3e4>\u001b[0m in \u001b[0;36m<module>\u001b[0;34m\u001b[0m\n\u001b[1;32m      1\u001b[0m \u001b[0;31m# MESSAGE\u001b[0m\u001b[0;34m\u001b[0m\u001b[0;34m\u001b[0m\u001b[0;34m\u001b[0m\u001b[0m\n\u001b[0;32m----> 2\u001b[0;31m \u001b[0msns\u001b[0m\u001b[0;34m.\u001b[0m\u001b[0mdistplot\u001b[0m\u001b[0;34m(\u001b[0m\u001b[0mmessages_reduced\u001b[0m\u001b[0;34m[\u001b[0m\u001b[0;34m'MESSAGE'\u001b[0m\u001b[0;34m]\u001b[0m\u001b[0;34m)\u001b[0m\u001b[0;34m\u001b[0m\u001b[0;34m\u001b[0m\u001b[0m\n\u001b[0m",
      "\u001b[0;32m~/opt/anaconda3/lib/python3.7/site-packages/seaborn/distributions.py\u001b[0m in \u001b[0;36mdistplot\u001b[0;34m(a, bins, hist, kde, rug, fit, hist_kws, kde_kws, rug_kws, fit_kws, color, vertical, norm_hist, axlabel, label, ax)\u001b[0m\n\u001b[1;32m    231\u001b[0m     \u001b[0;32mif\u001b[0m \u001b[0mkde\u001b[0m\u001b[0;34m:\u001b[0m\u001b[0;34m\u001b[0m\u001b[0;34m\u001b[0m\u001b[0m\n\u001b[1;32m    232\u001b[0m         \u001b[0mkde_color\u001b[0m \u001b[0;34m=\u001b[0m \u001b[0mkde_kws\u001b[0m\u001b[0;34m.\u001b[0m\u001b[0mpop\u001b[0m\u001b[0;34m(\u001b[0m\u001b[0;34m\"color\"\u001b[0m\u001b[0;34m,\u001b[0m \u001b[0mcolor\u001b[0m\u001b[0;34m)\u001b[0m\u001b[0;34m\u001b[0m\u001b[0;34m\u001b[0m\u001b[0m\n\u001b[0;32m--> 233\u001b[0;31m         \u001b[0mkdeplot\u001b[0m\u001b[0;34m(\u001b[0m\u001b[0ma\u001b[0m\u001b[0;34m,\u001b[0m \u001b[0mvertical\u001b[0m\u001b[0;34m=\u001b[0m\u001b[0mvertical\u001b[0m\u001b[0;34m,\u001b[0m \u001b[0max\u001b[0m\u001b[0;34m=\u001b[0m\u001b[0max\u001b[0m\u001b[0;34m,\u001b[0m \u001b[0mcolor\u001b[0m\u001b[0;34m=\u001b[0m\u001b[0mkde_color\u001b[0m\u001b[0;34m,\u001b[0m \u001b[0;34m**\u001b[0m\u001b[0mkde_kws\u001b[0m\u001b[0;34m)\u001b[0m\u001b[0;34m\u001b[0m\u001b[0;34m\u001b[0m\u001b[0m\n\u001b[0m\u001b[1;32m    234\u001b[0m         \u001b[0;32mif\u001b[0m \u001b[0mkde_color\u001b[0m \u001b[0;34m!=\u001b[0m \u001b[0mcolor\u001b[0m\u001b[0;34m:\u001b[0m\u001b[0;34m\u001b[0m\u001b[0;34m\u001b[0m\u001b[0m\n\u001b[1;32m    235\u001b[0m             \u001b[0mkde_kws\u001b[0m\u001b[0;34m[\u001b[0m\u001b[0;34m\"color\"\u001b[0m\u001b[0;34m]\u001b[0m \u001b[0;34m=\u001b[0m \u001b[0mkde_color\u001b[0m\u001b[0;34m\u001b[0m\u001b[0;34m\u001b[0m\u001b[0m\n",
      "\u001b[0;32m~/opt/anaconda3/lib/python3.7/site-packages/seaborn/distributions.py\u001b[0m in \u001b[0;36mkdeplot\u001b[0;34m(data, data2, shade, vertical, kernel, bw, gridsize, cut, clip, legend, cumulative, shade_lowest, cbar, cbar_ax, cbar_kws, ax, **kwargs)\u001b[0m\n\u001b[1;32m    703\u001b[0m         ax = _univariate_kdeplot(data, shade, vertical, kernel, bw,\n\u001b[1;32m    704\u001b[0m                                  \u001b[0mgridsize\u001b[0m\u001b[0;34m,\u001b[0m \u001b[0mcut\u001b[0m\u001b[0;34m,\u001b[0m \u001b[0mclip\u001b[0m\u001b[0;34m,\u001b[0m \u001b[0mlegend\u001b[0m\u001b[0;34m,\u001b[0m \u001b[0max\u001b[0m\u001b[0;34m,\u001b[0m\u001b[0;34m\u001b[0m\u001b[0;34m\u001b[0m\u001b[0m\n\u001b[0;32m--> 705\u001b[0;31m                                  cumulative=cumulative, **kwargs)\n\u001b[0m\u001b[1;32m    706\u001b[0m \u001b[0;34m\u001b[0m\u001b[0m\n\u001b[1;32m    707\u001b[0m     \u001b[0;32mreturn\u001b[0m \u001b[0max\u001b[0m\u001b[0;34m\u001b[0m\u001b[0;34m\u001b[0m\u001b[0m\n",
      "\u001b[0;32m~/opt/anaconda3/lib/python3.7/site-packages/seaborn/distributions.py\u001b[0m in \u001b[0;36m_univariate_kdeplot\u001b[0;34m(data, shade, vertical, kernel, bw, gridsize, cut, clip, legend, ax, cumulative, **kwargs)\u001b[0m\n\u001b[1;32m    293\u001b[0m         x, y = _statsmodels_univariate_kde(data, kernel, bw,\n\u001b[1;32m    294\u001b[0m                                            \u001b[0mgridsize\u001b[0m\u001b[0;34m,\u001b[0m \u001b[0mcut\u001b[0m\u001b[0;34m,\u001b[0m \u001b[0mclip\u001b[0m\u001b[0;34m,\u001b[0m\u001b[0;34m\u001b[0m\u001b[0;34m\u001b[0m\u001b[0m\n\u001b[0;32m--> 295\u001b[0;31m                                            cumulative=cumulative)\n\u001b[0m\u001b[1;32m    296\u001b[0m     \u001b[0;32melse\u001b[0m\u001b[0;34m:\u001b[0m\u001b[0;34m\u001b[0m\u001b[0;34m\u001b[0m\u001b[0m\n\u001b[1;32m    297\u001b[0m         \u001b[0;31m# Fall back to scipy if missing statsmodels\u001b[0m\u001b[0;34m\u001b[0m\u001b[0;34m\u001b[0m\u001b[0;34m\u001b[0m\u001b[0m\n",
      "\u001b[0;32m~/opt/anaconda3/lib/python3.7/site-packages/seaborn/distributions.py\u001b[0m in \u001b[0;36m_statsmodels_univariate_kde\u001b[0;34m(data, kernel, bw, gridsize, cut, clip, cumulative)\u001b[0m\n\u001b[1;32m    365\u001b[0m     \u001b[0mfft\u001b[0m \u001b[0;34m=\u001b[0m \u001b[0mkernel\u001b[0m \u001b[0;34m==\u001b[0m \u001b[0;34m\"gau\"\u001b[0m\u001b[0;34m\u001b[0m\u001b[0;34m\u001b[0m\u001b[0m\n\u001b[1;32m    366\u001b[0m     \u001b[0mkde\u001b[0m \u001b[0;34m=\u001b[0m \u001b[0msmnp\u001b[0m\u001b[0;34m.\u001b[0m\u001b[0mKDEUnivariate\u001b[0m\u001b[0;34m(\u001b[0m\u001b[0mdata\u001b[0m\u001b[0;34m)\u001b[0m\u001b[0;34m\u001b[0m\u001b[0;34m\u001b[0m\u001b[0m\n\u001b[0;32m--> 367\u001b[0;31m     \u001b[0mkde\u001b[0m\u001b[0;34m.\u001b[0m\u001b[0mfit\u001b[0m\u001b[0;34m(\u001b[0m\u001b[0mkernel\u001b[0m\u001b[0;34m,\u001b[0m \u001b[0mbw\u001b[0m\u001b[0;34m,\u001b[0m \u001b[0mfft\u001b[0m\u001b[0;34m,\u001b[0m \u001b[0mgridsize\u001b[0m\u001b[0;34m=\u001b[0m\u001b[0mgridsize\u001b[0m\u001b[0;34m,\u001b[0m \u001b[0mcut\u001b[0m\u001b[0;34m=\u001b[0m\u001b[0mcut\u001b[0m\u001b[0;34m,\u001b[0m \u001b[0mclip\u001b[0m\u001b[0;34m=\u001b[0m\u001b[0mclip\u001b[0m\u001b[0;34m)\u001b[0m\u001b[0;34m\u001b[0m\u001b[0;34m\u001b[0m\u001b[0m\n\u001b[0m\u001b[1;32m    368\u001b[0m     \u001b[0;32mif\u001b[0m \u001b[0mcumulative\u001b[0m\u001b[0;34m:\u001b[0m\u001b[0;34m\u001b[0m\u001b[0;34m\u001b[0m\u001b[0m\n\u001b[1;32m    369\u001b[0m         \u001b[0mgrid\u001b[0m\u001b[0;34m,\u001b[0m \u001b[0my\u001b[0m \u001b[0;34m=\u001b[0m \u001b[0mkde\u001b[0m\u001b[0;34m.\u001b[0m\u001b[0msupport\u001b[0m\u001b[0;34m,\u001b[0m \u001b[0mkde\u001b[0m\u001b[0;34m.\u001b[0m\u001b[0mcdf\u001b[0m\u001b[0;34m\u001b[0m\u001b[0;34m\u001b[0m\u001b[0m\n",
      "\u001b[0;32m~/opt/anaconda3/lib/python3.7/site-packages/statsmodels/nonparametric/kde.py\u001b[0m in \u001b[0;36mfit\u001b[0;34m(self, kernel, bw, fft, weights, gridsize, adjust, cut, clip)\u001b[0m\n\u001b[1;32m    138\u001b[0m             density, grid, bw = kdensityfft(endog, kernel=kernel, bw=bw,\n\u001b[1;32m    139\u001b[0m                     \u001b[0madjust\u001b[0m\u001b[0;34m=\u001b[0m\u001b[0madjust\u001b[0m\u001b[0;34m,\u001b[0m \u001b[0mweights\u001b[0m\u001b[0;34m=\u001b[0m\u001b[0mweights\u001b[0m\u001b[0;34m,\u001b[0m \u001b[0mgridsize\u001b[0m\u001b[0;34m=\u001b[0m\u001b[0mgridsize\u001b[0m\u001b[0;34m,\u001b[0m\u001b[0;34m\u001b[0m\u001b[0;34m\u001b[0m\u001b[0m\n\u001b[0;32m--> 140\u001b[0;31m                     clip=clip, cut=cut)\n\u001b[0m\u001b[1;32m    141\u001b[0m         \u001b[0;32melse\u001b[0m\u001b[0;34m:\u001b[0m\u001b[0;34m\u001b[0m\u001b[0;34m\u001b[0m\u001b[0m\n\u001b[1;32m    142\u001b[0m             density, grid, bw = kdensity(endog, kernel=kernel, bw=bw,\n",
      "\u001b[0;32m~/opt/anaconda3/lib/python3.7/site-packages/statsmodels/nonparametric/kde.py\u001b[0m in \u001b[0;36mkdensityfft\u001b[0;34m(X, kernel, bw, weights, gridsize, adjust, clip, cut, retgrid)\u001b[0m\n\u001b[1;32m    451\u001b[0m         \u001b[0mbw\u001b[0m \u001b[0;34m=\u001b[0m \u001b[0mfloat\u001b[0m\u001b[0;34m(\u001b[0m\u001b[0mbw\u001b[0m\u001b[0;34m)\u001b[0m\u001b[0;34m\u001b[0m\u001b[0;34m\u001b[0m\u001b[0m\n\u001b[1;32m    452\u001b[0m     \u001b[0;32mexcept\u001b[0m\u001b[0;34m:\u001b[0m\u001b[0;34m\u001b[0m\u001b[0;34m\u001b[0m\u001b[0m\n\u001b[0;32m--> 453\u001b[0;31m         \u001b[0mbw\u001b[0m \u001b[0;34m=\u001b[0m \u001b[0mbandwidths\u001b[0m\u001b[0;34m.\u001b[0m\u001b[0mselect_bandwidth\u001b[0m\u001b[0;34m(\u001b[0m\u001b[0mX\u001b[0m\u001b[0;34m,\u001b[0m \u001b[0mbw\u001b[0m\u001b[0;34m,\u001b[0m \u001b[0mkern\u001b[0m\u001b[0;34m)\u001b[0m \u001b[0;31m# will cross-val fit this pattern?\u001b[0m\u001b[0;34m\u001b[0m\u001b[0;34m\u001b[0m\u001b[0m\n\u001b[0m\u001b[1;32m    454\u001b[0m     \u001b[0mbw\u001b[0m \u001b[0;34m*=\u001b[0m \u001b[0madjust\u001b[0m\u001b[0;34m\u001b[0m\u001b[0;34m\u001b[0m\u001b[0m\n\u001b[1;32m    455\u001b[0m \u001b[0;34m\u001b[0m\u001b[0m\n",
      "\u001b[0;32m~/opt/anaconda3/lib/python3.7/site-packages/statsmodels/nonparametric/bandwidths.py\u001b[0m in \u001b[0;36mselect_bandwidth\u001b[0;34m(x, bw, kernel)\u001b[0m\n\u001b[1;32m    172\u001b[0m         \u001b[0;31m# eventually this can fall back on another selection criterion.\u001b[0m\u001b[0;34m\u001b[0m\u001b[0;34m\u001b[0m\u001b[0;34m\u001b[0m\u001b[0m\n\u001b[1;32m    173\u001b[0m         \u001b[0merr\u001b[0m \u001b[0;34m=\u001b[0m \u001b[0;34m\"Selected KDE bandwidth is 0. Cannot estimate density.\"\u001b[0m\u001b[0;34m\u001b[0m\u001b[0;34m\u001b[0m\u001b[0m\n\u001b[0;32m--> 174\u001b[0;31m         \u001b[0;32mraise\u001b[0m \u001b[0mRuntimeError\u001b[0m\u001b[0;34m(\u001b[0m\u001b[0merr\u001b[0m\u001b[0;34m)\u001b[0m\u001b[0;34m\u001b[0m\u001b[0;34m\u001b[0m\u001b[0m\n\u001b[0m\u001b[1;32m    175\u001b[0m     \u001b[0;32melse\u001b[0m\u001b[0;34m:\u001b[0m\u001b[0;34m\u001b[0m\u001b[0;34m\u001b[0m\u001b[0m\n\u001b[1;32m    176\u001b[0m         \u001b[0;32mreturn\u001b[0m \u001b[0mbandwidth\u001b[0m\u001b[0;34m\u001b[0m\u001b[0;34m\u001b[0m\u001b[0m\n",
      "\u001b[0;31mRuntimeError\u001b[0m: Selected KDE bandwidth is 0. Cannot estimate density."
     ]
    },
    {
     "data": {
      "image/png": "[encoded data removed]",
      "text/plain": [
       "<Figure size 432x288 with 1 Axes>"
      ]
     },
     "metadata": {
      "needs_background": "light"
     },
     "output_type": "display_data"
    }
   ],
   "source": [
    "# MESSAGE\n",
    "sns.distplot(messages_reduced['MESSAGE'])"
   ]
  },
  {
   "cell_type": "markdown",
   "metadata": {},
   "source": [
    "Sem outliers!"
   ]
  },
  {
   "cell_type": "code",
   "execution_count": 24,
   "metadata": {},
   "outputs": [],
   "source": [
    "# Guardando a tabela sensors_reduced sem outliers\n",
    "wo_messages_reduced = messages_reduced.copy()"
   ]
  },
  {
   "cell_type": "markdown",
   "metadata": {},
   "source": [
    "### Montando a tabela com as features e a target"
   ]
  },
  {
   "cell_type": "code",
   "execution_count": 25,
   "metadata": {
    "scrolled": true
   },
   "outputs": [
    {
     "data": {
      "application/vnd.jupyter.widget-view+json": {
       "model_id": "e2026c8348a74c73b2c270399989de44",
       "version_major": 2,
       "version_minor": 0
      },
      "text/plain": [
       "HBox(children=(FloatProgress(value=0.0, max=10.0), HTML(value='')))"
      ]
     },
     "metadata": {},
     "output_type": "display_data"
    },
    {
     "name": "stdout",
     "output_type": "stream",
     "text": [
      "\n"
     ]
    },
    {
     "data": {
      "application/vnd.jupyter.widget-view+json": {
       "model_id": "a40fcd9bd92d4642a68b614b2402710b",
       "version_major": 2,
       "version_minor": 0
      },
      "text/plain": [
       "HBox(children=(FloatProgress(value=0.0, max=10.0), HTML(value='')))"
      ]
     },
     "metadata": {},
     "output_type": "display_data"
    },
    {
     "name": "stdout",
     "output_type": "stream",
     "text": [
      "\n"
     ]
    }
   ],
   "source": [
    "# Formatando as tabelas para merge\n",
    "wo_sensors_reduced.set_index('FLIGHT',inplace=True)\n",
    "wo_messages_reduced.set_index('FLIGHT',inplace=True)\n",
    "\n",
    "# Merging sensors and messages data\n",
    "sns_and_msg = wo_sensors_reduced.merge(wo_messages_reduced,left_on=\"FLIGHT\", right_on=\"FLIGHT\",how=\"left\",suffixes=('_sns','_msg')).progress_apply(lambda x: x)\n",
    "sns_and_msg.drop('AC_msg',axis=1,inplace=True)\n",
    "\n",
    "# Formatando a tabela public reduced para merge\n",
    "public_reduced.set_index('FLIGHT',inplace=True)\n",
    "\n",
    "# Acrescendo a coluna target através de um merge com a tabelas public\n",
    "model_data = sns_and_msg.merge(public_reduced,left_on=\"FLIGHT\",right_on=\"FLIGHT\",how=\"left\",suffixes=('_sm','_pb')).progress_apply(lambda x: x)"
   ]
  },
  {
   "cell_type": "code",
   "execution_count": 26,
   "metadata": {},
   "outputs": [],
   "source": [
    "# Ajustando o índice\n",
    "model_data.reset_index(inplace=True)"
   ]
  },
  {
   "cell_type": "code",
   "execution_count": 27,
   "metadata": {
    "scrolled": true
   },
   "outputs": [
    {
     "data": {
      "text/plain": [
       "FLIGHT              0\n",
       "AC_sns              0\n",
       "TIME_sns            0\n",
       "AMBIENT_1           0\n",
       "PAR_SYS_1           0\n",
       "PAR_SYS_9           0\n",
       "TIME_msg        97575\n",
       "FLIGHT_PHASE    97575\n",
       "TYPE            97575\n",
       "MESSAGE         97575\n",
       "MAINTENANCE         0\n",
       "dtype: int64"
      ]
     },
     "execution_count": 27,
     "metadata": {},
     "output_type": "execute_result"
    }
   ],
   "source": [
    "# Checando o número de null values após o left join\n",
    "model_data.isnull().sum()"
   ]
  },
  {
   "cell_type": "code",
   "execution_count": 28,
   "metadata": {},
   "outputs": [],
   "source": [
    "# Preenchendo os valores nulos\n",
    "model_data['TIME_msg'].fillna(0,inplace=True) # Preenchendo com valor O para o caso dos sensores em que não há mensagem\n",
    "model_data['FLIGHT_PHASE'].fillna(0,inplace=True) # Preenchendo com valor 0 para o caso dos sensores em que não há mensagem\n",
    "model_data['TYPE'].fillna('SM',inplace=True) # SM =  Sem Mensagem\n",
    "model_data['MESSAGE'].fillna(100,inplace=True) # Codigo correspondente ao caso da ausência de messagem"
   ]
  },
  {
   "cell_type": "code",
   "execution_count": 29,
   "metadata": {},
   "outputs": [
    {
     "data": {
      "text/plain": [
       "Index(['FLIGHT', 'AC_sns', 'TIME_sns', 'AMBIENT_1', 'PAR_SYS_1', 'PAR_SYS_9',\n",
       "       'TIME_msg', 'FLIGHT_PHASE', 'TYPE', 'MESSAGE', 'MAINTENANCE'],\n",
       "      dtype='object')"
      ]
     },
     "execution_count": 29,
     "metadata": {},
     "output_type": "execute_result"
    }
   ],
   "source": [
    "# Colunas\n",
    "model_data.columns"
   ]
  },
  {
   "cell_type": "code",
   "execution_count": 30,
   "metadata": {},
   "outputs": [],
   "source": [
    "# Renomeando as colunas\n",
    "model_data.columns = ['flight','ac','sensor_time','sensor_ambient',\n",
    "                      'sensor_par_sys_1','sensor_par_sys_9',\n",
    "                      'message_time','flight_phase','message_type',\n",
    "                      'message','target']"
   ]
  },
  {
   "cell_type": "code",
   "execution_count": 31,
   "metadata": {},
   "outputs": [
    {
     "data": {
      "text/html": [
       "<div>\n",
       "<style scoped>\n",
       "    .dataframe tbody tr th:only-of-type {\n",
       "        vertical-align: middle;\n",
       "    }\n",
       "\n",
       "    .dataframe tbody tr th {\n",
       "        vertical-align: top;\n",
       "    }\n",
       "\n",
       "    .dataframe thead th {\n",
       "        text-align: right;\n",
       "    }\n",
       "</style>\n",
       "<table border=\"1\" class=\"dataframe\">\n",
       "  <thead>\n",
       "    <tr style=\"text-align: right;\">\n",
       "      <th></th>\n",
       "      <th>flight</th>\n",
       "      <th>ac</th>\n",
       "      <th>sensor_time</th>\n",
       "      <th>sensor_ambient</th>\n",
       "      <th>sensor_par_sys_1</th>\n",
       "      <th>sensor_par_sys_9</th>\n",
       "      <th>message_time</th>\n",
       "      <th>flight_phase</th>\n",
       "      <th>message_type</th>\n",
       "      <th>message</th>\n",
       "      <th>target</th>\n",
       "    </tr>\n",
       "  </thead>\n",
       "  <tbody>\n",
       "    <tr>\n",
       "      <th>0</th>\n",
       "      <td>006042</td>\n",
       "      <td>AC19</td>\n",
       "      <td>3115</td>\n",
       "      <td>11723.0</td>\n",
       "      <td>65.375</td>\n",
       "      <td>0.0</td>\n",
       "      <td>0</td>\n",
       "      <td>0</td>\n",
       "      <td>SM</td>\n",
       "      <td>100</td>\n",
       "      <td>4</td>\n",
       "    </tr>\n",
       "    <tr>\n",
       "      <th>1</th>\n",
       "      <td>006042</td>\n",
       "      <td>AC19</td>\n",
       "      <td>3132</td>\n",
       "      <td>11721.0</td>\n",
       "      <td>65.375</td>\n",
       "      <td>0.0</td>\n",
       "      <td>0</td>\n",
       "      <td>0</td>\n",
       "      <td>SM</td>\n",
       "      <td>100</td>\n",
       "      <td>4</td>\n",
       "    </tr>\n",
       "    <tr>\n",
       "      <th>2</th>\n",
       "      <td>006042</td>\n",
       "      <td>AC19</td>\n",
       "      <td>3204</td>\n",
       "      <td>11721.0</td>\n",
       "      <td>44.250</td>\n",
       "      <td>0.0</td>\n",
       "      <td>0</td>\n",
       "      <td>0</td>\n",
       "      <td>SM</td>\n",
       "      <td>100</td>\n",
       "      <td>4</td>\n",
       "    </tr>\n",
       "    <tr>\n",
       "      <th>3</th>\n",
       "      <td>006042</td>\n",
       "      <td>AC19</td>\n",
       "      <td>3218</td>\n",
       "      <td>11721.5</td>\n",
       "      <td>43.875</td>\n",
       "      <td>0.0</td>\n",
       "      <td>0</td>\n",
       "      <td>0</td>\n",
       "      <td>SM</td>\n",
       "      <td>100</td>\n",
       "      <td>4</td>\n",
       "    </tr>\n",
       "    <tr>\n",
       "      <th>4</th>\n",
       "      <td>006042</td>\n",
       "      <td>AC19</td>\n",
       "      <td>3266</td>\n",
       "      <td>11721.0</td>\n",
       "      <td>42.875</td>\n",
       "      <td>0.0</td>\n",
       "      <td>0</td>\n",
       "      <td>0</td>\n",
       "      <td>SM</td>\n",
       "      <td>100</td>\n",
       "      <td>4</td>\n",
       "    </tr>\n",
       "    <tr>\n",
       "      <th>...</th>\n",
       "      <td>...</td>\n",
       "      <td>...</td>\n",
       "      <td>...</td>\n",
       "      <td>...</td>\n",
       "      <td>...</td>\n",
       "      <td>...</td>\n",
       "      <td>...</td>\n",
       "      <td>...</td>\n",
       "      <td>...</td>\n",
       "      <td>...</td>\n",
       "      <td>...</td>\n",
       "    </tr>\n",
       "    <tr>\n",
       "      <th>617578</th>\n",
       "      <td>fe38f6</td>\n",
       "      <td>AC36</td>\n",
       "      <td>5538</td>\n",
       "      <td>12225.5</td>\n",
       "      <td>44.375</td>\n",
       "      <td>0.0</td>\n",
       "      <td>0</td>\n",
       "      <td>0</td>\n",
       "      <td>SM</td>\n",
       "      <td>100</td>\n",
       "      <td>10</td>\n",
       "    </tr>\n",
       "    <tr>\n",
       "      <th>617579</th>\n",
       "      <td>fe38f6</td>\n",
       "      <td>AC36</td>\n",
       "      <td>5549</td>\n",
       "      <td>12222.0</td>\n",
       "      <td>44.500</td>\n",
       "      <td>0.0</td>\n",
       "      <td>0</td>\n",
       "      <td>0</td>\n",
       "      <td>SM</td>\n",
       "      <td>100</td>\n",
       "      <td>10</td>\n",
       "    </tr>\n",
       "    <tr>\n",
       "      <th>617580</th>\n",
       "      <td>fe38f6</td>\n",
       "      <td>AC36</td>\n",
       "      <td>5583</td>\n",
       "      <td>12220.5</td>\n",
       "      <td>44.000</td>\n",
       "      <td>0.0</td>\n",
       "      <td>0</td>\n",
       "      <td>0</td>\n",
       "      <td>SM</td>\n",
       "      <td>100</td>\n",
       "      <td>10</td>\n",
       "    </tr>\n",
       "    <tr>\n",
       "      <th>617581</th>\n",
       "      <td>fe38f6</td>\n",
       "      <td>AC36</td>\n",
       "      <td>5592</td>\n",
       "      <td>12222.0</td>\n",
       "      <td>44.125</td>\n",
       "      <td>0.0</td>\n",
       "      <td>0</td>\n",
       "      <td>0</td>\n",
       "      <td>SM</td>\n",
       "      <td>100</td>\n",
       "      <td>10</td>\n",
       "    </tr>\n",
       "    <tr>\n",
       "      <th>617582</th>\n",
       "      <td>fe38f6</td>\n",
       "      <td>AC36</td>\n",
       "      <td>5689</td>\n",
       "      <td>12230.0</td>\n",
       "      <td>44.375</td>\n",
       "      <td>0.0</td>\n",
       "      <td>0</td>\n",
       "      <td>0</td>\n",
       "      <td>SM</td>\n",
       "      <td>100</td>\n",
       "      <td>10</td>\n",
       "    </tr>\n",
       "  </tbody>\n",
       "</table>\n",
       "<p>617583 rows × 11 columns</p>\n",
       "</div>"
      ],
      "text/plain": [
       "        flight    ac  sensor_time  sensor_ambient  sensor_par_sys_1  \\\n",
       "0       006042  AC19         3115         11723.0            65.375   \n",
       "1       006042  AC19         3132         11721.0            65.375   \n",
       "2       006042  AC19         3204         11721.0            44.250   \n",
       "3       006042  AC19         3218         11721.5            43.875   \n",
       "4       006042  AC19         3266         11721.0            42.875   \n",
       "...        ...   ...          ...             ...               ...   \n",
       "617578  fe38f6  AC36         5538         12225.5            44.375   \n",
       "617579  fe38f6  AC36         5549         12222.0            44.500   \n",
       "617580  fe38f6  AC36         5583         12220.5            44.000   \n",
       "617581  fe38f6  AC36         5592         12222.0            44.125   \n",
       "617582  fe38f6  AC36         5689         12230.0            44.375   \n",
       "\n",
       "        sensor_par_sys_9  message_time  flight_phase message_type  message  \\\n",
       "0                    0.0             0             0           SM      100   \n",
       "1                    0.0             0             0           SM      100   \n",
       "2                    0.0             0             0           SM      100   \n",
       "3                    0.0             0             0           SM      100   \n",
       "4                    0.0             0             0           SM      100   \n",
       "...                  ...           ...           ...          ...      ...   \n",
       "617578               0.0             0             0           SM      100   \n",
       "617579               0.0             0             0           SM      100   \n",
       "617580               0.0             0             0           SM      100   \n",
       "617581               0.0             0             0           SM      100   \n",
       "617582               0.0             0             0           SM      100   \n",
       "\n",
       "        target  \n",
       "0            4  \n",
       "1            4  \n",
       "2            4  \n",
       "3            4  \n",
       "4            4  \n",
       "...        ...  \n",
       "617578      10  \n",
       "617579      10  \n",
       "617580      10  \n",
       "617581      10  \n",
       "617582      10  \n",
       "\n",
       "[617583 rows x 11 columns]"
      ]
     },
     "execution_count": 31,
     "metadata": {},
     "output_type": "execute_result"
    }
   ],
   "source": [
    "model_data['sensor_time'] = model_data['sensor_time'].astype(int)\n",
    "\n",
    "model_data"
   ]
  },
  {
   "cell_type": "markdown",
   "metadata": {},
   "source": [
    "### Encoding de Variáveis Categóricas"
   ]
  },
  {
   "cell_type": "code",
   "execution_count": 32,
   "metadata": {},
   "outputs": [],
   "source": [
    "# Filtrando somente os colunas categóricas\n",
    "num_cols = model_data._get_numeric_data().columns\n",
    "cat_cols = set(model_data.columns) - set(num_cols) # Armazenando colunas categóricas"
   ]
  },
  {
   "cell_type": "code",
   "execution_count": 33,
   "metadata": {},
   "outputs": [
    {
     "data": {
      "text/plain": [
       "{'ac', 'flight', 'message_type'}"
      ]
     },
     "execution_count": 33,
     "metadata": {},
     "output_type": "execute_result"
    }
   ],
   "source": [
    "# Printando as variáveis categóricas\n",
    "cat_cols"
   ]
  },
  {
   "cell_type": "code",
   "execution_count": 34,
   "metadata": {},
   "outputs": [],
   "source": [
    "# Função auxiliar para calcular média suavizada (Target Encoding)\n",
    "def calc_smooth_mean(df,cat_name,target,weight):\n",
    "    # Compute the global mean\n",
    "    mean = df[target].mean()\n",
    "    \n",
    "    # Compute the number of values and the mean of each group\n",
    "    agg = df.groupby(cat_name)[target].agg(['count','mean'])\n",
    "    counts = agg['count']\n",
    "    means = agg['mean']\n",
    "    \n",
    "    # Compute the smoothed means\n",
    "    smooth = (counts*means + weight*mean)/(counts+weight)\n",
    "    \n",
    "    return df[cat_name].map(smooth)\n",
    "\n",
    "# Função que substitui a variável categórica pelo seu número de ocorrências\n",
    "def hash_function(df,cat_name):\n",
    "    return df[cat_name].progress_apply(lambda x: mmh3.hash(x,seed=42,signed=False))"
   ]
  },
  {
   "cell_type": "code",
   "execution_count": 35,
   "metadata": {},
   "outputs": [
    {
     "data": {
      "application/vnd.jupyter.widget-view+json": {
       "model_id": "a7c5ee747c1649459eb84cfd4a42fbb1",
       "version_major": 2,
       "version_minor": 0
      },
      "text/plain": [
       "HBox(children=(FloatProgress(value=0.0, max=617583.0), HTML(value='')))"
      ]
     },
     "metadata": {},
     "output_type": "display_data"
    },
    {
     "name": "stdout",
     "output_type": "stream",
     "text": [
      "\n"
     ]
    },
    {
     "data": {
      "application/vnd.jupyter.widget-view+json": {
       "model_id": "da6dfe8cf3884b7895b701496b01fd5e",
       "version_major": 2,
       "version_minor": 0
      },
      "text/plain": [
       "HBox(children=(FloatProgress(value=0.0, max=617583.0), HTML(value='')))"
      ]
     },
     "metadata": {},
     "output_type": "display_data"
    },
    {
     "name": "stdout",
     "output_type": "stream",
     "text": [
      "\n"
     ]
    },
    {
     "data": {
      "application/vnd.jupyter.widget-view+json": {
       "model_id": "2aabe921cc5c42cdb4d5aa5fe05c54b0",
       "version_major": 2,
       "version_minor": 0
      },
      "text/plain": [
       "HBox(children=(FloatProgress(value=0.0, max=617583.0), HTML(value='')))"
      ]
     },
     "metadata": {},
     "output_type": "display_data"
    },
    {
     "name": "stdout",
     "output_type": "stream",
     "text": [
      "\n"
     ]
    }
   ],
   "source": [
    "# Aplicando o encoding\n",
    "model_data['ac'] = hash_function(model_data,cat_name='ac')\n",
    "model_data['flight'] = hash_function(model_data,cat_name='flight')\n",
    "model_data['message_type'] = hash_function(model_data,cat_name='message_type')"
   ]
  },
  {
   "cell_type": "markdown",
   "metadata": {},
   "source": [
    "### Finalmente após todo o processo de Feature Engineering"
   ]
  },
  {
   "cell_type": "code",
   "execution_count": 36,
   "metadata": {},
   "outputs": [
    {
     "data": {
      "text/html": [
       "<div>\n",
       "<style scoped>\n",
       "    .dataframe tbody tr th:only-of-type {\n",
       "        vertical-align: middle;\n",
       "    }\n",
       "\n",
       "    .dataframe tbody tr th {\n",
       "        vertical-align: top;\n",
       "    }\n",
       "\n",
       "    .dataframe thead th {\n",
       "        text-align: right;\n",
       "    }\n",
       "</style>\n",
       "<table border=\"1\" class=\"dataframe\">\n",
       "  <thead>\n",
       "    <tr style=\"text-align: right;\">\n",
       "      <th></th>\n",
       "      <th>flight</th>\n",
       "      <th>ac</th>\n",
       "      <th>sensor_time</th>\n",
       "      <th>sensor_ambient</th>\n",
       "      <th>sensor_par_sys_1</th>\n",
       "      <th>sensor_par_sys_9</th>\n",
       "      <th>message_time</th>\n",
       "      <th>flight_phase</th>\n",
       "      <th>message_type</th>\n",
       "      <th>message</th>\n",
       "      <th>target</th>\n",
       "    </tr>\n",
       "  </thead>\n",
       "  <tbody>\n",
       "    <tr>\n",
       "      <th>0</th>\n",
       "      <td>3945526026</td>\n",
       "      <td>3272462994</td>\n",
       "      <td>3115</td>\n",
       "      <td>11723.0</td>\n",
       "      <td>65.375</td>\n",
       "      <td>0.0</td>\n",
       "      <td>0</td>\n",
       "      <td>0</td>\n",
       "      <td>101350308</td>\n",
       "      <td>100</td>\n",
       "      <td>4</td>\n",
       "    </tr>\n",
       "    <tr>\n",
       "      <th>1</th>\n",
       "      <td>3945526026</td>\n",
       "      <td>3272462994</td>\n",
       "      <td>3132</td>\n",
       "      <td>11721.0</td>\n",
       "      <td>65.375</td>\n",
       "      <td>0.0</td>\n",
       "      <td>0</td>\n",
       "      <td>0</td>\n",
       "      <td>101350308</td>\n",
       "      <td>100</td>\n",
       "      <td>4</td>\n",
       "    </tr>\n",
       "    <tr>\n",
       "      <th>2</th>\n",
       "      <td>3945526026</td>\n",
       "      <td>3272462994</td>\n",
       "      <td>3204</td>\n",
       "      <td>11721.0</td>\n",
       "      <td>44.250</td>\n",
       "      <td>0.0</td>\n",
       "      <td>0</td>\n",
       "      <td>0</td>\n",
       "      <td>101350308</td>\n",
       "      <td>100</td>\n",
       "      <td>4</td>\n",
       "    </tr>\n",
       "    <tr>\n",
       "      <th>3</th>\n",
       "      <td>3945526026</td>\n",
       "      <td>3272462994</td>\n",
       "      <td>3218</td>\n",
       "      <td>11721.5</td>\n",
       "      <td>43.875</td>\n",
       "      <td>0.0</td>\n",
       "      <td>0</td>\n",
       "      <td>0</td>\n",
       "      <td>101350308</td>\n",
       "      <td>100</td>\n",
       "      <td>4</td>\n",
       "    </tr>\n",
       "    <tr>\n",
       "      <th>4</th>\n",
       "      <td>3945526026</td>\n",
       "      <td>3272462994</td>\n",
       "      <td>3266</td>\n",
       "      <td>11721.0</td>\n",
       "      <td>42.875</td>\n",
       "      <td>0.0</td>\n",
       "      <td>0</td>\n",
       "      <td>0</td>\n",
       "      <td>101350308</td>\n",
       "      <td>100</td>\n",
       "      <td>4</td>\n",
       "    </tr>\n",
       "    <tr>\n",
       "      <th>...</th>\n",
       "      <td>...</td>\n",
       "      <td>...</td>\n",
       "      <td>...</td>\n",
       "      <td>...</td>\n",
       "      <td>...</td>\n",
       "      <td>...</td>\n",
       "      <td>...</td>\n",
       "      <td>...</td>\n",
       "      <td>...</td>\n",
       "      <td>...</td>\n",
       "      <td>...</td>\n",
       "    </tr>\n",
       "    <tr>\n",
       "      <th>617578</th>\n",
       "      <td>3552854091</td>\n",
       "      <td>1836135844</td>\n",
       "      <td>5538</td>\n",
       "      <td>12225.5</td>\n",
       "      <td>44.375</td>\n",
       "      <td>0.0</td>\n",
       "      <td>0</td>\n",
       "      <td>0</td>\n",
       "      <td>101350308</td>\n",
       "      <td>100</td>\n",
       "      <td>10</td>\n",
       "    </tr>\n",
       "    <tr>\n",
       "      <th>617579</th>\n",
       "      <td>3552854091</td>\n",
       "      <td>1836135844</td>\n",
       "      <td>5549</td>\n",
       "      <td>12222.0</td>\n",
       "      <td>44.500</td>\n",
       "      <td>0.0</td>\n",
       "      <td>0</td>\n",
       "      <td>0</td>\n",
       "      <td>101350308</td>\n",
       "      <td>100</td>\n",
       "      <td>10</td>\n",
       "    </tr>\n",
       "    <tr>\n",
       "      <th>617580</th>\n",
       "      <td>3552854091</td>\n",
       "      <td>1836135844</td>\n",
       "      <td>5583</td>\n",
       "      <td>12220.5</td>\n",
       "      <td>44.000</td>\n",
       "      <td>0.0</td>\n",
       "      <td>0</td>\n",
       "      <td>0</td>\n",
       "      <td>101350308</td>\n",
       "      <td>100</td>\n",
       "      <td>10</td>\n",
       "    </tr>\n",
       "    <tr>\n",
       "      <th>617581</th>\n",
       "      <td>3552854091</td>\n",
       "      <td>1836135844</td>\n",
       "      <td>5592</td>\n",
       "      <td>12222.0</td>\n",
       "      <td>44.125</td>\n",
       "      <td>0.0</td>\n",
       "      <td>0</td>\n",
       "      <td>0</td>\n",
       "      <td>101350308</td>\n",
       "      <td>100</td>\n",
       "      <td>10</td>\n",
       "    </tr>\n",
       "    <tr>\n",
       "      <th>617582</th>\n",
       "      <td>3552854091</td>\n",
       "      <td>1836135844</td>\n",
       "      <td>5689</td>\n",
       "      <td>12230.0</td>\n",
       "      <td>44.375</td>\n",
       "      <td>0.0</td>\n",
       "      <td>0</td>\n",
       "      <td>0</td>\n",
       "      <td>101350308</td>\n",
       "      <td>100</td>\n",
       "      <td>10</td>\n",
       "    </tr>\n",
       "  </tbody>\n",
       "</table>\n",
       "<p>617583 rows × 11 columns</p>\n",
       "</div>"
      ],
      "text/plain": [
       "            flight          ac  sensor_time  sensor_ambient  sensor_par_sys_1  \\\n",
       "0       3945526026  3272462994         3115         11723.0            65.375   \n",
       "1       3945526026  3272462994         3132         11721.0            65.375   \n",
       "2       3945526026  3272462994         3204         11721.0            44.250   \n",
       "3       3945526026  3272462994         3218         11721.5            43.875   \n",
       "4       3945526026  3272462994         3266         11721.0            42.875   \n",
       "...            ...         ...          ...             ...               ...   \n",
       "617578  3552854091  1836135844         5538         12225.5            44.375   \n",
       "617579  3552854091  1836135844         5549         12222.0            44.500   \n",
       "617580  3552854091  1836135844         5583         12220.5            44.000   \n",
       "617581  3552854091  1836135844         5592         12222.0            44.125   \n",
       "617582  3552854091  1836135844         5689         12230.0            44.375   \n",
       "\n",
       "        sensor_par_sys_9  message_time  flight_phase  message_type  message  \\\n",
       "0                    0.0             0             0     101350308      100   \n",
       "1                    0.0             0             0     101350308      100   \n",
       "2                    0.0             0             0     101350308      100   \n",
       "3                    0.0             0             0     101350308      100   \n",
       "4                    0.0             0             0     101350308      100   \n",
       "...                  ...           ...           ...           ...      ...   \n",
       "617578               0.0             0             0     101350308      100   \n",
       "617579               0.0             0             0     101350308      100   \n",
       "617580               0.0             0             0     101350308      100   \n",
       "617581               0.0             0             0     101350308      100   \n",
       "617582               0.0             0             0     101350308      100   \n",
       "\n",
       "        target  \n",
       "0            4  \n",
       "1            4  \n",
       "2            4  \n",
       "3            4  \n",
       "4            4  \n",
       "...        ...  \n",
       "617578      10  \n",
       "617579      10  \n",
       "617580      10  \n",
       "617581      10  \n",
       "617582      10  \n",
       "\n",
       "[617583 rows x 11 columns]"
      ]
     },
     "execution_count": 36,
     "metadata": {},
     "output_type": "execute_result"
    }
   ],
   "source": [
    "model_data"
   ]
  },
  {
   "cell_type": "markdown",
   "metadata": {},
   "source": [
    "## Implementando o modelo XGBoost"
   ]
  },
  {
   "cell_type": "code",
   "execution_count": 37,
   "metadata": {},
   "outputs": [],
   "source": [
    "# Bibliotecas para rodar o modelo e testar sua eficiência\n",
    "from sklearn.model_selection import train_test_split\n",
    "import xgboost as xgb"
   ]
  },
  {
   "cell_type": "code",
   "execution_count": 38,
   "metadata": {},
   "outputs": [],
   "source": [
    "# Separando as features e a target\n",
    "X,y = model_data.iloc[:,:-1],model_data.iloc[:,-1]"
   ]
  },
  {
   "cell_type": "code",
   "execution_count": 39,
   "metadata": {},
   "outputs": [],
   "source": [
    "# Separando Train e Validation sets\n",
    "X_train,X_valid,y_train,y_valid = train_test_split(X,y,test_size=0.2,random_state=41)"
   ]
  },
  {
   "cell_type": "code",
   "execution_count": 40,
   "metadata": {},
   "outputs": [],
   "source": [
    "# Instaciando o XGBoost Regressor\n",
    "xg_reg = xgb.XGBRegressor(objective ='reg:squarederror', colsample_bytree = 0.3, learning_rate = 0.1,verbosity=1,\n",
    "                max_depth = 5, alpha = 10, n_estimators = 10)"
   ]
  },
  {
   "cell_type": "code",
   "execution_count": 41,
   "metadata": {},
   "outputs": [
    {
     "data": {
      "text/plain": [
       "XGBRegressor(alpha=10, base_score=0.5, booster='gbtree', colsample_bylevel=1,\n",
       "             colsample_bynode=1, colsample_bytree=0.3, gamma=0,\n",
       "             importance_type='gain', learning_rate=0.1, max_delta_step=0,\n",
       "             max_depth=5, min_child_weight=1, missing=None, n_estimators=10,\n",
       "             n_jobs=1, nthread=None, objective='reg:squarederror',\n",
       "             random_state=0, reg_alpha=0, reg_lambda=1, scale_pos_weight=1,\n",
       "             seed=None, silent=None, subsample=1, verbosity=1)"
      ]
     },
     "execution_count": 41,
     "metadata": {},
     "output_type": "execute_result"
    }
   ],
   "source": [
    "# Por fim, treinando o modelo\n",
    "xg_reg.fit(X_train,y_train)"
   ]
  },
  {
   "cell_type": "code",
   "execution_count": 42,
   "metadata": {},
   "outputs": [
    {
     "name": "stdout",
     "output_type": "stream",
     "text": [
      "RMSE: 4.565172\n"
     ]
    }
   ],
   "source": [
    "from sklearn.metrics import mean_squared_error\n",
    "# Testando a acurácia do modelo com a validation data\n",
    "pred_train = xg_reg.predict(X_valid)\n",
    "\n",
    "rmse = np.sqrt(mean_squared_error(y_valid, pred_train))\n",
    "print(\"RMSE: %f\" % (rmse))"
   ]
  },
  {
   "cell_type": "markdown",
   "metadata": {},
   "source": [
    "### Previsão dos dados sem Label"
   ]
  },
  {
   "cell_type": "code",
   "execution_count": 43,
   "metadata": {},
   "outputs": [],
   "source": [
    "# Separando base de dados para teste (com label desconhecido)\n",
    "public_flights = set(public['FLIGHT'].unique())\n",
    "sensors_flights = set(sensors['FLIGHT'].unique())\n",
    "\n",
    "test_flights = sensors_flights - public_flights"
   ]
  },
  {
   "cell_type": "markdown",
   "metadata": {},
   "source": [
    "#### Preparando o vetor das features para esses dados"
   ]
  },
  {
   "cell_type": "code",
   "execution_count": 44,
   "metadata": {},
   "outputs": [],
   "source": [
    "# Slicing\n",
    "sensors_test = sensors[sensors['FLIGHT'].isin(test_flights)].copy()\n",
    "messages_test = messages[messages['FLIGHT'].isin(test_flights)].copy()"
   ]
  },
  {
   "cell_type": "code",
   "execution_count": 45,
   "metadata": {},
   "outputs": [],
   "source": [
    "# Tirando as duplicatas\n",
    "sensors_test.drop_duplicates(inplace=True)\n",
    "messages_test.drop_duplicates(inplace=True)"
   ]
  },
  {
   "cell_type": "code",
   "execution_count": 46,
   "metadata": {},
   "outputs": [
    {
     "data": {
      "application/vnd.jupyter.widget-view+json": {
       "model_id": "43eac4b6b63a486f90709bdd459d6226",
       "version_major": 2,
       "version_minor": 0
      },
      "text/plain": [
       "HBox(children=(FloatProgress(value=0.0, max=451.0), HTML(value='')))"
      ]
     },
     "metadata": {},
     "output_type": "display_data"
    },
    {
     "name": "stdout",
     "output_type": "stream",
     "text": [
      "\n"
     ]
    },
    {
     "data": {
      "application/vnd.jupyter.widget-view+json": {
       "model_id": "efdd00ab581447058a224b7e5d9436d9",
       "version_major": 2,
       "version_minor": 0
      },
      "text/plain": [
       "HBox(children=(FloatProgress(value=0.0, max=264.0), HTML(value='')))"
      ]
     },
     "metadata": {},
     "output_type": "display_data"
    },
    {
     "name": "stdout",
     "output_type": "stream",
     "text": [
      "\n"
     ]
    }
   ],
   "source": [
    "# Limitando o número de Linhas por Voo nas tabelas\n",
    "sensors_test = limitNumberOfRowsPerFlight(sensors_test,'FLIGHT',200)\n",
    "messages_test = limitNumberOfRowsPerFlight(messages_test,'FLIGHT',200)"
   ]
  },
  {
   "cell_type": "code",
   "execution_count": 47,
   "metadata": {},
   "outputs": [],
   "source": [
    "# Retirando colunas nulas\n",
    "drop_columns = ['WAR_SYS_1','COM_SYS_1','WAR_SYS_2','WAR_SYS_3','PAR_AC_3','PAR_AC_4','PAR_SYS_5','PAR_SYS_6']\n",
    "sensors_test.drop(drop_columns,axis=1,inplace=True)\n",
    "\n",
    "# Escolhendo somente as colunas importantes\n",
    "sensors_test = sensors_test[['AC','FLIGHT','TIME','AMBIENT_1','PAR_SYS_1','PAR_SYS_9']]"
   ]
  },
  {
   "cell_type": "code",
   "execution_count": 48,
   "metadata": {},
   "outputs": [
    {
     "data": {
      "application/vnd.jupyter.widget-view+json": {
       "model_id": "65fd762ca336438b875ba6afff25141a",
       "version_major": 2,
       "version_minor": 0
      },
      "text/plain": [
       "HBox(children=(FloatProgress(value=0.0, max=10.0), HTML(value='')))"
      ]
     },
     "metadata": {},
     "output_type": "display_data"
    },
    {
     "name": "stdout",
     "output_type": "stream",
     "text": [
      "\n"
     ]
    }
   ],
   "source": [
    "# Mudança de índices\n",
    "sensors_test.set_index('FLIGHT',inplace=True)\n",
    "messages_test.set_index('FLIGHT',inplace=True)\n",
    "\n",
    "# Mergiando \n",
    "x_test = sensors_test.merge(messages_test,left_on=\"FLIGHT\",right_on=\"FLIGHT\",how=\"left\",suffixes=('_sns','_msg')).progress_apply(lambda x: x)\n",
    "x_test.drop('AC_msg',axis=1,inplace=True)\n",
    "x_test.reset_index(inplace=True)"
   ]
  },
  {
   "cell_type": "code",
   "execution_count": 49,
   "metadata": {},
   "outputs": [],
   "source": [
    "# Preenchendo os valores nulos\n",
    "x_test['TIME_msg'].fillna(0,inplace=True)  \n",
    "x_test['FLIGHT_PHASE'].fillna(0,inplace=True) \n",
    "x_test['TYPE'].fillna('SM',inplace=True) \n",
    "x_test['MESSAGE'].fillna(100,inplace=True)\n",
    "\n",
    "# Renomendo as colunas\n",
    "x_test.columns = ['flight','ac','sensor_time','sensor_ambient',\n",
    "                      'sensor_par_sys_1','sensor_par_sys_9',\n",
    "                      'message_time','flight_phase','message_type',\n",
    "                      'message']\n",
    "    \n",
    "x_test['sensor_time'] = x_test['sensor_time'].astype(int)"
   ]
  },
  {
   "cell_type": "code",
   "execution_count": 50,
   "metadata": {},
   "outputs": [
    {
     "data": {
      "application/vnd.jupyter.widget-view+json": {
       "model_id": "5cab8f3265d342d9b673d1656c8f4ae6",
       "version_major": 2,
       "version_minor": 0
      },
      "text/plain": [
       "HBox(children=(FloatProgress(value=0.0, max=630800.0), HTML(value='')))"
      ]
     },
     "metadata": {},
     "output_type": "display_data"
    },
    {
     "name": "stdout",
     "output_type": "stream",
     "text": [
      "\n"
     ]
    },
    {
     "data": {
      "application/vnd.jupyter.widget-view+json": {
       "model_id": "0e574b2fca4d408b8d226592286413b4",
       "version_major": 2,
       "version_minor": 0
      },
      "text/plain": [
       "HBox(children=(FloatProgress(value=0.0, max=630800.0), HTML(value='')))"
      ]
     },
     "metadata": {},
     "output_type": "display_data"
    },
    {
     "name": "stdout",
     "output_type": "stream",
     "text": [
      "\n"
     ]
    },
    {
     "data": {
      "application/vnd.jupyter.widget-view+json": {
       "model_id": "4dd947afb4eb4ea58979c267df843757",
       "version_major": 2,
       "version_minor": 0
      },
      "text/plain": [
       "HBox(children=(FloatProgress(value=0.0, max=630800.0), HTML(value='')))"
      ]
     },
     "metadata": {},
     "output_type": "display_data"
    },
    {
     "name": "stdout",
     "output_type": "stream",
     "text": [
      "\n"
     ]
    }
   ],
   "source": [
    "# Tratando as variáveis categóricas\n",
    "num_cols = x_test._get_numeric_data().columns\n",
    "cat_cols = set(x_test.columns) - set(num_cols)\n",
    "\n",
    "# Salvando lista de voos, na ordem certa\n",
    "test_flights_correct_order = x_test['flight']\n",
    "\n",
    "# Aplicando Hash Function\n",
    "x_test['ac'] = hash_function(x_test,cat_name='ac')\n",
    "x_test['flight'] = hash_function(x_test,cat_name='flight')\n",
    "x_test['message_type'] = hash_function(x_test,cat_name='message_type')"
   ]
  },
  {
   "cell_type": "code",
   "execution_count": 51,
   "metadata": {},
   "outputs": [],
   "source": [
    "# Prevendo os dados de acorod com o modelo\n",
    "y = xg_reg.predict(x_test)"
   ]
  },
  {
   "cell_type": "code",
   "execution_count": 81,
   "metadata": {
    "scrolled": false
   },
   "outputs": [
    {
     "data": {
      "application/vnd.jupyter.widget-view+json": {
       "model_id": "626f9b1962344df79d2206152d019bfb",
       "version_major": 2,
       "version_minor": 0
      },
      "text/plain": [
       "HBox(children=(FloatProgress(value=0.0, max=451.0), HTML(value='')))"
      ]
     },
     "metadata": {},
     "output_type": "display_data"
    },
    {
     "name": "stdout",
     "output_type": "stream",
     "text": [
      "\n"
     ]
    }
   ],
   "source": [
    "# Formatando os dados para a saída prevista pelo Kaggle\n",
    "data = x_test.copy()\n",
    "data['target'] = list(y)\n",
    "data['flight'] = test_flights_correct_order\n",
    "output = data.groupby('flight')['target'].mean().progress_apply(lambda x:x)\n",
    "\n",
    "# Ajustando o DF\n",
    "df = output.reset_index()\n",
    "df.index = np.arange(1,len(output)+1)\n",
    "df.columns = ['FLIGHT','MAINTENANCE']"
   ]
  },
  {
   "cell_type": "code",
   "execution_count": 95,
   "metadata": {},
   "outputs": [],
   "source": [
    "# Exportando a previsão para .CSV\n",
    "df.to_csv('first_prediction.csv',index=False)"
   ]
  },
  {
   "cell_type": "code",
   "execution_count": 55,
   "metadata": {},
   "outputs": [
    {
     "data": {
      "application/vnd.jupyter.widget-view+json": {
       "model_id": "6a4fab4f25a94559af7d59b49ca46479",
       "version_major": 2,
       "version_minor": 0
      },
      "text/plain": [
       "HBox(children=(FloatProgress(value=0.0, max=451.0), HTML(value='')))"
      ]
     },
     "metadata": {},
     "output_type": "display_data"
    },
    {
     "data": {
      "application/vnd.jupyter.widget-view+json": {
       "model_id": "2137458152504dcd9b84d8806efc2b03",
       "version_major": 2,
       "version_minor": 0
      },
      "text/plain": [
       "HBox(children=(FloatProgress(value=0.0, max=200.0), HTML(value='')))"
      ]
     },
     "metadata": {},
     "output_type": "display_data"
    },
    {
     "name": "stdout",
     "output_type": "stream",
     "text": [
      "\n"
     ]
    },
    {
     "data": {
      "application/vnd.jupyter.widget-view+json": {
       "model_id": "71e5e7dc766f46f5a55e50716820bb50",
       "version_major": 2,
       "version_minor": 0
      },
      "text/plain": [
       "HBox(children=(FloatProgress(value=0.0, max=200.0), HTML(value='')))"
      ]
     },
     "metadata": {},
     "output_type": "display_data"
    },
    {
     "name": "stdout",
     "output_type": "stream",
     "text": [
      "\n"
     ]
    },
    {
     "data": {
      "application/vnd.jupyter.widget-view+json": {
       "model_id": "d9b6d033856b44639eff60d6b6bf53bf",
       "version_major": 2,
       "version_minor": 0
      },
      "text/plain": [
       "HBox(children=(FloatProgress(value=0.0, max=200.0), HTML(value='')))"
      ]
     },
     "metadata": {},
     "output_type": "display_data"
    },
    {
     "name": "stdout",
     "output_type": "stream",
     "text": [
      "\n",
      "\n"
     ]
    },
    {
     "ename": "ValueError",
     "evalue": "DataFrame.dtypes for data must be int, float or bool.\n                Did not expect the data types in fields sensor_time",
     "output_type": "error",
     "traceback": [
      "\u001b[0;31m---------------------------------------------------------------------------\u001b[0m",
      "\u001b[0;31mValueError\u001b[0m                                Traceback (most recent call last)",
      "\u001b[0;32m<ipython-input-55-0c9a18710662>\u001b[0m in \u001b[0;36m<module>\u001b[0;34m\u001b[0m\n\u001b[1;32m     31\u001b[0m     \u001b[0mx_test\u001b[0m\u001b[0;34m[\u001b[0m\u001b[0;34m'message_type'\u001b[0m\u001b[0;34m]\u001b[0m \u001b[0;34m=\u001b[0m \u001b[0mhash_function\u001b[0m\u001b[0;34m(\u001b[0m\u001b[0mx_test\u001b[0m\u001b[0;34m,\u001b[0m\u001b[0mcat_name\u001b[0m\u001b[0;34m=\u001b[0m\u001b[0;34m'message_type'\u001b[0m\u001b[0;34m)\u001b[0m\u001b[0;34m\u001b[0m\u001b[0;34m\u001b[0m\u001b[0m\n\u001b[1;32m     32\u001b[0m \u001b[0;34m\u001b[0m\u001b[0m\n\u001b[0;32m---> 33\u001b[0;31m     \u001b[0mfinal_predictions\u001b[0m\u001b[0;34m[\u001b[0m\u001b[0mf\u001b[0m\u001b[0;34m]\u001b[0m \u001b[0;34m=\u001b[0m \u001b[0mfloat\u001b[0m\u001b[0;34m(\u001b[0m\u001b[0mxg_reg\u001b[0m\u001b[0;34m.\u001b[0m\u001b[0mpredict\u001b[0m\u001b[0;34m(\u001b[0m\u001b[0mx_test\u001b[0m\u001b[0;34m)\u001b[0m\u001b[0;34m[\u001b[0m\u001b[0;36m0\u001b[0m\u001b[0;34m]\u001b[0m\u001b[0;34m)\u001b[0m\u001b[0;34m\u001b[0m\u001b[0;34m\u001b[0m\u001b[0m\n\u001b[0m\u001b[1;32m     34\u001b[0m     \u001b[0mi\u001b[0m \u001b[0;34m+=\u001b[0m \u001b[0;36m1\u001b[0m\u001b[0;34m\u001b[0m\u001b[0;34m\u001b[0m\u001b[0m\n\u001b[1;32m     35\u001b[0m     \u001b[0mprint\u001b[0m\u001b[0;34m(\u001b[0m\u001b[0;34m'Number of predicted values: '\u001b[0m\u001b[0;34m,\u001b[0m\u001b[0mi\u001b[0m\u001b[0;34m)\u001b[0m\u001b[0;34m\u001b[0m\u001b[0;34m\u001b[0m\u001b[0m\n",
      "\u001b[0;32m~/xgboost/python-package/xgboost/sklearn.py\u001b[0m in \u001b[0;36mpredict\u001b[0;34m(self, data, output_margin, ntree_limit, validate_features)\u001b[0m\n\u001b[1;32m    446\u001b[0m         \"\"\"\n\u001b[1;32m    447\u001b[0m         \u001b[0;31m# pylint: disable=missing-docstring,invalid-name\u001b[0m\u001b[0;34m\u001b[0m\u001b[0;34m\u001b[0m\u001b[0;34m\u001b[0m\u001b[0m\n\u001b[0;32m--> 448\u001b[0;31m         \u001b[0mtest_dmatrix\u001b[0m \u001b[0;34m=\u001b[0m \u001b[0mDMatrix\u001b[0m\u001b[0;34m(\u001b[0m\u001b[0mdata\u001b[0m\u001b[0;34m,\u001b[0m \u001b[0mmissing\u001b[0m\u001b[0;34m=\u001b[0m\u001b[0mself\u001b[0m\u001b[0;34m.\u001b[0m\u001b[0mmissing\u001b[0m\u001b[0;34m,\u001b[0m \u001b[0mnthread\u001b[0m\u001b[0;34m=\u001b[0m\u001b[0mself\u001b[0m\u001b[0;34m.\u001b[0m\u001b[0mn_jobs\u001b[0m\u001b[0;34m)\u001b[0m\u001b[0;34m\u001b[0m\u001b[0;34m\u001b[0m\u001b[0m\n\u001b[0m\u001b[1;32m    449\u001b[0m         \u001b[0;31m# get ntree_limit to use - if none specified, default to\u001b[0m\u001b[0;34m\u001b[0m\u001b[0;34m\u001b[0m\u001b[0;34m\u001b[0m\u001b[0m\n\u001b[1;32m    450\u001b[0m         \u001b[0;31m# best_ntree_limit if defined, otherwise 0.\u001b[0m\u001b[0;34m\u001b[0m\u001b[0;34m\u001b[0m\u001b[0;34m\u001b[0m\u001b[0m\n",
      "\u001b[0;32m~/xgboost/python-package/xgboost/core.py\u001b[0m in \u001b[0;36m__init__\u001b[0;34m(self, data, label, missing, weight, silent, feature_names, feature_types, nthread)\u001b[0m\n\u001b[1;32m    378\u001b[0m         data, feature_names, feature_types = _maybe_pandas_data(data,\n\u001b[1;32m    379\u001b[0m                                                                 \u001b[0mfeature_names\u001b[0m\u001b[0;34m,\u001b[0m\u001b[0;34m\u001b[0m\u001b[0;34m\u001b[0m\u001b[0m\n\u001b[0;32m--> 380\u001b[0;31m                                                                 feature_types)\n\u001b[0m\u001b[1;32m    381\u001b[0m \u001b[0;34m\u001b[0m\u001b[0m\n\u001b[1;32m    382\u001b[0m         data, feature_names, feature_types = _maybe_dt_data(data,\n",
      "\u001b[0;32m~/xgboost/python-package/xgboost/core.py\u001b[0m in \u001b[0;36m_maybe_pandas_data\u001b[0;34m(data, feature_names, feature_types)\u001b[0m\n\u001b[1;32m    237\u001b[0m         msg = \"\"\"DataFrame.dtypes for data must be int, float or bool.\n\u001b[1;32m    238\u001b[0m                 Did not expect the data types in fields \"\"\"\n\u001b[0;32m--> 239\u001b[0;31m         \u001b[0;32mraise\u001b[0m \u001b[0mValueError\u001b[0m\u001b[0;34m(\u001b[0m\u001b[0mmsg\u001b[0m \u001b[0;34m+\u001b[0m \u001b[0;34m', '\u001b[0m\u001b[0;34m.\u001b[0m\u001b[0mjoin\u001b[0m\u001b[0;34m(\u001b[0m\u001b[0mbad_fields\u001b[0m\u001b[0;34m)\u001b[0m\u001b[0;34m)\u001b[0m\u001b[0;34m\u001b[0m\u001b[0;34m\u001b[0m\u001b[0m\n\u001b[0m\u001b[1;32m    240\u001b[0m \u001b[0;34m\u001b[0m\u001b[0m\n\u001b[1;32m    241\u001b[0m     \u001b[0;32mif\u001b[0m \u001b[0mfeature_names\u001b[0m \u001b[0;32mis\u001b[0m \u001b[0;32mNone\u001b[0m\u001b[0;34m:\u001b[0m\u001b[0;34m\u001b[0m\u001b[0;34m\u001b[0m\u001b[0m\n",
      "\u001b[0;31mValueError\u001b[0m: DataFrame.dtypes for data must be int, float or bool.\n                Did not expect the data types in fields sensor_time"
     ]
    }
   ],
   "source": [
    "## Pre processamento na forma de Iteração\n",
    "\"\"\"final_predictions = {}\n",
    "i = 0\n",
    "for f in nb_tqdm.tqdm(list(test_flights)):\n",
    "    sns = sensors_test[sensors_test['FLIGHT'] == f]\n",
    "    msg = messages_test[messages_test['FLIGHT'] == f]\n",
    "    \n",
    "    sns.set_index('FLIGHT',inplace=True)\n",
    "    msg.set_index('FLIGHT',inplace=True)\n",
    "    \n",
    "    x_test = sns.merge(msg,left_on=\"FLIGHT\", right_on=\"FLIGHT\",how=\"left\",suffixes=('_sns','_msg'))\n",
    "    x_test.drop('AC_msg',axis=1,inplace=True)\n",
    "    x_test.reset_index(inplace=True)\n",
    "    \n",
    "    x_test['TIME_msg'].fillna(0,inplace=True)  \n",
    "    x_test['FLIGHT_PHASE'].fillna(0,inplace=True) \n",
    "    x_test['TYPE'].fillna('SM',inplace=True) \n",
    "    x_test['MESSAGE'].fillna(100,inplace=True)\n",
    "    \n",
    "    x_test.columns = ['flight','ac','sensor_time','sensor_ambient',\n",
    "                      'sensor_par_sys_1','sensor_par_sys_9',\n",
    "                      'message_time','flight_phase','message_type',\n",
    "                      'message']\n",
    "    \n",
    "    x_test['sensor_time'] = x_test['sensor_time'].astype(int)\n",
    "    \n",
    "    num_cols = x_test._get_numeric_data().columns\n",
    "    cat_cols = set(x_test.columns) - set(num_cols)\n",
    "    \n",
    "    x_test['ac'] = hash_function(x_test,cat_name='ac')\n",
    "    x_test['flight'] = hash_function(x_test,cat_name='flight')\n",
    "    x_test['message_type'] = hash_function(x_test,cat_name='message_type')\n",
    "    \n",
    "    final_predictions[f] = float(xg_reg.predict(x_test)[0])\n",
    "    i += 1\n",
    "    print('Number of predicted values: ',i)\"\"\""
   ]
  },
  {
   "cell_type": "code",
   "execution_count": null,
   "metadata": {},
   "outputs": [],
   "source": []
  }
 ],
 "metadata": {
  "kernelspec": {
   "display_name": "Python 3",
   "language": "python",
   "name": "python3"
  },
  "language_info": {
   "codemirror_mode": {
    "name": "ipython",
    "version": 3
   },
   "file_extension": ".py",
   "mimetype": "text/x-python",
   "name": "python",
   "nbconvert_exporter": "python",
   "pygments_lexer": "ipython3",
   "version": "3.7.6"
  }
 },
 "nbformat": 4,
 "nbformat_minor": 4
}
